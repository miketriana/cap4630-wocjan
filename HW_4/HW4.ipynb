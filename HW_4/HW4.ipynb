{
  "nbformat": 4,
  "nbformat_minor": 0,
  "metadata": {
    "colab": {
      "name": "HW4",
      "provenance": [],
      "collapsed_sections": [],
      "authorship_tag": "ABX9TyO96i+qQef1YtPME5M/VDYs",
      "include_colab_link": true
    },
    "kernelspec": {
      "name": "python3",
      "display_name": "Python 3"
    }
  },
  "cells": [
    {
      "cell_type": "markdown",
      "metadata": {
        "id": "view-in-github",
        "colab_type": "text"
      },
      "source": [
        "<a href=\"https://colab.research.google.com/github/miketriana/cap4630-wocjan/blob/master/HW_4/HW4.ipynb\" target=\"_parent\"><img src=\"https://colab.research.google.com/assets/colab-badge.svg\" alt=\"Open In Colab\"/></a>"
      ]
    },
    {
      "cell_type": "markdown",
      "metadata": {
        "id": "VFIg9vuF5JAi",
        "colab_type": "text"
      },
      "source": [
        "#Homework 4\n",
        "\n",
        "In this assignment, I will be implementing functions related to convolutional neural networks."
      ]
    },
    {
      "cell_type": "markdown",
      "metadata": {
        "id": "pjUM6Id05s4a",
        "colab_type": "text"
      },
      "source": [
        "##Problem 1\n",
        "\n",
        "In this problem I will use numpy to implement the function `conv2d`. It will take in an input matrix `input_mat` and a kernel / filter matrix `kernel_mat` and compute the convolution of the two matrices, returning the result `output_mat`."
      ]
    },
    {
      "cell_type": "code",
      "metadata": {
        "id": "TS0a5hOo02FO",
        "colab_type": "code",
        "colab": {}
      },
      "source": [
        "import numpy as np"
      ],
      "execution_count": 0,
      "outputs": []
    },
    {
      "cell_type": "code",
      "metadata": {
        "id": "xtFdqqKV9Yq9",
        "colab_type": "code",
        "colab": {}
      },
      "source": [
        "# Algorithm of order O(n^2 * m^2), where n is width of input matrix and m is width of kernel\n",
        "\n",
        "def conv2d(input_mat, kernel_mat):\n",
        "    # Kernel dimensions define dimensions of tiles - mxm\n",
        "    inp_width = input_mat.shape[0]\n",
        "    if (inp_width != input_mat.shape[1]):\n",
        "        raise ValueError(\"Cannot compute, input matrix is not a square!\")\n",
        "\n",
        "    k_width = kernel_mat.shape[0]\n",
        "    if (k_width != kernel_mat.shape[1]):\n",
        "        raise ValueError(\"Cannot compute, kernel matrix is not a square!\")\n",
        "\n",
        "    if (k_width > inp_width):\n",
        "        raise ValueError(\"Cannot compute, kernel size is larger than input matrix!\")\n",
        "\n",
        "    output_mat = np.zeros((inp_width - k_width + 1, inp_width - k_width + 1))\n",
        "\n",
        "    # Slide across each mxm tile\n",
        "    for row in range(inp_width - k_width + 1):\n",
        "        for col in range(inp_width - k_width + 1):\n",
        "            tile = input_mat[row:row + k_width, col:col + k_width]\n",
        "\n",
        "            # Apply filter to tile, aka compute the convolution\n",
        "            sum = 0\n",
        "            for i in range(k_width):\n",
        "                for j in range(k_width):\n",
        "                    sum += input_mat[row + i][col + j] * kernel_mat[-i - 1][-j - 1]\n",
        "\n",
        "            # Store result in output matrix\n",
        "            output_mat[row][col] = sum\n",
        "\n",
        "    return output_mat"
      ],
      "execution_count": 0,
      "outputs": []
    },
    {
      "cell_type": "markdown",
      "metadata": {
        "id": "92Ocf0AWi-W1",
        "colab_type": "text"
      },
      "source": [
        "###Test Cases\n",
        "\n",
        "Adapted from https://colab.research.google.com/drive/1MIoNq4_xglLesBF1kdWJelP2CmdPuYbv?authuser=1"
      ]
    },
    {
      "cell_type": "code",
      "metadata": {
        "id": "bYpAUT3GJyD9",
        "colab_type": "code",
        "outputId": "8b260a26-de34-40de-e288-3073a8594a8d",
        "colab": {
          "base_uri": "https://localhost:8080/",
          "height": 391
        }
      },
      "source": [
        "from scipy import signal\n",
        "import numpy as np\n",
        "\n",
        "input_mat = []\n",
        "kernel_mat = []\n",
        "expected_mat = []\n",
        "\n",
        "# test case 1\n",
        "input_mat.append(np.array([[1, 2, 1, 2],\n",
        "                      [2, 1, 2, 1],\n",
        "                      [1, 2, 1, 2],\n",
        "                      [2, 1, 2, 1]]))\n",
        "\n",
        "kernel_mat.append(np.array([[1, 0],\n",
        "                       [0, 1]]))\n",
        "\n",
        "expected_mat.append(np.array([[2, 4, 2],\n",
        "                                [4, 2, 4],\n",
        "                                [2, 4, 2]]))\n",
        "\n",
        "# test case 2\n",
        "input_mat.append(np.array([[1, 0, 0, 0],\n",
        "                      [0, 1, 0, 0],\n",
        "                      [0, 0, 1, 0],\n",
        "                      [0, 0, 0, 1]]))\n",
        "kernel_mat.append(np.array([[1, 0], [0, 1]]))\n",
        "expected_mat.append(np.array([[2, 0, 0], [0, 2, 0], [0, 0, 2]]))\n",
        "\n",
        "\n",
        "# test case 3\n",
        "input_mat.append(np.array([[1, 0, 0, 0],\n",
        "                      [0, 1, 0, 0],\n",
        "                      [0, 0, 1, 0],\n",
        "                      [0, 0, 0, 1]]))\n",
        "kernel_mat.append(np.array([[1, -1],\n",
        "                       [-1, 0]]))\n",
        "\n",
        "expected_mat.append(np.array([[ 1, -1,  0], [-1,  1, -1],[ 0, -1,  1]]))\n",
        "\n",
        "\n",
        "# test case 4\n",
        "input_mat.append(np.array([[1, 0, 0, 0],\n",
        "                      [0, 1, 0, 0],\n",
        "                      [0, 0, 1, 0],\n",
        "                      [0, 0, 0, 1]]))\n",
        "kernel_mat.append(np.array([[1, 0, 0, 0],\n",
        "                      [0, 1, 0, 0],\n",
        "                      [0, 0, 1, 0],\n",
        "                      [0, 0, 0, 1]]))\n",
        "\n",
        "expected_mat.append(np.array([[4]]))\n",
        "\n",
        "\n",
        "# test case 5 - should either through an error, or return empty matrix\n",
        "input_mat.append(np.array([[1, -1],\n",
        "                       [-1, 0]]))\n",
        "kernel_mat.append(np.array([[1, 0, 0, 0],\n",
        "                      [0, 1, 0, 0],\n",
        "                      [0, 0, 1, 0],\n",
        "                      [0, 0, 0, 1]]))\n",
        "\n",
        "expected_mat.append([])\n",
        "\n",
        "\n",
        "\n",
        "for i in range(len(input_mat)):\n",
        "  # uncomment line for student code testing\n",
        "  try:\n",
        "    output_mat = conv2d(input_mat[i], kernel_mat[i])\n",
        "  except Exception as error:\n",
        "    print(repr(error))\n",
        "    output_mat = []\n",
        "\n",
        "  # uncomment lines below (and comment line above) for generating test cases.\n",
        "  #if input_mat[i].shape[0] < kernel_mat[i].shape[0]:\n",
        "  #  output_mat = []\n",
        "  #else:\n",
        "  #  output_mat = signal.convolve2d(input_mat[i], kernel_mat[i], mode='valid')\n",
        "\n",
        "  print(output_mat)\n",
        "  if np.array_equal(output_mat, expected_mat[i]):\n",
        "    print(\"Correct output!\\n\")\n",
        "  else:\n",
        "    print(\"Incorrect output!\\n\")"
      ],
      "execution_count": 3,
      "outputs": [
        {
          "output_type": "stream",
          "text": [
            "[[2. 4. 2.]\n",
            " [4. 2. 4.]\n",
            " [2. 4. 2.]]\n",
            "Correct output!\n",
            "\n",
            "[[2. 0. 0.]\n",
            " [0. 2. 0.]\n",
            " [0. 0. 2.]]\n",
            "Correct output!\n",
            "\n",
            "[[ 1. -1.  0.]\n",
            " [-1.  1. -1.]\n",
            " [ 0. -1.  1.]]\n",
            "Correct output!\n",
            "\n",
            "[[4.]]\n",
            "Correct output!\n",
            "\n",
            "ValueError('Cannot compute, kernel size is larger than input matrix!',)\n",
            "[]\n",
            "Correct output!\n",
            "\n"
          ],
          "name": "stdout"
        }
      ]
    },
    {
      "cell_type": "markdown",
      "metadata": {
        "id": "U46-96vtFaKt",
        "colab_type": "text"
      },
      "source": [
        "##Problem 2\n",
        "\n",
        "In this problem I will use numpy to implement the function `maxpooling2d`. It will take in an input matrix `input_mat` and an integer `s` and compute a maxpooling operation on the matrix using an sxs window, returning the result `output_mat`."
      ]
    },
    {
      "cell_type": "code",
      "metadata": {
        "id": "tTnZBxYUGjFG",
        "colab_type": "code",
        "colab": {}
      },
      "source": [
        "# Algorithm of order O(n^2 * s^2), where n is width of input matrix and s is window size\n",
        "\n",
        "def maxpooling2d(input_mat, s):\n",
        "    inp_width = input_mat.shape[0]\n",
        "    if (inp_width != input_mat.shape[1]):\n",
        "        raise ValueError(\"Cannot compute, input matrix is not a square!\")\n",
        "\n",
        "    if (s > inp_width):\n",
        "        raise ValueError(\"Cannot conpute, window size is larger than input matrix!\")\n",
        "\n",
        "    output_mat = np.zeros((int(inp_width / s), int(inp_width / s)))\n",
        "\n",
        "    # Analyze each sxs tile\n",
        "    for row in range(0, inp_width - s + 1, s):\n",
        "        for col in range(0, inp_width - s + 1, s):\n",
        "            tile = input_mat[row:row + s, col:col + s]\n",
        "\n",
        "            # Find max value within tile\n",
        "            m = float(\"-inf\")\n",
        "            for i in range(s):\n",
        "                for j in range(s):\n",
        "                    m = max(m, input_mat[row + i][col + j])\n",
        "\n",
        "            # Store result in output matrix\n",
        "            output_mat[int(row / s)][int(col / s)] = m\n",
        "\n",
        "    return output_mat"
      ],
      "execution_count": 0,
      "outputs": []
    },
    {
      "cell_type": "markdown",
      "metadata": {
        "id": "gy7_knraI5GP",
        "colab_type": "text"
      },
      "source": [
        "###Test Cases\n",
        "\n",
        "Adapted from https://colab.research.google.com/drive/1MIoNq4_xglLesBF1kdWJelP2CmdPuYbv?authuser=1"
      ]
    },
    {
      "cell_type": "code",
      "metadata": {
        "id": "3gbRInw4I9S0",
        "colab_type": "code",
        "outputId": "26aa07a4-971a-4989-9e10-1185c206d7e7",
        "colab": {
          "base_uri": "https://localhost:8080/",
          "height": 187
        }
      },
      "source": [
        "import skimage.measure\n",
        "\n",
        "input_mat = []\n",
        "expected_mat = []\n",
        "s = []\n",
        "input_mat.append(np.array([[1, 2, 1, 2],\n",
        "                      [2, 4, 2, 1],\n",
        "                      [1, 2, 4, 2],\n",
        "                      [2, 1, 2, 1]]))\n",
        "s.append(2)\n",
        "\n",
        "expected_mat.append(np.array([[4, 2],\n",
        "                                [2, 4]]))\n",
        "\n",
        "input_mat.append(np.array([[1, 2, 1, 2, 4, 5],\n",
        "                      [2, 4, 2, 1, 0, 3],\n",
        "                      [1, 2, 4, 2, 4, 5],\n",
        "                      [2, 1, 2, 1, 2, 1],\n",
        "                      [1, 1, 2, 3, 1, 2],\n",
        "                      [1, 1, 2, 3, 1, 2]]))\n",
        "s.append(2)\n",
        "\n",
        "expected_mat.append([[4, 2, 5],\n",
        " [2, 4, 5],\n",
        " [1, 3, 2]])\n",
        "\n",
        "input_mat.append(np.array([[1, 2, 1, 2, 4],\n",
        "                      [2, 4, 2, 1, 0],\n",
        "                      [1, 2, 4, 2, 4],\n",
        "                      [2, 1, 2, 1, 2],\n",
        "                      [1, 1, 2, 3, 1]]))\n",
        "s.append(2)\n",
        "\n",
        "expected_mat.append([[4, 2],\n",
        " [2, 4]])\n",
        "\n",
        "\n",
        "for i in range(len(input_mat)):\n",
        "  # uncomment top line and comment second line to test code\n",
        "  try:\n",
        "    output_mat = maxpooling2d(input_mat[i], s[i])\n",
        "  except Exception as error:\n",
        "    print(repr(error))\n",
        "    output_mat = []\n",
        "  #output_mat = skimage.measure.block_reduce(input_mat[i], (s[i],s[i]), np.max)\n",
        "\n",
        "  print(output_mat)\n",
        "\n",
        "  if np.array_equal(output_mat, expected_mat[i]):\n",
        "    print(\"Correct output!\")\n",
        "  else:\n",
        "    print(\"Incorrect output!\")\n"
      ],
      "execution_count": 5,
      "outputs": [
        {
          "output_type": "stream",
          "text": [
            "[[4. 2.]\n",
            " [2. 4.]]\n",
            "Correct output!\n",
            "[[4. 2. 5.]\n",
            " [2. 4. 5.]\n",
            " [1. 3. 2.]]\n",
            "Correct output!\n",
            "[[4. 2.]\n",
            " [2. 4.]]\n",
            "Correct output!\n"
          ],
          "name": "stdout"
        }
      ]
    }
  ]
}