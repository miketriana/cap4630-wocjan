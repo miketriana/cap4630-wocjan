{
  "nbformat": 4,
  "nbformat_minor": 0,
  "metadata": {
    "colab": {
      "name": "HW4_3A.ipynb",
      "provenance": [],
      "collapsed_sections": [],
      "authorship_tag": "ABX9TyMnyQIfq37UqdM6yAvY7wS2",
      "include_colab_link": true
    },
    "kernelspec": {
      "name": "python3",
      "display_name": "Python 3"
    },
    "accelerator": "GPU"
  },
  "cells": [
    {
      "cell_type": "markdown",
      "metadata": {
        "id": "view-in-github",
        "colab_type": "text"
      },
      "source": [
        "<a href=\"https://colab.research.google.com/github/miketriana/cap4630-wocjan/blob/master/HW_4/HW4_3A.ipynb\" target=\"_parent\"><img src=\"https://colab.research.google.com/assets/colab-badge.svg\" alt=\"Open In Colab\"/></a>"
      ]
    },
    {
      "cell_type": "markdown",
      "metadata": {
        "id": "dyjBOOFH29Ju",
        "colab_type": "text"
      },
      "source": [
        "#Homework 4 Problem 3 - A\n",
        "\n",
        "For this problem I will be modifying the code from https://colab.research.google.com/drive/1F-RWvoxH8MmT7c1UmNy41iuOp-ejiLoF?authuser=1 to use a different conv base.\n",
        "\n",
        "In this example I will replace the VGG16 conv base from the original notebook with the Xception conv base."
      ]
    },
    {
      "cell_type": "markdown",
      "metadata": {
        "id": "8R8zHMPQ3VvI",
        "colab_type": "text"
      },
      "source": [
        "##Download the data"
      ]
    },
    {
      "cell_type": "code",
      "metadata": {
        "id": "CfPtcn9A27Dj",
        "colab_type": "code",
        "outputId": "babd3f22-8f75-406e-d7e4-23d934a0ea56",
        "colab": {
          "base_uri": "https://localhost:8080/",
          "height": 204
        }
      },
      "source": [
        "!wget --no-check-certificate \\\n",
        "    https://storage.googleapis.com/mledu-datasets/cats_and_dogs_filtered.zip \\\n",
        "    -O /tmp/cats_and_dogs_filtered.zip"
      ],
      "execution_count": 1,
      "outputs": [
        {
          "output_type": "stream",
          "text": [
            "--2020-04-21 03:06:15--  https://storage.googleapis.com/mledu-datasets/cats_and_dogs_filtered.zip\n",
            "Resolving storage.googleapis.com (storage.googleapis.com)... 74.125.24.128, 2404:6800:4003:c03::80\n",
            "Connecting to storage.googleapis.com (storage.googleapis.com)|74.125.24.128|:443... connected.\n",
            "HTTP request sent, awaiting response... 200 OK\n",
            "Length: 68606236 (65M) [application/zip]\n",
            "Saving to: ‘/tmp/cats_and_dogs_filtered.zip’\n",
            "\n",
            "/tmp/cats_and_dogs_ 100%[===================>]  65.43M  90.1MB/s    in 0.7s    \n",
            "\n",
            "2020-04-21 03:06:16 (90.1 MB/s) - ‘/tmp/cats_and_dogs_filtered.zip’ saved [68606236/68606236]\n",
            "\n"
          ],
          "name": "stdout"
        }
      ]
    },
    {
      "cell_type": "code",
      "metadata": {
        "id": "uRoK6PMX3aEB",
        "colab_type": "code",
        "colab": {}
      },
      "source": [
        "import os\n",
        "import zipfile\n",
        "\n",
        "local_zip = '/tmp/cats_and_dogs_filtered.zip'\n",
        "zip_ref = zipfile.ZipFile(local_zip, 'r')\n",
        "zip_ref.extractall('/tmp')\n",
        "zip_ref.close()"
      ],
      "execution_count": 0,
      "outputs": []
    },
    {
      "cell_type": "code",
      "metadata": {
        "id": "LZolujjn3cPs",
        "colab_type": "code",
        "colab": {}
      },
      "source": [
        "base_dir = '/tmp/cats_and_dogs_filtered'\n",
        "train_dir = os.path.join(base_dir, 'train')\n",
        "validation_dir = os.path.join(base_dir, 'validation')\n",
        "\n",
        "# Directory with our training cat pictures\n",
        "train_cats_dir = os.path.join(train_dir, 'cats')\n",
        "\n",
        "# Directory with our training dog pictures\n",
        "train_dogs_dir = os.path.join(train_dir, 'dogs')\n",
        "\n",
        "# Directory with our validation cat pictures\n",
        "validation_cats_dir = os.path.join(validation_dir, 'cats')\n",
        "\n",
        "# Directory with our validation dog pictures\n",
        "validation_dogs_dir = os.path.join(validation_dir, 'dogs')"
      ],
      "execution_count": 0,
      "outputs": []
    },
    {
      "cell_type": "markdown",
      "metadata": {
        "id": "iB6rTOmI3fHa",
        "colab_type": "text"
      },
      "source": [
        "##Build the network\n",
        "\n",
        "I will use the Xception convolution base to build the network."
      ]
    },
    {
      "cell_type": "code",
      "metadata": {
        "id": "2ngZb5233nXt",
        "colab_type": "code",
        "outputId": "c9972f03-d991-4c1b-bb54-b7ee292a7a77",
        "colab": {
          "base_uri": "https://localhost:8080/",
          "height": 68
        }
      },
      "source": [
        "# VGG16 Conv base replaced with ResNet50\n",
        "from keras.applications.xception import Xception\n",
        "\n",
        "conv_base = Xception(\n",
        "    weights='imagenet', \n",
        "    include_top=False, \n",
        "    input_shape=(150, 150, 3))"
      ],
      "execution_count": 4,
      "outputs": [
        {
          "output_type": "stream",
          "text": [
            "Using TensorFlow backend.\n"
          ],
          "name": "stderr"
        },
        {
          "output_type": "stream",
          "text": [
            "Downloading data from https://github.com/fchollet/deep-learning-models/releases/download/v0.4/xception_weights_tf_dim_ordering_tf_kernels_notop.h5\n",
            "83689472/83683744 [==============================] - 8s 0us/step\n"
          ],
          "name": "stdout"
        }
      ]
    },
    {
      "cell_type": "code",
      "metadata": {
        "id": "_CjnCrV5rCVQ",
        "colab_type": "code",
        "colab": {
          "base_uri": "https://localhost:8080/",
          "height": 1000
        },
        "outputId": "3f13f2d0-5f12-421a-e752-3ec61d78eac0"
      },
      "source": [
        "conv_base.summary()"
      ],
      "execution_count": 5,
      "outputs": [
        {
          "output_type": "stream",
          "text": [
            "Model: \"xception\"\n",
            "__________________________________________________________________________________________________\n",
            "Layer (type)                    Output Shape         Param #     Connected to                     \n",
            "==================================================================================================\n",
            "input_1 (InputLayer)            (None, 150, 150, 3)  0                                            \n",
            "__________________________________________________________________________________________________\n",
            "block1_conv1 (Conv2D)           (None, 74, 74, 32)   864         input_1[0][0]                    \n",
            "__________________________________________________________________________________________________\n",
            "block1_conv1_bn (BatchNormaliza (None, 74, 74, 32)   128         block1_conv1[0][0]               \n",
            "__________________________________________________________________________________________________\n",
            "block1_conv1_act (Activation)   (None, 74, 74, 32)   0           block1_conv1_bn[0][0]            \n",
            "__________________________________________________________________________________________________\n",
            "block1_conv2 (Conv2D)           (None, 72, 72, 64)   18432       block1_conv1_act[0][0]           \n",
            "__________________________________________________________________________________________________\n",
            "block1_conv2_bn (BatchNormaliza (None, 72, 72, 64)   256         block1_conv2[0][0]               \n",
            "__________________________________________________________________________________________________\n",
            "block1_conv2_act (Activation)   (None, 72, 72, 64)   0           block1_conv2_bn[0][0]            \n",
            "__________________________________________________________________________________________________\n",
            "block2_sepconv1 (SeparableConv2 (None, 72, 72, 128)  8768        block1_conv2_act[0][0]           \n",
            "__________________________________________________________________________________________________\n",
            "block2_sepconv1_bn (BatchNormal (None, 72, 72, 128)  512         block2_sepconv1[0][0]            \n",
            "__________________________________________________________________________________________________\n",
            "block2_sepconv2_act (Activation (None, 72, 72, 128)  0           block2_sepconv1_bn[0][0]         \n",
            "__________________________________________________________________________________________________\n",
            "block2_sepconv2 (SeparableConv2 (None, 72, 72, 128)  17536       block2_sepconv2_act[0][0]        \n",
            "__________________________________________________________________________________________________\n",
            "block2_sepconv2_bn (BatchNormal (None, 72, 72, 128)  512         block2_sepconv2[0][0]            \n",
            "__________________________________________________________________________________________________\n",
            "conv2d_1 (Conv2D)               (None, 36, 36, 128)  8192        block1_conv2_act[0][0]           \n",
            "__________________________________________________________________________________________________\n",
            "block2_pool (MaxPooling2D)      (None, 36, 36, 128)  0           block2_sepconv2_bn[0][0]         \n",
            "__________________________________________________________________________________________________\n",
            "batch_normalization_1 (BatchNor (None, 36, 36, 128)  512         conv2d_1[0][0]                   \n",
            "__________________________________________________________________________________________________\n",
            "add_1 (Add)                     (None, 36, 36, 128)  0           block2_pool[0][0]                \n",
            "                                                                 batch_normalization_1[0][0]      \n",
            "__________________________________________________________________________________________________\n",
            "block3_sepconv1_act (Activation (None, 36, 36, 128)  0           add_1[0][0]                      \n",
            "__________________________________________________________________________________________________\n",
            "block3_sepconv1 (SeparableConv2 (None, 36, 36, 256)  33920       block3_sepconv1_act[0][0]        \n",
            "__________________________________________________________________________________________________\n",
            "block3_sepconv1_bn (BatchNormal (None, 36, 36, 256)  1024        block3_sepconv1[0][0]            \n",
            "__________________________________________________________________________________________________\n",
            "block3_sepconv2_act (Activation (None, 36, 36, 256)  0           block3_sepconv1_bn[0][0]         \n",
            "__________________________________________________________________________________________________\n",
            "block3_sepconv2 (SeparableConv2 (None, 36, 36, 256)  67840       block3_sepconv2_act[0][0]        \n",
            "__________________________________________________________________________________________________\n",
            "block3_sepconv2_bn (BatchNormal (None, 36, 36, 256)  1024        block3_sepconv2[0][0]            \n",
            "__________________________________________________________________________________________________\n",
            "conv2d_2 (Conv2D)               (None, 18, 18, 256)  32768       add_1[0][0]                      \n",
            "__________________________________________________________________________________________________\n",
            "block3_pool (MaxPooling2D)      (None, 18, 18, 256)  0           block3_sepconv2_bn[0][0]         \n",
            "__________________________________________________________________________________________________\n",
            "batch_normalization_2 (BatchNor (None, 18, 18, 256)  1024        conv2d_2[0][0]                   \n",
            "__________________________________________________________________________________________________\n",
            "add_2 (Add)                     (None, 18, 18, 256)  0           block3_pool[0][0]                \n",
            "                                                                 batch_normalization_2[0][0]      \n",
            "__________________________________________________________________________________________________\n",
            "block4_sepconv1_act (Activation (None, 18, 18, 256)  0           add_2[0][0]                      \n",
            "__________________________________________________________________________________________________\n",
            "block4_sepconv1 (SeparableConv2 (None, 18, 18, 728)  188672      block4_sepconv1_act[0][0]        \n",
            "__________________________________________________________________________________________________\n",
            "block4_sepconv1_bn (BatchNormal (None, 18, 18, 728)  2912        block4_sepconv1[0][0]            \n",
            "__________________________________________________________________________________________________\n",
            "block4_sepconv2_act (Activation (None, 18, 18, 728)  0           block4_sepconv1_bn[0][0]         \n",
            "__________________________________________________________________________________________________\n",
            "block4_sepconv2 (SeparableConv2 (None, 18, 18, 728)  536536      block4_sepconv2_act[0][0]        \n",
            "__________________________________________________________________________________________________\n",
            "block4_sepconv2_bn (BatchNormal (None, 18, 18, 728)  2912        block4_sepconv2[0][0]            \n",
            "__________________________________________________________________________________________________\n",
            "conv2d_3 (Conv2D)               (None, 9, 9, 728)    186368      add_2[0][0]                      \n",
            "__________________________________________________________________________________________________\n",
            "block4_pool (MaxPooling2D)      (None, 9, 9, 728)    0           block4_sepconv2_bn[0][0]         \n",
            "__________________________________________________________________________________________________\n",
            "batch_normalization_3 (BatchNor (None, 9, 9, 728)    2912        conv2d_3[0][0]                   \n",
            "__________________________________________________________________________________________________\n",
            "add_3 (Add)                     (None, 9, 9, 728)    0           block4_pool[0][0]                \n",
            "                                                                 batch_normalization_3[0][0]      \n",
            "__________________________________________________________________________________________________\n",
            "block5_sepconv1_act (Activation (None, 9, 9, 728)    0           add_3[0][0]                      \n",
            "__________________________________________________________________________________________________\n",
            "block5_sepconv1 (SeparableConv2 (None, 9, 9, 728)    536536      block5_sepconv1_act[0][0]        \n",
            "__________________________________________________________________________________________________\n",
            "block5_sepconv1_bn (BatchNormal (None, 9, 9, 728)    2912        block5_sepconv1[0][0]            \n",
            "__________________________________________________________________________________________________\n",
            "block5_sepconv2_act (Activation (None, 9, 9, 728)    0           block5_sepconv1_bn[0][0]         \n",
            "__________________________________________________________________________________________________\n",
            "block5_sepconv2 (SeparableConv2 (None, 9, 9, 728)    536536      block5_sepconv2_act[0][0]        \n",
            "__________________________________________________________________________________________________\n",
            "block5_sepconv2_bn (BatchNormal (None, 9, 9, 728)    2912        block5_sepconv2[0][0]            \n",
            "__________________________________________________________________________________________________\n",
            "block5_sepconv3_act (Activation (None, 9, 9, 728)    0           block5_sepconv2_bn[0][0]         \n",
            "__________________________________________________________________________________________________\n",
            "block5_sepconv3 (SeparableConv2 (None, 9, 9, 728)    536536      block5_sepconv3_act[0][0]        \n",
            "__________________________________________________________________________________________________\n",
            "block5_sepconv3_bn (BatchNormal (None, 9, 9, 728)    2912        block5_sepconv3[0][0]            \n",
            "__________________________________________________________________________________________________\n",
            "add_4 (Add)                     (None, 9, 9, 728)    0           block5_sepconv3_bn[0][0]         \n",
            "                                                                 add_3[0][0]                      \n",
            "__________________________________________________________________________________________________\n",
            "block6_sepconv1_act (Activation (None, 9, 9, 728)    0           add_4[0][0]                      \n",
            "__________________________________________________________________________________________________\n",
            "block6_sepconv1 (SeparableConv2 (None, 9, 9, 728)    536536      block6_sepconv1_act[0][0]        \n",
            "__________________________________________________________________________________________________\n",
            "block6_sepconv1_bn (BatchNormal (None, 9, 9, 728)    2912        block6_sepconv1[0][0]            \n",
            "__________________________________________________________________________________________________\n",
            "block6_sepconv2_act (Activation (None, 9, 9, 728)    0           block6_sepconv1_bn[0][0]         \n",
            "__________________________________________________________________________________________________\n",
            "block6_sepconv2 (SeparableConv2 (None, 9, 9, 728)    536536      block6_sepconv2_act[0][0]        \n",
            "__________________________________________________________________________________________________\n",
            "block6_sepconv2_bn (BatchNormal (None, 9, 9, 728)    2912        block6_sepconv2[0][0]            \n",
            "__________________________________________________________________________________________________\n",
            "block6_sepconv3_act (Activation (None, 9, 9, 728)    0           block6_sepconv2_bn[0][0]         \n",
            "__________________________________________________________________________________________________\n",
            "block6_sepconv3 (SeparableConv2 (None, 9, 9, 728)    536536      block6_sepconv3_act[0][0]        \n",
            "__________________________________________________________________________________________________\n",
            "block6_sepconv3_bn (BatchNormal (None, 9, 9, 728)    2912        block6_sepconv3[0][0]            \n",
            "__________________________________________________________________________________________________\n",
            "add_5 (Add)                     (None, 9, 9, 728)    0           block6_sepconv3_bn[0][0]         \n",
            "                                                                 add_4[0][0]                      \n",
            "__________________________________________________________________________________________________\n",
            "block7_sepconv1_act (Activation (None, 9, 9, 728)    0           add_5[0][0]                      \n",
            "__________________________________________________________________________________________________\n",
            "block7_sepconv1 (SeparableConv2 (None, 9, 9, 728)    536536      block7_sepconv1_act[0][0]        \n",
            "__________________________________________________________________________________________________\n",
            "block7_sepconv1_bn (BatchNormal (None, 9, 9, 728)    2912        block7_sepconv1[0][0]            \n",
            "__________________________________________________________________________________________________\n",
            "block7_sepconv2_act (Activation (None, 9, 9, 728)    0           block7_sepconv1_bn[0][0]         \n",
            "__________________________________________________________________________________________________\n",
            "block7_sepconv2 (SeparableConv2 (None, 9, 9, 728)    536536      block7_sepconv2_act[0][0]        \n",
            "__________________________________________________________________________________________________\n",
            "block7_sepconv2_bn (BatchNormal (None, 9, 9, 728)    2912        block7_sepconv2[0][0]            \n",
            "__________________________________________________________________________________________________\n",
            "block7_sepconv3_act (Activation (None, 9, 9, 728)    0           block7_sepconv2_bn[0][0]         \n",
            "__________________________________________________________________________________________________\n",
            "block7_sepconv3 (SeparableConv2 (None, 9, 9, 728)    536536      block7_sepconv3_act[0][0]        \n",
            "__________________________________________________________________________________________________\n",
            "block7_sepconv3_bn (BatchNormal (None, 9, 9, 728)    2912        block7_sepconv3[0][0]            \n",
            "__________________________________________________________________________________________________\n",
            "add_6 (Add)                     (None, 9, 9, 728)    0           block7_sepconv3_bn[0][0]         \n",
            "                                                                 add_5[0][0]                      \n",
            "__________________________________________________________________________________________________\n",
            "block8_sepconv1_act (Activation (None, 9, 9, 728)    0           add_6[0][0]                      \n",
            "__________________________________________________________________________________________________\n",
            "block8_sepconv1 (SeparableConv2 (None, 9, 9, 728)    536536      block8_sepconv1_act[0][0]        \n",
            "__________________________________________________________________________________________________\n",
            "block8_sepconv1_bn (BatchNormal (None, 9, 9, 728)    2912        block8_sepconv1[0][0]            \n",
            "__________________________________________________________________________________________________\n",
            "block8_sepconv2_act (Activation (None, 9, 9, 728)    0           block8_sepconv1_bn[0][0]         \n",
            "__________________________________________________________________________________________________\n",
            "block8_sepconv2 (SeparableConv2 (None, 9, 9, 728)    536536      block8_sepconv2_act[0][0]        \n",
            "__________________________________________________________________________________________________\n",
            "block8_sepconv2_bn (BatchNormal (None, 9, 9, 728)    2912        block8_sepconv2[0][0]            \n",
            "__________________________________________________________________________________________________\n",
            "block8_sepconv3_act (Activation (None, 9, 9, 728)    0           block8_sepconv2_bn[0][0]         \n",
            "__________________________________________________________________________________________________\n",
            "block8_sepconv3 (SeparableConv2 (None, 9, 9, 728)    536536      block8_sepconv3_act[0][0]        \n",
            "__________________________________________________________________________________________________\n",
            "block8_sepconv3_bn (BatchNormal (None, 9, 9, 728)    2912        block8_sepconv3[0][0]            \n",
            "__________________________________________________________________________________________________\n",
            "add_7 (Add)                     (None, 9, 9, 728)    0           block8_sepconv3_bn[0][0]         \n",
            "                                                                 add_6[0][0]                      \n",
            "__________________________________________________________________________________________________\n",
            "block9_sepconv1_act (Activation (None, 9, 9, 728)    0           add_7[0][0]                      \n",
            "__________________________________________________________________________________________________\n",
            "block9_sepconv1 (SeparableConv2 (None, 9, 9, 728)    536536      block9_sepconv1_act[0][0]        \n",
            "__________________________________________________________________________________________________\n",
            "block9_sepconv1_bn (BatchNormal (None, 9, 9, 728)    2912        block9_sepconv1[0][0]            \n",
            "__________________________________________________________________________________________________\n",
            "block9_sepconv2_act (Activation (None, 9, 9, 728)    0           block9_sepconv1_bn[0][0]         \n",
            "__________________________________________________________________________________________________\n",
            "block9_sepconv2 (SeparableConv2 (None, 9, 9, 728)    536536      block9_sepconv2_act[0][0]        \n",
            "__________________________________________________________________________________________________\n",
            "block9_sepconv2_bn (BatchNormal (None, 9, 9, 728)    2912        block9_sepconv2[0][0]            \n",
            "__________________________________________________________________________________________________\n",
            "block9_sepconv3_act (Activation (None, 9, 9, 728)    0           block9_sepconv2_bn[0][0]         \n",
            "__________________________________________________________________________________________________\n",
            "block9_sepconv3 (SeparableConv2 (None, 9, 9, 728)    536536      block9_sepconv3_act[0][0]        \n",
            "__________________________________________________________________________________________________\n",
            "block9_sepconv3_bn (BatchNormal (None, 9, 9, 728)    2912        block9_sepconv3[0][0]            \n",
            "__________________________________________________________________________________________________\n",
            "add_8 (Add)                     (None, 9, 9, 728)    0           block9_sepconv3_bn[0][0]         \n",
            "                                                                 add_7[0][0]                      \n",
            "__________________________________________________________________________________________________\n",
            "block10_sepconv1_act (Activatio (None, 9, 9, 728)    0           add_8[0][0]                      \n",
            "__________________________________________________________________________________________________\n",
            "block10_sepconv1 (SeparableConv (None, 9, 9, 728)    536536      block10_sepconv1_act[0][0]       \n",
            "__________________________________________________________________________________________________\n",
            "block10_sepconv1_bn (BatchNorma (None, 9, 9, 728)    2912        block10_sepconv1[0][0]           \n",
            "__________________________________________________________________________________________________\n",
            "block10_sepconv2_act (Activatio (None, 9, 9, 728)    0           block10_sepconv1_bn[0][0]        \n",
            "__________________________________________________________________________________________________\n",
            "block10_sepconv2 (SeparableConv (None, 9, 9, 728)    536536      block10_sepconv2_act[0][0]       \n",
            "__________________________________________________________________________________________________\n",
            "block10_sepconv2_bn (BatchNorma (None, 9, 9, 728)    2912        block10_sepconv2[0][0]           \n",
            "__________________________________________________________________________________________________\n",
            "block10_sepconv3_act (Activatio (None, 9, 9, 728)    0           block10_sepconv2_bn[0][0]        \n",
            "__________________________________________________________________________________________________\n",
            "block10_sepconv3 (SeparableConv (None, 9, 9, 728)    536536      block10_sepconv3_act[0][0]       \n",
            "__________________________________________________________________________________________________\n",
            "block10_sepconv3_bn (BatchNorma (None, 9, 9, 728)    2912        block10_sepconv3[0][0]           \n",
            "__________________________________________________________________________________________________\n",
            "add_9 (Add)                     (None, 9, 9, 728)    0           block10_sepconv3_bn[0][0]        \n",
            "                                                                 add_8[0][0]                      \n",
            "__________________________________________________________________________________________________\n",
            "block11_sepconv1_act (Activatio (None, 9, 9, 728)    0           add_9[0][0]                      \n",
            "__________________________________________________________________________________________________\n",
            "block11_sepconv1 (SeparableConv (None, 9, 9, 728)    536536      block11_sepconv1_act[0][0]       \n",
            "__________________________________________________________________________________________________\n",
            "block11_sepconv1_bn (BatchNorma (None, 9, 9, 728)    2912        block11_sepconv1[0][0]           \n",
            "__________________________________________________________________________________________________\n",
            "block11_sepconv2_act (Activatio (None, 9, 9, 728)    0           block11_sepconv1_bn[0][0]        \n",
            "__________________________________________________________________________________________________\n",
            "block11_sepconv2 (SeparableConv (None, 9, 9, 728)    536536      block11_sepconv2_act[0][0]       \n",
            "__________________________________________________________________________________________________\n",
            "block11_sepconv2_bn (BatchNorma (None, 9, 9, 728)    2912        block11_sepconv2[0][0]           \n",
            "__________________________________________________________________________________________________\n",
            "block11_sepconv3_act (Activatio (None, 9, 9, 728)    0           block11_sepconv2_bn[0][0]        \n",
            "__________________________________________________________________________________________________\n",
            "block11_sepconv3 (SeparableConv (None, 9, 9, 728)    536536      block11_sepconv3_act[0][0]       \n",
            "__________________________________________________________________________________________________\n",
            "block11_sepconv3_bn (BatchNorma (None, 9, 9, 728)    2912        block11_sepconv3[0][0]           \n",
            "__________________________________________________________________________________________________\n",
            "add_10 (Add)                    (None, 9, 9, 728)    0           block11_sepconv3_bn[0][0]        \n",
            "                                                                 add_9[0][0]                      \n",
            "__________________________________________________________________________________________________\n",
            "block12_sepconv1_act (Activatio (None, 9, 9, 728)    0           add_10[0][0]                     \n",
            "__________________________________________________________________________________________________\n",
            "block12_sepconv1 (SeparableConv (None, 9, 9, 728)    536536      block12_sepconv1_act[0][0]       \n",
            "__________________________________________________________________________________________________\n",
            "block12_sepconv1_bn (BatchNorma (None, 9, 9, 728)    2912        block12_sepconv1[0][0]           \n",
            "__________________________________________________________________________________________________\n",
            "block12_sepconv2_act (Activatio (None, 9, 9, 728)    0           block12_sepconv1_bn[0][0]        \n",
            "__________________________________________________________________________________________________\n",
            "block12_sepconv2 (SeparableConv (None, 9, 9, 728)    536536      block12_sepconv2_act[0][0]       \n",
            "__________________________________________________________________________________________________\n",
            "block12_sepconv2_bn (BatchNorma (None, 9, 9, 728)    2912        block12_sepconv2[0][0]           \n",
            "__________________________________________________________________________________________________\n",
            "block12_sepconv3_act (Activatio (None, 9, 9, 728)    0           block12_sepconv2_bn[0][0]        \n",
            "__________________________________________________________________________________________________\n",
            "block12_sepconv3 (SeparableConv (None, 9, 9, 728)    536536      block12_sepconv3_act[0][0]       \n",
            "__________________________________________________________________________________________________\n",
            "block12_sepconv3_bn (BatchNorma (None, 9, 9, 728)    2912        block12_sepconv3[0][0]           \n",
            "__________________________________________________________________________________________________\n",
            "add_11 (Add)                    (None, 9, 9, 728)    0           block12_sepconv3_bn[0][0]        \n",
            "                                                                 add_10[0][0]                     \n",
            "__________________________________________________________________________________________________\n",
            "block13_sepconv1_act (Activatio (None, 9, 9, 728)    0           add_11[0][0]                     \n",
            "__________________________________________________________________________________________________\n",
            "block13_sepconv1 (SeparableConv (None, 9, 9, 728)    536536      block13_sepconv1_act[0][0]       \n",
            "__________________________________________________________________________________________________\n",
            "block13_sepconv1_bn (BatchNorma (None, 9, 9, 728)    2912        block13_sepconv1[0][0]           \n",
            "__________________________________________________________________________________________________\n",
            "block13_sepconv2_act (Activatio (None, 9, 9, 728)    0           block13_sepconv1_bn[0][0]        \n",
            "__________________________________________________________________________________________________\n",
            "block13_sepconv2 (SeparableConv (None, 9, 9, 1024)   752024      block13_sepconv2_act[0][0]       \n",
            "__________________________________________________________________________________________________\n",
            "block13_sepconv2_bn (BatchNorma (None, 9, 9, 1024)   4096        block13_sepconv2[0][0]           \n",
            "__________________________________________________________________________________________________\n",
            "conv2d_4 (Conv2D)               (None, 5, 5, 1024)   745472      add_11[0][0]                     \n",
            "__________________________________________________________________________________________________\n",
            "block13_pool (MaxPooling2D)     (None, 5, 5, 1024)   0           block13_sepconv2_bn[0][0]        \n",
            "__________________________________________________________________________________________________\n",
            "batch_normalization_4 (BatchNor (None, 5, 5, 1024)   4096        conv2d_4[0][0]                   \n",
            "__________________________________________________________________________________________________\n",
            "add_12 (Add)                    (None, 5, 5, 1024)   0           block13_pool[0][0]               \n",
            "                                                                 batch_normalization_4[0][0]      \n",
            "__________________________________________________________________________________________________\n",
            "block14_sepconv1 (SeparableConv (None, 5, 5, 1536)   1582080     add_12[0][0]                     \n",
            "__________________________________________________________________________________________________\n",
            "block14_sepconv1_bn (BatchNorma (None, 5, 5, 1536)   6144        block14_sepconv1[0][0]           \n",
            "__________________________________________________________________________________________________\n",
            "block14_sepconv1_act (Activatio (None, 5, 5, 1536)   0           block14_sepconv1_bn[0][0]        \n",
            "__________________________________________________________________________________________________\n",
            "block14_sepconv2 (SeparableConv (None, 5, 5, 2048)   3159552     block14_sepconv1_act[0][0]       \n",
            "__________________________________________________________________________________________________\n",
            "block14_sepconv2_bn (BatchNorma (None, 5, 5, 2048)   8192        block14_sepconv2[0][0]           \n",
            "__________________________________________________________________________________________________\n",
            "block14_sepconv2_act (Activatio (None, 5, 5, 2048)   0           block14_sepconv2_bn[0][0]        \n",
            "==================================================================================================\n",
            "Total params: 20,861,480\n",
            "Trainable params: 20,806,952\n",
            "Non-trainable params: 54,528\n",
            "__________________________________________________________________________________________________\n"
          ],
          "name": "stdout"
        }
      ]
    },
    {
      "cell_type": "markdown",
      "metadata": {
        "id": "n208at8f4D4P",
        "colab_type": "text"
      },
      "source": [
        "The convolutional base is frozen so that it will not be trained along with the rest of the model."
      ]
    },
    {
      "cell_type": "code",
      "metadata": {
        "id": "jDOxyDUD3xCk",
        "colab_type": "code",
        "colab": {}
      },
      "source": [
        "conv_base.trainable = False"
      ],
      "execution_count": 0,
      "outputs": []
    },
    {
      "cell_type": "markdown",
      "metadata": {
        "id": "RPoRmw-94JwF",
        "colab_type": "text"
      },
      "source": [
        "Then, several fully connected layers are concatenated onto the model."
      ]
    },
    {
      "cell_type": "code",
      "metadata": {
        "id": "1lo5szF03yu2",
        "colab_type": "code",
        "colab": {}
      },
      "source": [
        "from keras import layers\n",
        "from keras import models\n",
        "from keras import optimizers\n",
        "\n",
        "model = models.Sequential()\n",
        "model.add(conv_base)\n",
        "model.add(layers.Flatten())\n",
        "model.add(layers.Dense(256, activation='relu'))\n",
        "#model.add(layers.Dropout(0.1))\n",
        "model.add(layers.Dense(1, activation='sigmoid'))"
      ],
      "execution_count": 0,
      "outputs": []
    },
    {
      "cell_type": "code",
      "metadata": {
        "id": "q_t_12Gz3z5p",
        "colab_type": "code",
        "outputId": "6eadc73c-b2aa-45e4-c3f5-502df25668dc",
        "colab": {
          "base_uri": "https://localhost:8080/",
          "height": 289
        }
      },
      "source": [
        "model.summary()"
      ],
      "execution_count": 8,
      "outputs": [
        {
          "output_type": "stream",
          "text": [
            "Model: \"sequential_1\"\n",
            "_________________________________________________________________\n",
            "Layer (type)                 Output Shape              Param #   \n",
            "=================================================================\n",
            "xception (Model)             (None, 5, 5, 2048)        20861480  \n",
            "_________________________________________________________________\n",
            "flatten_1 (Flatten)          (None, 51200)             0         \n",
            "_________________________________________________________________\n",
            "dense_1 (Dense)              (None, 256)               13107456  \n",
            "_________________________________________________________________\n",
            "dense_2 (Dense)              (None, 1)                 257       \n",
            "=================================================================\n",
            "Total params: 33,969,193\n",
            "Trainable params: 13,107,713\n",
            "Non-trainable params: 20,861,480\n",
            "_________________________________________________________________\n"
          ],
          "name": "stdout"
        }
      ]
    },
    {
      "cell_type": "markdown",
      "metadata": {
        "id": "GDEp_X7e4iWw",
        "colab_type": "text"
      },
      "source": [
        "##Train the model"
      ]
    },
    {
      "cell_type": "code",
      "metadata": {
        "id": "kVM4c0v04kLH",
        "colab_type": "code",
        "outputId": "ee38084f-6872-4748-f7ec-e8de9f676477",
        "colab": {
          "base_uri": "https://localhost:8080/",
          "height": 1000
        }
      },
      "source": [
        "from keras.preprocessing.image import ImageDataGenerator\n",
        "from keras import optimizers\n",
        "\n",
        "# data augmentation\n",
        "\n",
        "train_datagen = ImageDataGenerator(\n",
        "    rescale=1./255, \n",
        "    rotation_range=40,\n",
        "    width_shift_range=0.2,\n",
        "    height_shift_range=0.2,\n",
        "    shear_range=0.2,\n",
        "    zoom_range=0.2,\n",
        "    horizontal_flip=True,\n",
        "    fill_mode='nearest'\n",
        ")\n",
        "\n",
        "train_generator = train_datagen.flow_from_directory(\n",
        "    train_dir,\n",
        "    target_size=(150, 150),\n",
        "    batch_size=20,\n",
        "    class_mode='binary')\n",
        "\n",
        "validation_datagen = ImageDataGenerator(rescale=1./255)\n",
        "\n",
        "validation_generator = validation_datagen.flow_from_directory(\n",
        "    validation_dir,\n",
        "    target_size=(150, 150),\n",
        "    batch_size=20,\n",
        "    class_mode='binary')\n",
        "\n",
        "# compile model\n",
        "\n",
        "model.compile(\n",
        "    loss='binary_crossentropy', \n",
        "    optimizer=optimizers.RMSprop(lr=2e-5), \n",
        "    metrics=['acc'])\n",
        "\n",
        "# train\n",
        "\n",
        "history = model.fit_generator(\n",
        "    train_generator,\n",
        "    steps_per_epoch=100,\n",
        "    epochs=30,\n",
        "    validation_data=validation_generator,\n",
        "    validation_steps=50\n",
        ")"
      ],
      "execution_count": 9,
      "outputs": [
        {
          "output_type": "stream",
          "text": [
            "Found 2000 images belonging to 2 classes.\n",
            "Found 1000 images belonging to 2 classes.\n",
            "Epoch 1/30\n",
            "100/100 [==============================] - 29s 290ms/step - loss: 0.4449 - acc: 0.7790 - val_loss: 0.0214 - val_acc: 0.9610\n",
            "Epoch 2/30\n",
            "100/100 [==============================] - 19s 190ms/step - loss: 0.3877 - acc: 0.8135 - val_loss: 0.0388 - val_acc: 0.9670\n",
            "Epoch 3/30\n",
            "100/100 [==============================] - 19s 191ms/step - loss: 0.3461 - acc: 0.8420 - val_loss: 0.0819 - val_acc: 0.9670\n",
            "Epoch 4/30\n",
            "100/100 [==============================] - 19s 190ms/step - loss: 0.3378 - acc: 0.8550 - val_loss: 0.1147 - val_acc: 0.9600\n",
            "Epoch 5/30\n",
            "100/100 [==============================] - 19s 193ms/step - loss: 0.3405 - acc: 0.8545 - val_loss: 0.0034 - val_acc: 0.9690\n",
            "Epoch 6/30\n",
            "100/100 [==============================] - 19s 189ms/step - loss: 0.3179 - acc: 0.8535 - val_loss: 0.4567 - val_acc: 0.9730\n",
            "Epoch 7/30\n",
            "100/100 [==============================] - 19s 190ms/step - loss: 0.3111 - acc: 0.8620 - val_loss: 0.3046 - val_acc: 0.9630\n",
            "Epoch 8/30\n",
            "100/100 [==============================] - 19s 188ms/step - loss: 0.3231 - acc: 0.8475 - val_loss: 4.9329e-05 - val_acc: 0.9690\n",
            "Epoch 9/30\n",
            "100/100 [==============================] - 19s 188ms/step - loss: 0.3023 - acc: 0.8700 - val_loss: 0.3343 - val_acc: 0.9660\n",
            "Epoch 10/30\n",
            "100/100 [==============================] - 19s 189ms/step - loss: 0.3035 - acc: 0.8640 - val_loss: 3.3484e-05 - val_acc: 0.9720\n",
            "Epoch 11/30\n",
            "100/100 [==============================] - 19s 189ms/step - loss: 0.2991 - acc: 0.8740 - val_loss: 0.0211 - val_acc: 0.9680\n",
            "Epoch 12/30\n",
            "100/100 [==============================] - 19s 190ms/step - loss: 0.2950 - acc: 0.8710 - val_loss: 0.6759 - val_acc: 0.9650\n",
            "Epoch 13/30\n",
            "100/100 [==============================] - 19s 188ms/step - loss: 0.3109 - acc: 0.8585 - val_loss: 2.0189e-04 - val_acc: 0.9680\n",
            "Epoch 14/30\n",
            "100/100 [==============================] - 19s 188ms/step - loss: 0.2873 - acc: 0.8820 - val_loss: 0.6965 - val_acc: 0.9690\n",
            "Epoch 15/30\n",
            "100/100 [==============================] - 19s 190ms/step - loss: 0.2922 - acc: 0.8755 - val_loss: 0.0069 - val_acc: 0.9720\n",
            "Epoch 16/30\n",
            "100/100 [==============================] - 19s 193ms/step - loss: 0.2947 - acc: 0.8645 - val_loss: 0.0032 - val_acc: 0.9760\n",
            "Epoch 17/30\n",
            "100/100 [==============================] - 19s 189ms/step - loss: 0.2769 - acc: 0.8865 - val_loss: 0.8163 - val_acc: 0.9590\n",
            "Epoch 18/30\n",
            "100/100 [==============================] - 19s 191ms/step - loss: 0.2864 - acc: 0.8870 - val_loss: 2.0978e-04 - val_acc: 0.9730\n",
            "Epoch 19/30\n",
            "100/100 [==============================] - 19s 191ms/step - loss: 0.2722 - acc: 0.8810 - val_loss: 0.2753 - val_acc: 0.9700\n",
            "Epoch 20/30\n",
            "100/100 [==============================] - 19s 190ms/step - loss: 0.2894 - acc: 0.8805 - val_loss: 0.3850 - val_acc: 0.9700\n",
            "Epoch 21/30\n",
            "100/100 [==============================] - 19s 192ms/step - loss: 0.2622 - acc: 0.8910 - val_loss: 0.2269 - val_acc: 0.9700\n",
            "Epoch 22/30\n",
            "100/100 [==============================] - 19s 189ms/step - loss: 0.2635 - acc: 0.8940 - val_loss: 0.5192 - val_acc: 0.9680\n",
            "Epoch 23/30\n",
            "100/100 [==============================] - 19s 188ms/step - loss: 0.2646 - acc: 0.8915 - val_loss: 0.0805 - val_acc: 0.9680\n",
            "Epoch 24/30\n",
            "100/100 [==============================] - 19s 190ms/step - loss: 0.2673 - acc: 0.8810 - val_loss: 9.5933e-05 - val_acc: 0.9720\n",
            "Epoch 25/30\n",
            "100/100 [==============================] - 19s 188ms/step - loss: 0.2653 - acc: 0.8845 - val_loss: 0.2663 - val_acc: 0.9710\n",
            "Epoch 26/30\n",
            "100/100 [==============================] - 19s 188ms/step - loss: 0.2675 - acc: 0.8960 - val_loss: 0.0194 - val_acc: 0.9720\n",
            "Epoch 27/30\n",
            "100/100 [==============================] - 19s 188ms/step - loss: 0.2562 - acc: 0.8905 - val_loss: 0.0031 - val_acc: 0.9730\n",
            "Epoch 28/30\n",
            "100/100 [==============================] - 19s 189ms/step - loss: 0.2680 - acc: 0.8915 - val_loss: 6.5286e-04 - val_acc: 0.9710\n",
            "Epoch 29/30\n",
            "100/100 [==============================] - 19s 189ms/step - loss: 0.2556 - acc: 0.8860 - val_loss: 6.1665e-04 - val_acc: 0.9710\n",
            "Epoch 30/30\n",
            "100/100 [==============================] - 19s 189ms/step - loss: 0.2593 - acc: 0.8895 - val_loss: 2.6347e-06 - val_acc: 0.9720\n"
          ],
          "name": "stdout"
        }
      ]
    },
    {
      "cell_type": "markdown",
      "metadata": {
        "id": "dpgcUqmg56kQ",
        "colab_type": "text"
      },
      "source": [
        "##Display loss and accuracy"
      ]
    },
    {
      "cell_type": "code",
      "metadata": {
        "id": "vN6t9ZK359Iq",
        "colab_type": "code",
        "outputId": "14bd0428-8617-4134-fd5a-3cf3f326f6e4",
        "colab": {
          "base_uri": "https://localhost:8080/",
          "height": 545
        }
      },
      "source": [
        "%matplotlib inline\n",
        "\n",
        "import matplotlib.pyplot as plt\n",
        "\n",
        "acc = history.history['acc']\n",
        "val_acc = history.history['val_acc']\n",
        "\n",
        "loss = history.history['loss']\n",
        "val_loss = history.history['val_loss']\n",
        "\n",
        "epochs = range(1, len(acc) + 1)\n",
        "\n",
        "# training and validation accuracy\n",
        "\n",
        "plt.plot(epochs, acc, 'bo', label='training acc')\n",
        "plt.plot(epochs, val_acc, 'b', label='validation acc')\n",
        "plt.title('training and validation accuracy')\n",
        "plt.legend()\n",
        "\n",
        "plt.figure()\n",
        "\n",
        "# training and validation loss\n",
        "\n",
        "plt.plot(epochs, loss, 'bo', label='training loss')\n",
        "plt.plot(epochs, val_loss, 'b', label='validation loss')\n",
        "plt.title('training and validation loss')\n",
        "plt.legend()\n",
        "\n",
        "plt.show()"
      ],
      "execution_count": 10,
      "outputs": [
        {
          "output_type": "display_data",
          "data": {
            "image/png": "[encoded data removed]",
            "text/plain": [
              "<Figure size 432x288 with 1 Axes>"
            ]
          },
          "metadata": {
            "tags": [],
            "needs_background": "light"
          }
        },
        {
          "output_type": "display_data",
          "data": {
            "image/png": "[encoded data removed]",
            "text/plain": [
              "<Figure size 432x288 with 1 Axes>"
            ]
          },
          "metadata": {
            "tags": [],
            "needs_background": "light"
          }
        }
      ]
    },
    {
      "cell_type": "markdown",
      "metadata": {
        "id": "zhvMskFxi9JS",
        "colab_type": "text"
      },
      "source": [
        "##Fine tuning\n",
        "\n",
        "To fine tune the model, I will unfreeze some of the layers in the conv base and retrain. The best results should come from unfreezing layers close to the top, so I will only unfreeze layers from block 12 and up."
      ]
    },
    {
      "cell_type": "code",
      "metadata": {
        "id": "uU3d5-XOi_jr",
        "colab_type": "code",
        "colab": {}
      },
      "source": [
        "conv_base.trainable = True\n",
        "\n",
        "set_trainable = False\n",
        "for layer in conv_base.layers:\n",
        "  if layer.name == 'block12_sepconv1':\n",
        "    set_trainable = True\n",
        "  if set_trainable:\n",
        "    layer.trainable = True\n",
        "  else:\n",
        "    layer.trainable = False"
      ],
      "execution_count": 0,
      "outputs": []
    },
    {
      "cell_type": "code",
      "metadata": {
        "id": "mVNTJzvCjCIS",
        "colab_type": "code",
        "colab": {
          "base_uri": "https://localhost:8080/",
          "height": 1000
        },
        "outputId": "e0f098f1-1953-422f-9f85-ce0718681cd1"
      },
      "source": [
        "# compile model\n",
        "\n",
        "model.compile(\n",
        "    loss='binary_crossentropy',\n",
        "    #\n",
        "    # choose a smaller learning rate\n",
        "    #\n",
        "    optimizer=optimizers.RMSprop(lr=1e-5), \n",
        "    metrics=['acc'])\n",
        "\n",
        "# train\n",
        "\n",
        "history = model.fit_generator(\n",
        "    train_generator,\n",
        "    steps_per_epoch=100,\n",
        "    epochs=100,\n",
        "    validation_data=validation_generator,\n",
        "    validation_steps=50)"
      ],
      "execution_count": 12,
      "outputs": [
        {
          "output_type": "stream",
          "text": [
            "Epoch 1/100\n",
            "100/100 [==============================] - 25s 255ms/step - loss: 0.2745 - acc: 0.8910 - val_loss: 0.0314 - val_acc: 0.9610\n",
            "Epoch 2/100\n",
            "100/100 [==============================] - 21s 205ms/step - loss: 0.2493 - acc: 0.8995 - val_loss: 0.0228 - val_acc: 0.9370\n",
            "Epoch 3/100\n",
            "100/100 [==============================] - 20s 204ms/step - loss: 0.2185 - acc: 0.9100 - val_loss: 0.2130 - val_acc: 0.9400\n",
            "Epoch 4/100\n",
            "100/100 [==============================] - 21s 207ms/step - loss: 0.2207 - acc: 0.9195 - val_loss: 0.0957 - val_acc: 0.9370\n",
            "Epoch 5/100\n",
            "100/100 [==============================] - 20s 203ms/step - loss: 0.2271 - acc: 0.9090 - val_loss: 0.8551 - val_acc: 0.9310\n",
            "Epoch 6/100\n",
            "100/100 [==============================] - 20s 205ms/step - loss: 0.1980 - acc: 0.9165 - val_loss: 0.2114 - val_acc: 0.9360\n",
            "Epoch 7/100\n",
            "100/100 [==============================] - 21s 205ms/step - loss: 0.2009 - acc: 0.9175 - val_loss: 0.2275 - val_acc: 0.9290\n",
            "Epoch 8/100\n",
            "100/100 [==============================] - 20s 204ms/step - loss: 0.2133 - acc: 0.9100 - val_loss: 0.1697 - val_acc: 0.9330\n",
            "Epoch 9/100\n",
            "100/100 [==============================] - 21s 205ms/step - loss: 0.2012 - acc: 0.9230 - val_loss: 0.1726 - val_acc: 0.9250\n",
            "Epoch 10/100\n",
            "100/100 [==============================] - 20s 204ms/step - loss: 0.1802 - acc: 0.9325 - val_loss: 0.3130 - val_acc: 0.9340\n",
            "Epoch 11/100\n",
            "100/100 [==============================] - 20s 205ms/step - loss: 0.1920 - acc: 0.9285 - val_loss: 0.1641 - val_acc: 0.9370\n",
            "Epoch 12/100\n",
            "100/100 [==============================] - 20s 202ms/step - loss: 0.1888 - acc: 0.9205 - val_loss: 0.0736 - val_acc: 0.9340\n",
            "Epoch 13/100\n",
            "100/100 [==============================] - 21s 205ms/step - loss: 0.1816 - acc: 0.9255 - val_loss: 0.0758 - val_acc: 0.9260\n",
            "Epoch 14/100\n",
            "100/100 [==============================] - 20s 204ms/step - loss: 0.1850 - acc: 0.9235 - val_loss: 0.5038 - val_acc: 0.9280\n",
            "Epoch 15/100\n",
            "100/100 [==============================] - 20s 205ms/step - loss: 0.1765 - acc: 0.9290 - val_loss: 0.4048 - val_acc: 0.9330\n",
            "Epoch 16/100\n",
            "100/100 [==============================] - 20s 203ms/step - loss: 0.1639 - acc: 0.9310 - val_loss: 0.0983 - val_acc: 0.9460\n",
            "Epoch 17/100\n",
            "100/100 [==============================] - 20s 204ms/step - loss: 0.1507 - acc: 0.9375 - val_loss: 0.0410 - val_acc: 0.9450\n",
            "Epoch 18/100\n",
            "100/100 [==============================] - 20s 200ms/step - loss: 0.1745 - acc: 0.9280 - val_loss: 0.0276 - val_acc: 0.9400\n",
            "Epoch 19/100\n",
            "100/100 [==============================] - 20s 200ms/step - loss: 0.1545 - acc: 0.9320 - val_loss: 0.0931 - val_acc: 0.9440\n",
            "Epoch 20/100\n",
            "100/100 [==============================] - 20s 201ms/step - loss: 0.1673 - acc: 0.9415 - val_loss: 0.0398 - val_acc: 0.9470\n",
            "Epoch 21/100\n",
            "100/100 [==============================] - 21s 207ms/step - loss: 0.1501 - acc: 0.9375 - val_loss: 0.0216 - val_acc: 0.9450\n",
            "Epoch 22/100\n",
            "100/100 [==============================] - 21s 210ms/step - loss: 0.1523 - acc: 0.9395 - val_loss: 0.4984 - val_acc: 0.9490\n",
            "Epoch 23/100\n",
            "100/100 [==============================] - 21s 211ms/step - loss: 0.1504 - acc: 0.9425 - val_loss: 0.0392 - val_acc: 0.9410\n",
            "Epoch 24/100\n",
            "100/100 [==============================] - 21s 213ms/step - loss: 0.1529 - acc: 0.9365 - val_loss: 0.1032 - val_acc: 0.9340\n",
            "Epoch 25/100\n",
            "100/100 [==============================] - 21s 208ms/step - loss: 0.1413 - acc: 0.9395 - val_loss: 0.0376 - val_acc: 0.9450\n",
            "Epoch 26/100\n",
            "100/100 [==============================] - 21s 212ms/step - loss: 0.1281 - acc: 0.9525 - val_loss: 0.6133 - val_acc: 0.9430\n",
            "Epoch 27/100\n",
            "100/100 [==============================] - 21s 212ms/step - loss: 0.1293 - acc: 0.9490 - val_loss: 0.5040 - val_acc: 0.9460\n",
            "Epoch 28/100\n",
            "100/100 [==============================] - 22s 216ms/step - loss: 0.1338 - acc: 0.9515 - val_loss: 0.1685 - val_acc: 0.9470\n",
            "Epoch 29/100\n",
            "100/100 [==============================] - 22s 215ms/step - loss: 0.1285 - acc: 0.9490 - val_loss: 0.0389 - val_acc: 0.9490\n",
            "Epoch 30/100\n",
            "100/100 [==============================] - 21s 214ms/step - loss: 0.1132 - acc: 0.9575 - val_loss: 0.1025 - val_acc: 0.9520\n",
            "Epoch 31/100\n",
            "100/100 [==============================] - 21s 214ms/step - loss: 0.1212 - acc: 0.9565 - val_loss: 0.6594 - val_acc: 0.9480\n",
            "Epoch 32/100\n",
            "100/100 [==============================] - 21s 209ms/step - loss: 0.1308 - acc: 0.9450 - val_loss: 0.3676 - val_acc: 0.9500\n",
            "Epoch 33/100\n",
            "100/100 [==============================] - 21s 211ms/step - loss: 0.1302 - acc: 0.9560 - val_loss: 0.0064 - val_acc: 0.9480\n",
            "Epoch 34/100\n",
            "100/100 [==============================] - 21s 212ms/step - loss: 0.1210 - acc: 0.9515 - val_loss: 0.6305 - val_acc: 0.9390\n",
            "Epoch 35/100\n",
            "100/100 [==============================] - 22s 216ms/step - loss: 0.1119 - acc: 0.9585 - val_loss: 0.0564 - val_acc: 0.9440\n",
            "Epoch 36/100\n",
            "100/100 [==============================] - 21s 213ms/step - loss: 0.1221 - acc: 0.9530 - val_loss: 0.0444 - val_acc: 0.9390\n",
            "Epoch 37/100\n",
            "100/100 [==============================] - 21s 214ms/step - loss: 0.1134 - acc: 0.9590 - val_loss: 0.0253 - val_acc: 0.9450\n",
            "Epoch 38/100\n",
            "100/100 [==============================] - 21s 213ms/step - loss: 0.1076 - acc: 0.9595 - val_loss: 0.2460 - val_acc: 0.9470\n",
            "Epoch 39/100\n",
            "100/100 [==============================] - 21s 211ms/step - loss: 0.1158 - acc: 0.9575 - val_loss: 0.0011 - val_acc: 0.9550\n",
            "Epoch 40/100\n",
            "100/100 [==============================] - 21s 209ms/step - loss: 0.1316 - acc: 0.9510 - val_loss: 0.0068 - val_acc: 0.9520\n",
            "Epoch 41/100\n",
            "100/100 [==============================] - 21s 206ms/step - loss: 0.0977 - acc: 0.9640 - val_loss: 0.6248 - val_acc: 0.9540\n",
            "Epoch 42/100\n",
            "100/100 [==============================] - 21s 209ms/step - loss: 0.0972 - acc: 0.9640 - val_loss: 4.1357e-04 - val_acc: 0.9550\n",
            "Epoch 43/100\n",
            "100/100 [==============================] - 21s 209ms/step - loss: 0.1052 - acc: 0.9555 - val_loss: 0.0757 - val_acc: 0.9510\n",
            "Epoch 44/100\n",
            "100/100 [==============================] - 21s 210ms/step - loss: 0.0986 - acc: 0.9635 - val_loss: 0.3138 - val_acc: 0.9420\n",
            "Epoch 45/100\n",
            "100/100 [==============================] - 21s 210ms/step - loss: 0.0941 - acc: 0.9700 - val_loss: 0.1492 - val_acc: 0.9530\n",
            "Epoch 46/100\n",
            "100/100 [==============================] - 21s 209ms/step - loss: 0.1209 - acc: 0.9580 - val_loss: 0.3046 - val_acc: 0.9440\n",
            "Epoch 47/100\n",
            "100/100 [==============================] - 21s 209ms/step - loss: 0.0863 - acc: 0.9665 - val_loss: 0.2736 - val_acc: 0.9490\n",
            "Epoch 48/100\n",
            "100/100 [==============================] - 21s 208ms/step - loss: 0.1101 - acc: 0.9600 - val_loss: 0.0139 - val_acc: 0.9500\n",
            "Epoch 49/100\n",
            "100/100 [==============================] - 21s 207ms/step - loss: 0.0877 - acc: 0.9680 - val_loss: 0.0323 - val_acc: 0.9460\n",
            "Epoch 50/100\n",
            "100/100 [==============================] - 21s 205ms/step - loss: 0.0874 - acc: 0.9690 - val_loss: 0.2188 - val_acc: 0.9410\n",
            "Epoch 51/100\n",
            "100/100 [==============================] - 20s 203ms/step - loss: 0.0847 - acc: 0.9655 - val_loss: 0.7726 - val_acc: 0.9500\n",
            "Epoch 52/100\n",
            "100/100 [==============================] - 20s 205ms/step - loss: 0.0944 - acc: 0.9655 - val_loss: 0.0346 - val_acc: 0.9550\n",
            "Epoch 53/100\n",
            "100/100 [==============================] - 21s 205ms/step - loss: 0.0870 - acc: 0.9625 - val_loss: 0.0135 - val_acc: 0.9410\n",
            "Epoch 54/100\n",
            "100/100 [==============================] - 21s 208ms/step - loss: 0.1020 - acc: 0.9655 - val_loss: 0.3075 - val_acc: 0.9500\n",
            "Epoch 55/100\n",
            "100/100 [==============================] - 20s 204ms/step - loss: 0.0966 - acc: 0.9680 - val_loss: 0.1594 - val_acc: 0.9590\n",
            "Epoch 56/100\n",
            "100/100 [==============================] - 20s 203ms/step - loss: 0.0975 - acc: 0.9610 - val_loss: 0.0235 - val_acc: 0.9490\n",
            "Epoch 57/100\n",
            "100/100 [==============================] - 21s 207ms/step - loss: 0.0805 - acc: 0.9660 - val_loss: 0.2192 - val_acc: 0.9560\n",
            "Epoch 58/100\n",
            "100/100 [==============================] - 20s 203ms/step - loss: 0.0951 - acc: 0.9680 - val_loss: 0.0041 - val_acc: 0.9470\n",
            "Epoch 59/100\n",
            "100/100 [==============================] - 21s 205ms/step - loss: 0.0797 - acc: 0.9675 - val_loss: 0.1545 - val_acc: 0.9570\n",
            "Epoch 60/100\n",
            "100/100 [==============================] - 21s 208ms/step - loss: 0.0875 - acc: 0.9660 - val_loss: 0.3850 - val_acc: 0.9580\n",
            "Epoch 61/100\n",
            "100/100 [==============================] - 21s 209ms/step - loss: 0.0683 - acc: 0.9755 - val_loss: 0.2731 - val_acc: 0.9500\n",
            "Epoch 62/100\n",
            "100/100 [==============================] - 21s 209ms/step - loss: 0.0936 - acc: 0.9670 - val_loss: 0.0068 - val_acc: 0.9500\n",
            "Epoch 63/100\n",
            "100/100 [==============================] - 20s 205ms/step - loss: 0.0789 - acc: 0.9740 - val_loss: 0.3569 - val_acc: 0.9460\n",
            "Epoch 64/100\n",
            "100/100 [==============================] - 20s 202ms/step - loss: 0.0734 - acc: 0.9675 - val_loss: 0.8005 - val_acc: 0.9470\n",
            "Epoch 65/100\n",
            "100/100 [==============================] - 20s 199ms/step - loss: 0.0715 - acc: 0.9730 - val_loss: 0.0093 - val_acc: 0.9410\n",
            "Epoch 66/100\n",
            "100/100 [==============================] - 20s 198ms/step - loss: 0.0763 - acc: 0.9750 - val_loss: 0.2068 - val_acc: 0.9530\n",
            "Epoch 67/100\n",
            "100/100 [==============================] - 20s 204ms/step - loss: 0.0706 - acc: 0.9710 - val_loss: 0.3621 - val_acc: 0.9520\n",
            "Epoch 68/100\n",
            "100/100 [==============================] - 21s 207ms/step - loss: 0.0917 - acc: 0.9640 - val_loss: 0.2545 - val_acc: 0.9580\n",
            "Epoch 69/100\n",
            "100/100 [==============================] - 21s 207ms/step - loss: 0.0919 - acc: 0.9650 - val_loss: 0.3494 - val_acc: 0.9560\n",
            "Epoch 70/100\n",
            "100/100 [==============================] - 21s 207ms/step - loss: 0.0741 - acc: 0.9705 - val_loss: 0.1539 - val_acc: 0.9560\n",
            "Epoch 71/100\n",
            "100/100 [==============================] - 20s 203ms/step - loss: 0.0818 - acc: 0.9675 - val_loss: 0.1963 - val_acc: 0.9540\n",
            "Epoch 72/100\n",
            "100/100 [==============================] - 20s 202ms/step - loss: 0.0840 - acc: 0.9685 - val_loss: 0.0080 - val_acc: 0.9540\n",
            "Epoch 73/100\n",
            "100/100 [==============================] - 20s 202ms/step - loss: 0.0857 - acc: 0.9725 - val_loss: 0.3083 - val_acc: 0.9570\n",
            "Epoch 74/100\n",
            "100/100 [==============================] - 20s 200ms/step - loss: 0.0875 - acc: 0.9705 - val_loss: 0.6110 - val_acc: 0.9570\n",
            "Epoch 75/100\n",
            "100/100 [==============================] - 20s 201ms/step - loss: 0.0889 - acc: 0.9695 - val_loss: 0.1061 - val_acc: 0.9600\n",
            "Epoch 76/100\n",
            "100/100 [==============================] - 20s 201ms/step - loss: 0.0653 - acc: 0.9770 - val_loss: 0.1578 - val_acc: 0.9590\n",
            "Epoch 77/100\n",
            "100/100 [==============================] - 20s 203ms/step - loss: 0.0680 - acc: 0.9745 - val_loss: 0.3822 - val_acc: 0.9490\n",
            "Epoch 78/100\n",
            "100/100 [==============================] - 20s 199ms/step - loss: 0.0710 - acc: 0.9745 - val_loss: 0.1018 - val_acc: 0.9590\n",
            "Epoch 79/100\n",
            "100/100 [==============================] - 20s 200ms/step - loss: 0.0863 - acc: 0.9685 - val_loss: 0.2301 - val_acc: 0.9480\n",
            "Epoch 80/100\n",
            "100/100 [==============================] - 20s 198ms/step - loss: 0.0660 - acc: 0.9740 - val_loss: 0.0073 - val_acc: 0.9550\n",
            "Epoch 81/100\n",
            "100/100 [==============================] - 20s 199ms/step - loss: 0.0757 - acc: 0.9720 - val_loss: 0.0111 - val_acc: 0.9550\n",
            "Epoch 82/100\n",
            "100/100 [==============================] - 20s 199ms/step - loss: 0.0613 - acc: 0.9835 - val_loss: 0.3009 - val_acc: 0.9590\n",
            "Epoch 83/100\n",
            "100/100 [==============================] - 20s 198ms/step - loss: 0.0613 - acc: 0.9740 - val_loss: 0.2010 - val_acc: 0.9580\n",
            "Epoch 84/100\n",
            "100/100 [==============================] - 20s 198ms/step - loss: 0.0734 - acc: 0.9715 - val_loss: 0.0131 - val_acc: 0.9480\n",
            "Epoch 85/100\n",
            "100/100 [==============================] - 20s 200ms/step - loss: 0.0637 - acc: 0.9750 - val_loss: 0.0187 - val_acc: 0.9580\n",
            "Epoch 86/100\n",
            "100/100 [==============================] - 19s 194ms/step - loss: 0.0634 - acc: 0.9785 - val_loss: 0.0662 - val_acc: 0.9460\n",
            "Epoch 87/100\n",
            "100/100 [==============================] - 20s 199ms/step - loss: 0.0789 - acc: 0.9715 - val_loss: 0.0036 - val_acc: 0.9460\n",
            "Epoch 88/100\n",
            "100/100 [==============================] - 20s 195ms/step - loss: 0.0765 - acc: 0.9700 - val_loss: 0.0024 - val_acc: 0.9580\n",
            "Epoch 89/100\n",
            "100/100 [==============================] - 19s 194ms/step - loss: 0.0564 - acc: 0.9785 - val_loss: 0.2242 - val_acc: 0.9580\n",
            "Epoch 90/100\n",
            "100/100 [==============================] - 20s 197ms/step - loss: 0.0840 - acc: 0.9730 - val_loss: 0.1938 - val_acc: 0.9360\n",
            "Epoch 91/100\n",
            "100/100 [==============================] - 20s 196ms/step - loss: 0.0448 - acc: 0.9845 - val_loss: 7.2507e-05 - val_acc: 0.9460\n",
            "Epoch 92/100\n",
            "100/100 [==============================] - 19s 195ms/step - loss: 0.0524 - acc: 0.9790 - val_loss: 0.0205 - val_acc: 0.9560\n",
            "Epoch 93/100\n",
            "100/100 [==============================] - 20s 196ms/step - loss: 0.0657 - acc: 0.9770 - val_loss: 0.0094 - val_acc: 0.9590\n",
            "Epoch 94/100\n",
            "100/100 [==============================] - 19s 193ms/step - loss: 0.0613 - acc: 0.9785 - val_loss: 0.0327 - val_acc: 0.9470\n",
            "Epoch 95/100\n",
            "100/100 [==============================] - 19s 194ms/step - loss: 0.0629 - acc: 0.9790 - val_loss: 0.0706 - val_acc: 0.9420\n",
            "Epoch 96/100\n",
            "100/100 [==============================] - 19s 194ms/step - loss: 0.0557 - acc: 0.9770 - val_loss: 0.0023 - val_acc: 0.9540\n",
            "Epoch 97/100\n",
            "100/100 [==============================] - 19s 194ms/step - loss: 0.0545 - acc: 0.9780 - val_loss: 0.2204 - val_acc: 0.9510\n",
            "Epoch 98/100\n",
            "100/100 [==============================] - 19s 195ms/step - loss: 0.0482 - acc: 0.9805 - val_loss: 1.3967e-04 - val_acc: 0.9470\n",
            "Epoch 99/100\n",
            "100/100 [==============================] - 19s 194ms/step - loss: 0.0659 - acc: 0.9755 - val_loss: 0.3603 - val_acc: 0.9490\n",
            "Epoch 100/100\n",
            "100/100 [==============================] - 19s 194ms/step - loss: 0.0584 - acc: 0.9775 - val_loss: 0.0058 - val_acc: 0.9510\n"
          ],
          "name": "stdout"
        }
      ]
    },
    {
      "cell_type": "markdown",
      "metadata": {
        "id": "xEM3hOUEjFgE",
        "colab_type": "text"
      },
      "source": [
        "##Display learning curves during fine tuning"
      ]
    },
    {
      "cell_type": "code",
      "metadata": {
        "id": "aj10Fb9_jI8x",
        "colab_type": "code",
        "colab": {
          "base_uri": "https://localhost:8080/",
          "height": 545
        },
        "outputId": "c01dd25f-f63c-4dc3-d1b4-0f07999f8af2"
      },
      "source": [
        "%matplotlib inline\n",
        "\n",
        "import matplotlib.pyplot as plt\n",
        "\n",
        "acc = history.history['acc']\n",
        "val_acc = history.history['val_acc']\n",
        "\n",
        "loss = history.history['loss']\n",
        "val_loss = history.history['val_loss']\n",
        "\n",
        "epochs = range(1, len(acc) + 1)\n",
        "\n",
        "# training and validation accuracy\n",
        "\n",
        "plt.plot(epochs, acc, 'bo', label='training acc')\n",
        "plt.plot(epochs, val_acc, 'b', label='validation acc')\n",
        "plt.title('training and validation accuracy')\n",
        "plt.legend()\n",
        "\n",
        "plt.figure()\n",
        "\n",
        "# training and validation loss\n",
        "\n",
        "plt.plot(epochs, loss, 'bo', label='training loss')\n",
        "plt.plot(epochs, val_loss, 'b', label='validation loss')\n",
        "plt.title('training and validation loss')\n",
        "plt.legend()\n",
        "\n",
        "plt.show()"
      ],
      "execution_count": 13,
      "outputs": [
        {
          "output_type": "display_data",
          "data": {
            "image/png": "[encoded data removed]",
            "text/plain": [
              "<Figure size 432x288 with 1 Axes>"
            ]
          },
          "metadata": {
            "tags": [],
            "needs_background": "light"
          }
        },
        {
          "output_type": "display_data",
          "data": {
            "image/png": "[encoded data removed]",
            "text/plain": [
              "<Figure size 432x288 with 1 Axes>"
            ]
          },
          "metadata": {
            "tags": [],
            "needs_background": "light"
          }
        }
      ]
    }
  ]
}