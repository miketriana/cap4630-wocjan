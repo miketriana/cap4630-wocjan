{
  "nbformat": 4,
  "nbformat_minor": 0,
  "metadata": {
    "colab": {
      "name": "HW4_3B.ipynb",
      "provenance": [],
      "collapsed_sections": [],
      "authorship_tag": "ABX9TyMXOcgSBw1lgj/xDjlSqSWB",
      "include_colab_link": true
    },
    "kernelspec": {
      "name": "python3",
      "display_name": "Python 3"
    },
    "accelerator": "GPU"
  },
  "cells": [
    {
      "cell_type": "markdown",
      "metadata": {
        "id": "view-in-github",
        "colab_type": "text"
      },
      "source": [
        "<a href=\"https://colab.research.google.com/github/miketriana/cap4630-wocjan/blob/master/HW_4/HW4_3B.ipynb\" target=\"_parent\"><img src=\"https://colab.research.google.com/assets/colab-badge.svg\" alt=\"Open In Colab\"/></a>"
      ]
    },
    {
      "cell_type": "markdown",
      "metadata": {
        "id": "dyjBOOFH29Ju",
        "colab_type": "text"
      },
      "source": [
        "#Homework 4 Problem 3 - B\n",
        "\n",
        "For this problem I will be further modifying the code from https://colab.research.google.com/drive/1F-RWvoxH8MmT7c1UmNy41iuOp-ejiLoF?authuser=1.\n",
        "\n",
        "In addition to changing the conv base used, I will also modify the classifier by adding an additional dense layer. The rest of the network remains mostly the same."
      ]
    },
    {
      "cell_type": "markdown",
      "metadata": {
        "id": "8R8zHMPQ3VvI",
        "colab_type": "text"
      },
      "source": [
        "##Download the data"
      ]
    },
    {
      "cell_type": "code",
      "metadata": {
        "id": "CfPtcn9A27Dj",
        "colab_type": "code",
        "outputId": "aa68077c-814f-41ca-8b07-bc1aa8c2f9db",
        "colab": {
          "base_uri": "https://localhost:8080/",
          "height": 204
        }
      },
      "source": [
        "!wget --no-check-certificate \\\n",
        "    https://storage.googleapis.com/mledu-datasets/cats_and_dogs_filtered.zip \\\n",
        "    -O /tmp/cats_and_dogs_filtered.zip"
      ],
      "execution_count": 1,
      "outputs": [
        {
          "output_type": "stream",
          "text": [
            "--2020-04-21 02:44:19--  https://storage.googleapis.com/mledu-datasets/cats_and_dogs_filtered.zip\n",
            "Resolving storage.googleapis.com (storage.googleapis.com)... 74.125.68.128, 2404:6800:4003:c04::80\n",
            "Connecting to storage.googleapis.com (storage.googleapis.com)|74.125.68.128|:443... connected.\n",
            "HTTP request sent, awaiting response... 200 OK\n",
            "Length: 68606236 (65M) [application/zip]\n",
            "Saving to: ‘/tmp/cats_and_dogs_filtered.zip’\n",
            "\n",
            "/tmp/cats_and_dogs_ 100%[===================>]  65.43M  64.7MB/s    in 1.0s    \n",
            "\n",
            "2020-04-21 02:44:21 (64.7 MB/s) - ‘/tmp/cats_and_dogs_filtered.zip’ saved [68606236/68606236]\n",
            "\n"
          ],
          "name": "stdout"
        }
      ]
    },
    {
      "cell_type": "code",
      "metadata": {
        "id": "uRoK6PMX3aEB",
        "colab_type": "code",
        "colab": {}
      },
      "source": [
        "import os\n",
        "import zipfile\n",
        "\n",
        "local_zip = '/tmp/cats_and_dogs_filtered.zip'\n",
        "zip_ref = zipfile.ZipFile(local_zip, 'r')\n",
        "zip_ref.extractall('/tmp')\n",
        "zip_ref.close()"
      ],
      "execution_count": 0,
      "outputs": []
    },
    {
      "cell_type": "code",
      "metadata": {
        "id": "LZolujjn3cPs",
        "colab_type": "code",
        "colab": {}
      },
      "source": [
        "base_dir = '/tmp/cats_and_dogs_filtered'\n",
        "train_dir = os.path.join(base_dir, 'train')\n",
        "validation_dir = os.path.join(base_dir, 'validation')\n",
        "\n",
        "# Directory with our training cat pictures\n",
        "train_cats_dir = os.path.join(train_dir, 'cats')\n",
        "\n",
        "# Directory with our training dog pictures\n",
        "train_dogs_dir = os.path.join(train_dir, 'dogs')\n",
        "\n",
        "# Directory with our validation cat pictures\n",
        "validation_cats_dir = os.path.join(validation_dir, 'cats')\n",
        "\n",
        "# Directory with our validation dog pictures\n",
        "validation_dogs_dir = os.path.join(validation_dir, 'dogs')"
      ],
      "execution_count": 0,
      "outputs": []
    },
    {
      "cell_type": "markdown",
      "metadata": {
        "id": "iB6rTOmI3fHa",
        "colab_type": "text"
      },
      "source": [
        "##Build the network\n",
        "\n",
        "I will use the Xception convolution base to build the network."
      ]
    },
    {
      "cell_type": "code",
      "metadata": {
        "id": "2ngZb5233nXt",
        "colab_type": "code",
        "colab": {
          "base_uri": "https://localhost:8080/",
          "height": 34
        },
        "outputId": "2111642c-3284-4dac-f5ef-7a9feaf8500b"
      },
      "source": [
        "# VGG16 Conv base replaced with ResNet50\n",
        "from keras.applications.xception import Xception\n",
        "\n",
        "conv_base = Xception(\n",
        "    weights='imagenet', \n",
        "    include_top=False, \n",
        "    input_shape=(150, 150, 3))"
      ],
      "execution_count": 4,
      "outputs": [
        {
          "output_type": "stream",
          "text": [
            "Using TensorFlow backend.\n"
          ],
          "name": "stderr"
        }
      ]
    },
    {
      "cell_type": "code",
      "metadata": {
        "id": "_CjnCrV5rCVQ",
        "colab_type": "code",
        "outputId": "dc2bd342-f3fb-4d9b-91d3-d4c9f69664f3",
        "colab": {
          "base_uri": "https://localhost:8080/",
          "height": 1000
        }
      },
      "source": [
        "conv_base.summary()"
      ],
      "execution_count": 5,
      "outputs": [
        {
          "output_type": "stream",
          "text": [
            "Model: \"xception\"\n",
            "__________________________________________________________________________________________________\n",
            "Layer (type)                    Output Shape         Param #     Connected to                     \n",
            "==================================================================================================\n",
            "input_1 (InputLayer)            (None, 150, 150, 3)  0                                            \n",
            "__________________________________________________________________________________________________\n",
            "block1_conv1 (Conv2D)           (None, 74, 74, 32)   864         input_1[0][0]                    \n",
            "__________________________________________________________________________________________________\n",
            "block1_conv1_bn (BatchNormaliza (None, 74, 74, 32)   128         block1_conv1[0][0]               \n",
            "__________________________________________________________________________________________________\n",
            "block1_conv1_act (Activation)   (None, 74, 74, 32)   0           block1_conv1_bn[0][0]            \n",
            "__________________________________________________________________________________________________\n",
            "block1_conv2 (Conv2D)           (None, 72, 72, 64)   18432       block1_conv1_act[0][0]           \n",
            "__________________________________________________________________________________________________\n",
            "block1_conv2_bn (BatchNormaliza (None, 72, 72, 64)   256         block1_conv2[0][0]               \n",
            "__________________________________________________________________________________________________\n",
            "block1_conv2_act (Activation)   (None, 72, 72, 64)   0           block1_conv2_bn[0][0]            \n",
            "__________________________________________________________________________________________________\n",
            "block2_sepconv1 (SeparableConv2 (None, 72, 72, 128)  8768        block1_conv2_act[0][0]           \n",
            "__________________________________________________________________________________________________\n",
            "block2_sepconv1_bn (BatchNormal (None, 72, 72, 128)  512         block2_sepconv1[0][0]            \n",
            "__________________________________________________________________________________________________\n",
            "block2_sepconv2_act (Activation (None, 72, 72, 128)  0           block2_sepconv1_bn[0][0]         \n",
            "__________________________________________________________________________________________________\n",
            "block2_sepconv2 (SeparableConv2 (None, 72, 72, 128)  17536       block2_sepconv2_act[0][0]        \n",
            "__________________________________________________________________________________________________\n",
            "block2_sepconv2_bn (BatchNormal (None, 72, 72, 128)  512         block2_sepconv2[0][0]            \n",
            "__________________________________________________________________________________________________\n",
            "conv2d_1 (Conv2D)               (None, 36, 36, 128)  8192        block1_conv2_act[0][0]           \n",
            "__________________________________________________________________________________________________\n",
            "block2_pool (MaxPooling2D)      (None, 36, 36, 128)  0           block2_sepconv2_bn[0][0]         \n",
            "__________________________________________________________________________________________________\n",
            "batch_normalization_1 (BatchNor (None, 36, 36, 128)  512         conv2d_1[0][0]                   \n",
            "__________________________________________________________________________________________________\n",
            "add_1 (Add)                     (None, 36, 36, 128)  0           block2_pool[0][0]                \n",
            "                                                                 batch_normalization_1[0][0]      \n",
            "__________________________________________________________________________________________________\n",
            "block3_sepconv1_act (Activation (None, 36, 36, 128)  0           add_1[0][0]                      \n",
            "__________________________________________________________________________________________________\n",
            "block3_sepconv1 (SeparableConv2 (None, 36, 36, 256)  33920       block3_sepconv1_act[0][0]        \n",
            "__________________________________________________________________________________________________\n",
            "block3_sepconv1_bn (BatchNormal (None, 36, 36, 256)  1024        block3_sepconv1[0][0]            \n",
            "__________________________________________________________________________________________________\n",
            "block3_sepconv2_act (Activation (None, 36, 36, 256)  0           block3_sepconv1_bn[0][0]         \n",
            "__________________________________________________________________________________________________\n",
            "block3_sepconv2 (SeparableConv2 (None, 36, 36, 256)  67840       block3_sepconv2_act[0][0]        \n",
            "__________________________________________________________________________________________________\n",
            "block3_sepconv2_bn (BatchNormal (None, 36, 36, 256)  1024        block3_sepconv2[0][0]            \n",
            "__________________________________________________________________________________________________\n",
            "conv2d_2 (Conv2D)               (None, 18, 18, 256)  32768       add_1[0][0]                      \n",
            "__________________________________________________________________________________________________\n",
            "block3_pool (MaxPooling2D)      (None, 18, 18, 256)  0           block3_sepconv2_bn[0][0]         \n",
            "__________________________________________________________________________________________________\n",
            "batch_normalization_2 (BatchNor (None, 18, 18, 256)  1024        conv2d_2[0][0]                   \n",
            "__________________________________________________________________________________________________\n",
            "add_2 (Add)                     (None, 18, 18, 256)  0           block3_pool[0][0]                \n",
            "                                                                 batch_normalization_2[0][0]      \n",
            "__________________________________________________________________________________________________\n",
            "block4_sepconv1_act (Activation (None, 18, 18, 256)  0           add_2[0][0]                      \n",
            "__________________________________________________________________________________________________\n",
            "block4_sepconv1 (SeparableConv2 (None, 18, 18, 728)  188672      block4_sepconv1_act[0][0]        \n",
            "__________________________________________________________________________________________________\n",
            "block4_sepconv1_bn (BatchNormal (None, 18, 18, 728)  2912        block4_sepconv1[0][0]            \n",
            "__________________________________________________________________________________________________\n",
            "block4_sepconv2_act (Activation (None, 18, 18, 728)  0           block4_sepconv1_bn[0][0]         \n",
            "__________________________________________________________________________________________________\n",
            "block4_sepconv2 (SeparableConv2 (None, 18, 18, 728)  536536      block4_sepconv2_act[0][0]        \n",
            "__________________________________________________________________________________________________\n",
            "block4_sepconv2_bn (BatchNormal (None, 18, 18, 728)  2912        block4_sepconv2[0][0]            \n",
            "__________________________________________________________________________________________________\n",
            "conv2d_3 (Conv2D)               (None, 9, 9, 728)    186368      add_2[0][0]                      \n",
            "__________________________________________________________________________________________________\n",
            "block4_pool (MaxPooling2D)      (None, 9, 9, 728)    0           block4_sepconv2_bn[0][0]         \n",
            "__________________________________________________________________________________________________\n",
            "batch_normalization_3 (BatchNor (None, 9, 9, 728)    2912        conv2d_3[0][0]                   \n",
            "__________________________________________________________________________________________________\n",
            "add_3 (Add)                     (None, 9, 9, 728)    0           block4_pool[0][0]                \n",
            "                                                                 batch_normalization_3[0][0]      \n",
            "__________________________________________________________________________________________________\n",
            "block5_sepconv1_act (Activation (None, 9, 9, 728)    0           add_3[0][0]                      \n",
            "__________________________________________________________________________________________________\n",
            "block5_sepconv1 (SeparableConv2 (None, 9, 9, 728)    536536      block5_sepconv1_act[0][0]        \n",
            "__________________________________________________________________________________________________\n",
            "block5_sepconv1_bn (BatchNormal (None, 9, 9, 728)    2912        block5_sepconv1[0][0]            \n",
            "__________________________________________________________________________________________________\n",
            "block5_sepconv2_act (Activation (None, 9, 9, 728)    0           block5_sepconv1_bn[0][0]         \n",
            "__________________________________________________________________________________________________\n",
            "block5_sepconv2 (SeparableConv2 (None, 9, 9, 728)    536536      block5_sepconv2_act[0][0]        \n",
            "__________________________________________________________________________________________________\n",
            "block5_sepconv2_bn (BatchNormal (None, 9, 9, 728)    2912        block5_sepconv2[0][0]            \n",
            "__________________________________________________________________________________________________\n",
            "block5_sepconv3_act (Activation (None, 9, 9, 728)    0           block5_sepconv2_bn[0][0]         \n",
            "__________________________________________________________________________________________________\n",
            "block5_sepconv3 (SeparableConv2 (None, 9, 9, 728)    536536      block5_sepconv3_act[0][0]        \n",
            "__________________________________________________________________________________________________\n",
            "block5_sepconv3_bn (BatchNormal (None, 9, 9, 728)    2912        block5_sepconv3[0][0]            \n",
            "__________________________________________________________________________________________________\n",
            "add_4 (Add)                     (None, 9, 9, 728)    0           block5_sepconv3_bn[0][0]         \n",
            "                                                                 add_3[0][0]                      \n",
            "__________________________________________________________________________________________________\n",
            "block6_sepconv1_act (Activation (None, 9, 9, 728)    0           add_4[0][0]                      \n",
            "__________________________________________________________________________________________________\n",
            "block6_sepconv1 (SeparableConv2 (None, 9, 9, 728)    536536      block6_sepconv1_act[0][0]        \n",
            "__________________________________________________________________________________________________\n",
            "block6_sepconv1_bn (BatchNormal (None, 9, 9, 728)    2912        block6_sepconv1[0][0]            \n",
            "__________________________________________________________________________________________________\n",
            "block6_sepconv2_act (Activation (None, 9, 9, 728)    0           block6_sepconv1_bn[0][0]         \n",
            "__________________________________________________________________________________________________\n",
            "block6_sepconv2 (SeparableConv2 (None, 9, 9, 728)    536536      block6_sepconv2_act[0][0]        \n",
            "__________________________________________________________________________________________________\n",
            "block6_sepconv2_bn (BatchNormal (None, 9, 9, 728)    2912        block6_sepconv2[0][0]            \n",
            "__________________________________________________________________________________________________\n",
            "block6_sepconv3_act (Activation (None, 9, 9, 728)    0           block6_sepconv2_bn[0][0]         \n",
            "__________________________________________________________________________________________________\n",
            "block6_sepconv3 (SeparableConv2 (None, 9, 9, 728)    536536      block6_sepconv3_act[0][0]        \n",
            "__________________________________________________________________________________________________\n",
            "block6_sepconv3_bn (BatchNormal (None, 9, 9, 728)    2912        block6_sepconv3[0][0]            \n",
            "__________________________________________________________________________________________________\n",
            "add_5 (Add)                     (None, 9, 9, 728)    0           block6_sepconv3_bn[0][0]         \n",
            "                                                                 add_4[0][0]                      \n",
            "__________________________________________________________________________________________________\n",
            "block7_sepconv1_act (Activation (None, 9, 9, 728)    0           add_5[0][0]                      \n",
            "__________________________________________________________________________________________________\n",
            "block7_sepconv1 (SeparableConv2 (None, 9, 9, 728)    536536      block7_sepconv1_act[0][0]        \n",
            "__________________________________________________________________________________________________\n",
            "block7_sepconv1_bn (BatchNormal (None, 9, 9, 728)    2912        block7_sepconv1[0][0]            \n",
            "__________________________________________________________________________________________________\n",
            "block7_sepconv2_act (Activation (None, 9, 9, 728)    0           block7_sepconv1_bn[0][0]         \n",
            "__________________________________________________________________________________________________\n",
            "block7_sepconv2 (SeparableConv2 (None, 9, 9, 728)    536536      block7_sepconv2_act[0][0]        \n",
            "__________________________________________________________________________________________________\n",
            "block7_sepconv2_bn (BatchNormal (None, 9, 9, 728)    2912        block7_sepconv2[0][0]            \n",
            "__________________________________________________________________________________________________\n",
            "block7_sepconv3_act (Activation (None, 9, 9, 728)    0           block7_sepconv2_bn[0][0]         \n",
            "__________________________________________________________________________________________________\n",
            "block7_sepconv3 (SeparableConv2 (None, 9, 9, 728)    536536      block7_sepconv3_act[0][0]        \n",
            "__________________________________________________________________________________________________\n",
            "block7_sepconv3_bn (BatchNormal (None, 9, 9, 728)    2912        block7_sepconv3[0][0]            \n",
            "__________________________________________________________________________________________________\n",
            "add_6 (Add)                     (None, 9, 9, 728)    0           block7_sepconv3_bn[0][0]         \n",
            "                                                                 add_5[0][0]                      \n",
            "__________________________________________________________________________________________________\n",
            "block8_sepconv1_act (Activation (None, 9, 9, 728)    0           add_6[0][0]                      \n",
            "__________________________________________________________________________________________________\n",
            "block8_sepconv1 (SeparableConv2 (None, 9, 9, 728)    536536      block8_sepconv1_act[0][0]        \n",
            "__________________________________________________________________________________________________\n",
            "block8_sepconv1_bn (BatchNormal (None, 9, 9, 728)    2912        block8_sepconv1[0][0]            \n",
            "__________________________________________________________________________________________________\n",
            "block8_sepconv2_act (Activation (None, 9, 9, 728)    0           block8_sepconv1_bn[0][0]         \n",
            "__________________________________________________________________________________________________\n",
            "block8_sepconv2 (SeparableConv2 (None, 9, 9, 728)    536536      block8_sepconv2_act[0][0]        \n",
            "__________________________________________________________________________________________________\n",
            "block8_sepconv2_bn (BatchNormal (None, 9, 9, 728)    2912        block8_sepconv2[0][0]            \n",
            "__________________________________________________________________________________________________\n",
            "block8_sepconv3_act (Activation (None, 9, 9, 728)    0           block8_sepconv2_bn[0][0]         \n",
            "__________________________________________________________________________________________________\n",
            "block8_sepconv3 (SeparableConv2 (None, 9, 9, 728)    536536      block8_sepconv3_act[0][0]        \n",
            "__________________________________________________________________________________________________\n",
            "block8_sepconv3_bn (BatchNormal (None, 9, 9, 728)    2912        block8_sepconv3[0][0]            \n",
            "__________________________________________________________________________________________________\n",
            "add_7 (Add)                     (None, 9, 9, 728)    0           block8_sepconv3_bn[0][0]         \n",
            "                                                                 add_6[0][0]                      \n",
            "__________________________________________________________________________________________________\n",
            "block9_sepconv1_act (Activation (None, 9, 9, 728)    0           add_7[0][0]                      \n",
            "__________________________________________________________________________________________________\n",
            "block9_sepconv1 (SeparableConv2 (None, 9, 9, 728)    536536      block9_sepconv1_act[0][0]        \n",
            "__________________________________________________________________________________________________\n",
            "block9_sepconv1_bn (BatchNormal (None, 9, 9, 728)    2912        block9_sepconv1[0][0]            \n",
            "__________________________________________________________________________________________________\n",
            "block9_sepconv2_act (Activation (None, 9, 9, 728)    0           block9_sepconv1_bn[0][0]         \n",
            "__________________________________________________________________________________________________\n",
            "block9_sepconv2 (SeparableConv2 (None, 9, 9, 728)    536536      block9_sepconv2_act[0][0]        \n",
            "__________________________________________________________________________________________________\n",
            "block9_sepconv2_bn (BatchNormal (None, 9, 9, 728)    2912        block9_sepconv2[0][0]            \n",
            "__________________________________________________________________________________________________\n",
            "block9_sepconv3_act (Activation (None, 9, 9, 728)    0           block9_sepconv2_bn[0][0]         \n",
            "__________________________________________________________________________________________________\n",
            "block9_sepconv3 (SeparableConv2 (None, 9, 9, 728)    536536      block9_sepconv3_act[0][0]        \n",
            "__________________________________________________________________________________________________\n",
            "block9_sepconv3_bn (BatchNormal (None, 9, 9, 728)    2912        block9_sepconv3[0][0]            \n",
            "__________________________________________________________________________________________________\n",
            "add_8 (Add)                     (None, 9, 9, 728)    0           block9_sepconv3_bn[0][0]         \n",
            "                                                                 add_7[0][0]                      \n",
            "__________________________________________________________________________________________________\n",
            "block10_sepconv1_act (Activatio (None, 9, 9, 728)    0           add_8[0][0]                      \n",
            "__________________________________________________________________________________________________\n",
            "block10_sepconv1 (SeparableConv (None, 9, 9, 728)    536536      block10_sepconv1_act[0][0]       \n",
            "__________________________________________________________________________________________________\n",
            "block10_sepconv1_bn (BatchNorma (None, 9, 9, 728)    2912        block10_sepconv1[0][0]           \n",
            "__________________________________________________________________________________________________\n",
            "block10_sepconv2_act (Activatio (None, 9, 9, 728)    0           block10_sepconv1_bn[0][0]        \n",
            "__________________________________________________________________________________________________\n",
            "block10_sepconv2 (SeparableConv (None, 9, 9, 728)    536536      block10_sepconv2_act[0][0]       \n",
            "__________________________________________________________________________________________________\n",
            "block10_sepconv2_bn (BatchNorma (None, 9, 9, 728)    2912        block10_sepconv2[0][0]           \n",
            "__________________________________________________________________________________________________\n",
            "block10_sepconv3_act (Activatio (None, 9, 9, 728)    0           block10_sepconv2_bn[0][0]        \n",
            "__________________________________________________________________________________________________\n",
            "block10_sepconv3 (SeparableConv (None, 9, 9, 728)    536536      block10_sepconv3_act[0][0]       \n",
            "__________________________________________________________________________________________________\n",
            "block10_sepconv3_bn (BatchNorma (None, 9, 9, 728)    2912        block10_sepconv3[0][0]           \n",
            "__________________________________________________________________________________________________\n",
            "add_9 (Add)                     (None, 9, 9, 728)    0           block10_sepconv3_bn[0][0]        \n",
            "                                                                 add_8[0][0]                      \n",
            "__________________________________________________________________________________________________\n",
            "block11_sepconv1_act (Activatio (None, 9, 9, 728)    0           add_9[0][0]                      \n",
            "__________________________________________________________________________________________________\n",
            "block11_sepconv1 (SeparableConv (None, 9, 9, 728)    536536      block11_sepconv1_act[0][0]       \n",
            "__________________________________________________________________________________________________\n",
            "block11_sepconv1_bn (BatchNorma (None, 9, 9, 728)    2912        block11_sepconv1[0][0]           \n",
            "__________________________________________________________________________________________________\n",
            "block11_sepconv2_act (Activatio (None, 9, 9, 728)    0           block11_sepconv1_bn[0][0]        \n",
            "__________________________________________________________________________________________________\n",
            "block11_sepconv2 (SeparableConv (None, 9, 9, 728)    536536      block11_sepconv2_act[0][0]       \n",
            "__________________________________________________________________________________________________\n",
            "block11_sepconv2_bn (BatchNorma (None, 9, 9, 728)    2912        block11_sepconv2[0][0]           \n",
            "__________________________________________________________________________________________________\n",
            "block11_sepconv3_act (Activatio (None, 9, 9, 728)    0           block11_sepconv2_bn[0][0]        \n",
            "__________________________________________________________________________________________________\n",
            "block11_sepconv3 (SeparableConv (None, 9, 9, 728)    536536      block11_sepconv3_act[0][0]       \n",
            "__________________________________________________________________________________________________\n",
            "block11_sepconv3_bn (BatchNorma (None, 9, 9, 728)    2912        block11_sepconv3[0][0]           \n",
            "__________________________________________________________________________________________________\n",
            "add_10 (Add)                    (None, 9, 9, 728)    0           block11_sepconv3_bn[0][0]        \n",
            "                                                                 add_9[0][0]                      \n",
            "__________________________________________________________________________________________________\n",
            "block12_sepconv1_act (Activatio (None, 9, 9, 728)    0           add_10[0][0]                     \n",
            "__________________________________________________________________________________________________\n",
            "block12_sepconv1 (SeparableConv (None, 9, 9, 728)    536536      block12_sepconv1_act[0][0]       \n",
            "__________________________________________________________________________________________________\n",
            "block12_sepconv1_bn (BatchNorma (None, 9, 9, 728)    2912        block12_sepconv1[0][0]           \n",
            "__________________________________________________________________________________________________\n",
            "block12_sepconv2_act (Activatio (None, 9, 9, 728)    0           block12_sepconv1_bn[0][0]        \n",
            "__________________________________________________________________________________________________\n",
            "block12_sepconv2 (SeparableConv (None, 9, 9, 728)    536536      block12_sepconv2_act[0][0]       \n",
            "__________________________________________________________________________________________________\n",
            "block12_sepconv2_bn (BatchNorma (None, 9, 9, 728)    2912        block12_sepconv2[0][0]           \n",
            "__________________________________________________________________________________________________\n",
            "block12_sepconv3_act (Activatio (None, 9, 9, 728)    0           block12_sepconv2_bn[0][0]        \n",
            "__________________________________________________________________________________________________\n",
            "block12_sepconv3 (SeparableConv (None, 9, 9, 728)    536536      block12_sepconv3_act[0][0]       \n",
            "__________________________________________________________________________________________________\n",
            "block12_sepconv3_bn (BatchNorma (None, 9, 9, 728)    2912        block12_sepconv3[0][0]           \n",
            "__________________________________________________________________________________________________\n",
            "add_11 (Add)                    (None, 9, 9, 728)    0           block12_sepconv3_bn[0][0]        \n",
            "                                                                 add_10[0][0]                     \n",
            "__________________________________________________________________________________________________\n",
            "block13_sepconv1_act (Activatio (None, 9, 9, 728)    0           add_11[0][0]                     \n",
            "__________________________________________________________________________________________________\n",
            "block13_sepconv1 (SeparableConv (None, 9, 9, 728)    536536      block13_sepconv1_act[0][0]       \n",
            "__________________________________________________________________________________________________\n",
            "block13_sepconv1_bn (BatchNorma (None, 9, 9, 728)    2912        block13_sepconv1[0][0]           \n",
            "__________________________________________________________________________________________________\n",
            "block13_sepconv2_act (Activatio (None, 9, 9, 728)    0           block13_sepconv1_bn[0][0]        \n",
            "__________________________________________________________________________________________________\n",
            "block13_sepconv2 (SeparableConv (None, 9, 9, 1024)   752024      block13_sepconv2_act[0][0]       \n",
            "__________________________________________________________________________________________________\n",
            "block13_sepconv2_bn (BatchNorma (None, 9, 9, 1024)   4096        block13_sepconv2[0][0]           \n",
            "__________________________________________________________________________________________________\n",
            "conv2d_4 (Conv2D)               (None, 5, 5, 1024)   745472      add_11[0][0]                     \n",
            "__________________________________________________________________________________________________\n",
            "block13_pool (MaxPooling2D)     (None, 5, 5, 1024)   0           block13_sepconv2_bn[0][0]        \n",
            "__________________________________________________________________________________________________\n",
            "batch_normalization_4 (BatchNor (None, 5, 5, 1024)   4096        conv2d_4[0][0]                   \n",
            "__________________________________________________________________________________________________\n",
            "add_12 (Add)                    (None, 5, 5, 1024)   0           block13_pool[0][0]               \n",
            "                                                                 batch_normalization_4[0][0]      \n",
            "__________________________________________________________________________________________________\n",
            "block14_sepconv1 (SeparableConv (None, 5, 5, 1536)   1582080     add_12[0][0]                     \n",
            "__________________________________________________________________________________________________\n",
            "block14_sepconv1_bn (BatchNorma (None, 5, 5, 1536)   6144        block14_sepconv1[0][0]           \n",
            "__________________________________________________________________________________________________\n",
            "block14_sepconv1_act (Activatio (None, 5, 5, 1536)   0           block14_sepconv1_bn[0][0]        \n",
            "__________________________________________________________________________________________________\n",
            "block14_sepconv2 (SeparableConv (None, 5, 5, 2048)   3159552     block14_sepconv1_act[0][0]       \n",
            "__________________________________________________________________________________________________\n",
            "block14_sepconv2_bn (BatchNorma (None, 5, 5, 2048)   8192        block14_sepconv2[0][0]           \n",
            "__________________________________________________________________________________________________\n",
            "block14_sepconv2_act (Activatio (None, 5, 5, 2048)   0           block14_sepconv2_bn[0][0]        \n",
            "==================================================================================================\n",
            "Total params: 20,861,480\n",
            "Trainable params: 20,806,952\n",
            "Non-trainable params: 54,528\n",
            "__________________________________________________________________________________________________\n"
          ],
          "name": "stdout"
        }
      ]
    },
    {
      "cell_type": "markdown",
      "metadata": {
        "id": "n208at8f4D4P",
        "colab_type": "text"
      },
      "source": [
        "The convolutional base is frozen so that it will not be trained along with the rest of the model."
      ]
    },
    {
      "cell_type": "code",
      "metadata": {
        "id": "jDOxyDUD3xCk",
        "colab_type": "code",
        "colab": {}
      },
      "source": [
        "conv_base.trainable = False"
      ],
      "execution_count": 0,
      "outputs": []
    },
    {
      "cell_type": "markdown",
      "metadata": {
        "id": "RPoRmw-94JwF",
        "colab_type": "text"
      },
      "source": [
        "Then, several fully connected layers are concatenated onto the model."
      ]
    },
    {
      "cell_type": "code",
      "metadata": {
        "id": "1lo5szF03yu2",
        "colab_type": "code",
        "colab": {}
      },
      "source": [
        "from keras import layers\n",
        "from keras import models\n",
        "from keras import optimizers\n",
        "\n",
        "model = models.Sequential()\n",
        "model.add(conv_base)\n",
        "model.add(layers.Flatten())\n",
        "model.add(layers.Dense(256, activation='relu'))\n",
        "# A new dense layer\n",
        "model.add(layers.Dense(128, activation='relu'))\n",
        "#model.add(layers.Dropout(0.1))\n",
        "model.add(layers.Dense(1, activation='sigmoid'))"
      ],
      "execution_count": 0,
      "outputs": []
    },
    {
      "cell_type": "code",
      "metadata": {
        "id": "q_t_12Gz3z5p",
        "colab_type": "code",
        "outputId": "cd8a4b00-5762-4841-a839-58a5012e5ce6",
        "colab": {
          "base_uri": "https://localhost:8080/",
          "height": 323
        }
      },
      "source": [
        "model.summary()"
      ],
      "execution_count": 8,
      "outputs": [
        {
          "output_type": "stream",
          "text": [
            "Model: \"sequential_1\"\n",
            "_________________________________________________________________\n",
            "Layer (type)                 Output Shape              Param #   \n",
            "=================================================================\n",
            "xception (Model)             (None, 5, 5, 2048)        20861480  \n",
            "_________________________________________________________________\n",
            "flatten_1 (Flatten)          (None, 51200)             0         \n",
            "_________________________________________________________________\n",
            "dense_1 (Dense)              (None, 256)               13107456  \n",
            "_________________________________________________________________\n",
            "dense_2 (Dense)              (None, 128)               32896     \n",
            "_________________________________________________________________\n",
            "dense_3 (Dense)              (None, 1)                 129       \n",
            "=================================================================\n",
            "Total params: 34,001,961\n",
            "Trainable params: 13,140,481\n",
            "Non-trainable params: 20,861,480\n",
            "_________________________________________________________________\n"
          ],
          "name": "stdout"
        }
      ]
    },
    {
      "cell_type": "markdown",
      "metadata": {
        "id": "GDEp_X7e4iWw",
        "colab_type": "text"
      },
      "source": [
        "##Train the model"
      ]
    },
    {
      "cell_type": "code",
      "metadata": {
        "id": "kVM4c0v04kLH",
        "colab_type": "code",
        "outputId": "9567e851-89b2-4255-ac06-f9f59098d287",
        "colab": {
          "base_uri": "https://localhost:8080/",
          "height": 1000
        }
      },
      "source": [
        "from keras.preprocessing.image import ImageDataGenerator\n",
        "from keras import optimizers\n",
        "\n",
        "# data augmentation\n",
        "\n",
        "train_datagen = ImageDataGenerator(\n",
        "    rescale=1./255, \n",
        "    rotation_range=40,\n",
        "    width_shift_range=0.2,\n",
        "    height_shift_range=0.2,\n",
        "    shear_range=0.2,\n",
        "    zoom_range=0.2,\n",
        "    horizontal_flip=True,\n",
        "    fill_mode='nearest'\n",
        ")\n",
        "\n",
        "train_generator = train_datagen.flow_from_directory(\n",
        "    train_dir,\n",
        "    target_size=(150, 150),\n",
        "    batch_size=20,\n",
        "    class_mode='binary')\n",
        "\n",
        "validation_datagen = ImageDataGenerator(rescale=1./255)\n",
        "\n",
        "validation_generator = validation_datagen.flow_from_directory(\n",
        "    validation_dir,\n",
        "    target_size=(150, 150),\n",
        "    batch_size=20,\n",
        "    class_mode='binary')\n",
        "\n",
        "# compile model\n",
        "\n",
        "model.compile(\n",
        "    loss='binary_crossentropy', \n",
        "    optimizer=optimizers.RMSprop(lr=2e-5), \n",
        "    metrics=['acc'])\n",
        "\n",
        "# train\n",
        "\n",
        "history = model.fit_generator(\n",
        "    train_generator,\n",
        "    steps_per_epoch=100,\n",
        "    epochs=30,\n",
        "    validation_data=validation_generator,\n",
        "    validation_steps=50\n",
        ")"
      ],
      "execution_count": 9,
      "outputs": [
        {
          "output_type": "stream",
          "text": [
            "Found 2000 images belonging to 2 classes.\n",
            "Found 1000 images belonging to 2 classes.\n",
            "Epoch 1/30\n",
            "100/100 [==============================] - 25s 251ms/step - loss: 0.4418 - acc: 0.7780 - val_loss: 0.0265 - val_acc: 0.9580\n",
            "Epoch 2/30\n",
            "100/100 [==============================] - 20s 199ms/step - loss: 0.3639 - acc: 0.8295 - val_loss: 0.4438 - val_acc: 0.9580\n",
            "Epoch 3/30\n",
            "100/100 [==============================] - 20s 198ms/step - loss: 0.3571 - acc: 0.8335 - val_loss: 0.0621 - val_acc: 0.9650\n",
            "Epoch 4/30\n",
            "100/100 [==============================] - 20s 197ms/step - loss: 0.3572 - acc: 0.8405 - val_loss: 0.3749 - val_acc: 0.9670\n",
            "Epoch 5/30\n",
            "100/100 [==============================] - 20s 198ms/step - loss: 0.3190 - acc: 0.8595 - val_loss: 0.0498 - val_acc: 0.9490\n",
            "Epoch 6/30\n",
            "100/100 [==============================] - 20s 198ms/step - loss: 0.3050 - acc: 0.8710 - val_loss: 0.1421 - val_acc: 0.9660\n",
            "Epoch 7/30\n",
            "100/100 [==============================] - 20s 197ms/step - loss: 0.3177 - acc: 0.8515 - val_loss: 0.3621 - val_acc: 0.9600\n",
            "Epoch 8/30\n",
            "100/100 [==============================] - 20s 196ms/step - loss: 0.3181 - acc: 0.8535 - val_loss: 2.4340e-04 - val_acc: 0.9690\n",
            "Epoch 9/30\n",
            "100/100 [==============================] - 20s 197ms/step - loss: 0.3244 - acc: 0.8660 - val_loss: 3.6678e-04 - val_acc: 0.9650\n",
            "Epoch 10/30\n",
            "100/100 [==============================] - 20s 199ms/step - loss: 0.3068 - acc: 0.8705 - val_loss: 0.3876 - val_acc: 0.9660\n",
            "Epoch 11/30\n",
            "100/100 [==============================] - 20s 196ms/step - loss: 0.3044 - acc: 0.8740 - val_loss: 2.6786e-05 - val_acc: 0.9710\n",
            "Epoch 12/30\n",
            "100/100 [==============================] - 20s 197ms/step - loss: 0.3220 - acc: 0.8570 - val_loss: 0.0058 - val_acc: 0.9660\n",
            "Epoch 13/30\n",
            "100/100 [==============================] - 20s 196ms/step - loss: 0.2822 - acc: 0.8755 - val_loss: 0.3010 - val_acc: 0.9740\n",
            "Epoch 14/30\n",
            "100/100 [==============================] - 20s 197ms/step - loss: 0.2879 - acc: 0.8745 - val_loss: 0.1528 - val_acc: 0.9720\n",
            "Epoch 15/30\n",
            "100/100 [==============================] - 20s 196ms/step - loss: 0.2948 - acc: 0.8680 - val_loss: 0.8632 - val_acc: 0.9510\n",
            "Epoch 16/30\n",
            "100/100 [==============================] - 20s 196ms/step - loss: 0.2846 - acc: 0.8655 - val_loss: 3.1360e-05 - val_acc: 0.9700\n",
            "Epoch 17/30\n",
            "100/100 [==============================] - 20s 196ms/step - loss: 0.2666 - acc: 0.8830 - val_loss: 7.2449e-05 - val_acc: 0.9700\n",
            "Epoch 18/30\n",
            "100/100 [==============================] - 20s 197ms/step - loss: 0.2992 - acc: 0.8610 - val_loss: 1.0670e-04 - val_acc: 0.9710\n",
            "Epoch 19/30\n",
            "100/100 [==============================] - 20s 196ms/step - loss: 0.2661 - acc: 0.8810 - val_loss: 0.0042 - val_acc: 0.9720\n",
            "Epoch 20/30\n",
            "100/100 [==============================] - 19s 194ms/step - loss: 0.2928 - acc: 0.8650 - val_loss: 3.3226e-05 - val_acc: 0.9720\n",
            "Epoch 21/30\n",
            "100/100 [==============================] - 20s 196ms/step - loss: 0.2821 - acc: 0.8825 - val_loss: 0.1517 - val_acc: 0.9640\n",
            "Epoch 22/30\n",
            "100/100 [==============================] - 20s 196ms/step - loss: 0.2757 - acc: 0.8845 - val_loss: 3.4923e-04 - val_acc: 0.9730\n",
            "Epoch 23/30\n",
            "100/100 [==============================] - 20s 196ms/step - loss: 0.2697 - acc: 0.8845 - val_loss: 4.8470e-04 - val_acc: 0.9720\n",
            "Epoch 24/30\n",
            "100/100 [==============================] - 20s 195ms/step - loss: 0.2569 - acc: 0.8860 - val_loss: 0.1225 - val_acc: 0.9700\n",
            "Epoch 25/30\n",
            "100/100 [==============================] - 19s 195ms/step - loss: 0.2696 - acc: 0.8710 - val_loss: 0.1162 - val_acc: 0.9710\n",
            "Epoch 26/30\n",
            "100/100 [==============================] - 20s 197ms/step - loss: 0.2595 - acc: 0.8880 - val_loss: 0.0145 - val_acc: 0.9700\n",
            "Epoch 27/30\n",
            "100/100 [==============================] - 20s 196ms/step - loss: 0.2639 - acc: 0.8830 - val_loss: 0.3433 - val_acc: 0.9680\n",
            "Epoch 28/30\n",
            "100/100 [==============================] - 19s 195ms/step - loss: 0.2672 - acc: 0.8770 - val_loss: 0.4345 - val_acc: 0.9670\n",
            "Epoch 29/30\n",
            "100/100 [==============================] - 19s 194ms/step - loss: 0.2794 - acc: 0.8690 - val_loss: 1.3198e-06 - val_acc: 0.9730\n",
            "Epoch 30/30\n",
            "100/100 [==============================] - 20s 195ms/step - loss: 0.2344 - acc: 0.9010 - val_loss: 0.0085 - val_acc: 0.9710\n"
          ],
          "name": "stdout"
        }
      ]
    },
    {
      "cell_type": "markdown",
      "metadata": {
        "id": "dpgcUqmg56kQ",
        "colab_type": "text"
      },
      "source": [
        "##Display loss and accuracy"
      ]
    },
    {
      "cell_type": "code",
      "metadata": {
        "id": "vN6t9ZK359Iq",
        "colab_type": "code",
        "outputId": "f82d88ba-7c6a-45bd-d3a0-7c051cbbff1b",
        "colab": {
          "base_uri": "https://localhost:8080/",
          "height": 545
        }
      },
      "source": [
        "%matplotlib inline\n",
        "\n",
        "import matplotlib.pyplot as plt\n",
        "\n",
        "acc = history.history['acc']\n",
        "val_acc = history.history['val_acc']\n",
        "\n",
        "loss = history.history['loss']\n",
        "val_loss = history.history['val_loss']\n",
        "\n",
        "epochs = range(1, len(acc) + 1)\n",
        "\n",
        "# training and validation accuracy\n",
        "\n",
        "plt.plot(epochs, acc, 'bo', label='training acc')\n",
        "plt.plot(epochs, val_acc, 'b', label='validation acc')\n",
        "plt.title('training and validation accuracy')\n",
        "plt.legend()\n",
        "\n",
        "plt.figure()\n",
        "\n",
        "# training and validation loss\n",
        "\n",
        "plt.plot(epochs, loss, 'bo', label='training loss')\n",
        "plt.plot(epochs, val_loss, 'b', label='validation loss')\n",
        "plt.title('training and validation loss')\n",
        "plt.legend()\n",
        "\n",
        "plt.show()"
      ],
      "execution_count": 10,
      "outputs": [
        {
          "output_type": "display_data",
          "data": {
            "image/png": "[encoded data removed]",
            "text/plain": [
              "<Figure size 432x288 with 1 Axes>"
            ]
          },
          "metadata": {
            "tags": [],
            "needs_background": "light"
          }
        },
        {
          "output_type": "display_data",
          "data": {
            "image/png": "[encoded data removed]",
            "text/plain": [
              "<Figure size 432x288 with 1 Axes>"
            ]
          },
          "metadata": {
            "tags": [],
            "needs_background": "light"
          }
        }
      ]
    },
    {
      "cell_type": "markdown",
      "metadata": {
        "id": "zhvMskFxi9JS",
        "colab_type": "text"
      },
      "source": [
        "##Fine tuning\n",
        "\n",
        "To fine tune the model, I will unfreeze some of the layers in the conv base and retrain. The best results should come from unfreezing layers close to the top, so I will only unfreeze layers from block 12 and up."
      ]
    },
    {
      "cell_type": "code",
      "metadata": {
        "id": "uU3d5-XOi_jr",
        "colab_type": "code",
        "colab": {}
      },
      "source": [
        "conv_base.trainable = True\n",
        "\n",
        "set_trainable = False\n",
        "for layer in conv_base.layers:\n",
        "  if layer.name == 'block12_sepconv1':\n",
        "    set_trainable = True\n",
        "  if set_trainable:\n",
        "    layer.trainable = True\n",
        "  else:\n",
        "    layer.trainable = False"
      ],
      "execution_count": 0,
      "outputs": []
    },
    {
      "cell_type": "code",
      "metadata": {
        "id": "mVNTJzvCjCIS",
        "colab_type": "code",
        "outputId": "3235ac65-1ac1-4ca0-ecfb-feb855e37f8c",
        "colab": {
          "base_uri": "https://localhost:8080/",
          "height": 1000
        }
      },
      "source": [
        "# compile model\n",
        "\n",
        "model.compile(\n",
        "    loss='binary_crossentropy',\n",
        "    #\n",
        "    # choose a smaller learning rate\n",
        "    #\n",
        "    optimizer=optimizers.RMSprop(lr=1e-5), \n",
        "    metrics=['acc'])\n",
        "\n",
        "# train\n",
        "\n",
        "history = model.fit_generator(\n",
        "    train_generator,\n",
        "    steps_per_epoch=100,\n",
        "    epochs=100,\n",
        "    validation_data=validation_generator,\n",
        "    validation_steps=50)"
      ],
      "execution_count": 12,
      "outputs": [
        {
          "output_type": "stream",
          "text": [
            "Epoch 1/100\n",
            "100/100 [==============================] - 26s 265ms/step - loss: 0.2452 - acc: 0.8955 - val_loss: 0.1503 - val_acc: 0.9400\n",
            "Epoch 2/100\n",
            "100/100 [==============================] - 21s 214ms/step - loss: 0.2328 - acc: 0.9030 - val_loss: 0.3397 - val_acc: 0.9250\n",
            "Epoch 3/100\n",
            "100/100 [==============================] - 22s 215ms/step - loss: 0.2273 - acc: 0.9025 - val_loss: 0.0616 - val_acc: 0.9430\n",
            "Epoch 4/100\n",
            "100/100 [==============================] - 21s 215ms/step - loss: 0.2308 - acc: 0.9090 - val_loss: 0.1926 - val_acc: 0.9180\n",
            "Epoch 5/100\n",
            "100/100 [==============================] - 21s 214ms/step - loss: 0.2237 - acc: 0.9125 - val_loss: 0.3219 - val_acc: 0.9380\n",
            "Epoch 6/100\n",
            "100/100 [==============================] - 21s 212ms/step - loss: 0.2034 - acc: 0.9175 - val_loss: 0.0147 - val_acc: 0.9380\n",
            "Epoch 7/100\n",
            "100/100 [==============================] - 21s 214ms/step - loss: 0.1821 - acc: 0.9280 - val_loss: 0.1311 - val_acc: 0.9320\n",
            "Epoch 8/100\n",
            "100/100 [==============================] - 21s 213ms/step - loss: 0.1931 - acc: 0.9215 - val_loss: 0.1153 - val_acc: 0.9320\n",
            "Epoch 9/100\n",
            "100/100 [==============================] - 21s 212ms/step - loss: 0.1886 - acc: 0.9255 - val_loss: 0.1611 - val_acc: 0.9390\n",
            "Epoch 10/100\n",
            "100/100 [==============================] - 21s 212ms/step - loss: 0.1943 - acc: 0.9210 - val_loss: 0.8740 - val_acc: 0.9290\n",
            "Epoch 11/100\n",
            "100/100 [==============================] - 21s 213ms/step - loss: 0.1617 - acc: 0.9330 - val_loss: 0.0278 - val_acc: 0.9400\n",
            "Epoch 12/100\n",
            "100/100 [==============================] - 21s 213ms/step - loss: 0.1784 - acc: 0.9320 - val_loss: 0.1925 - val_acc: 0.9320\n",
            "Epoch 13/100\n",
            "100/100 [==============================] - 21s 212ms/step - loss: 0.1847 - acc: 0.9260 - val_loss: 0.2161 - val_acc: 0.9350\n",
            "Epoch 14/100\n",
            "100/100 [==============================] - 21s 213ms/step - loss: 0.1789 - acc: 0.9290 - val_loss: 0.0051 - val_acc: 0.9360\n",
            "Epoch 15/100\n",
            "100/100 [==============================] - 21s 214ms/step - loss: 0.1732 - acc: 0.9380 - val_loss: 0.0950 - val_acc: 0.9450\n",
            "Epoch 16/100\n",
            "100/100 [==============================] - 21s 212ms/step - loss: 0.1508 - acc: 0.9400 - val_loss: 0.2392 - val_acc: 0.9360\n",
            "Epoch 17/100\n",
            "100/100 [==============================] - 21s 214ms/step - loss: 0.1614 - acc: 0.9360 - val_loss: 0.1520 - val_acc: 0.9340\n",
            "Epoch 18/100\n",
            "100/100 [==============================] - 21s 213ms/step - loss: 0.1652 - acc: 0.9295 - val_loss: 0.1706 - val_acc: 0.9420\n",
            "Epoch 19/100\n",
            "100/100 [==============================] - 21s 214ms/step - loss: 0.1548 - acc: 0.9395 - val_loss: 0.6446 - val_acc: 0.9400\n",
            "Epoch 20/100\n",
            "100/100 [==============================] - 21s 213ms/step - loss: 0.1573 - acc: 0.9380 - val_loss: 0.0047 - val_acc: 0.9440\n",
            "Epoch 21/100\n",
            "100/100 [==============================] - 21s 214ms/step - loss: 0.1529 - acc: 0.9410 - val_loss: 0.0652 - val_acc: 0.9420\n",
            "Epoch 22/100\n",
            "100/100 [==============================] - 21s 214ms/step - loss: 0.1520 - acc: 0.9365 - val_loss: 0.0151 - val_acc: 0.9460\n",
            "Epoch 23/100\n",
            "100/100 [==============================] - 21s 214ms/step - loss: 0.1298 - acc: 0.9490 - val_loss: 0.1866 - val_acc: 0.9420\n",
            "Epoch 24/100\n",
            "100/100 [==============================] - 21s 214ms/step - loss: 0.1603 - acc: 0.9405 - val_loss: 0.1031 - val_acc: 0.9380\n",
            "Epoch 25/100\n",
            "100/100 [==============================] - 21s 214ms/step - loss: 0.1336 - acc: 0.9470 - val_loss: 0.1550 - val_acc: 0.9380\n",
            "Epoch 26/100\n",
            "100/100 [==============================] - 21s 214ms/step - loss: 0.1394 - acc: 0.9450 - val_loss: 0.2107 - val_acc: 0.9430\n",
            "Epoch 27/100\n",
            "100/100 [==============================] - 21s 214ms/step - loss: 0.1270 - acc: 0.9455 - val_loss: 0.0598 - val_acc: 0.9460\n",
            "Epoch 28/100\n",
            "100/100 [==============================] - 21s 215ms/step - loss: 0.1132 - acc: 0.9555 - val_loss: 0.1665 - val_acc: 0.9420\n",
            "Epoch 29/100\n",
            "100/100 [==============================] - 21s 213ms/step - loss: 0.1389 - acc: 0.9450 - val_loss: 0.0183 - val_acc: 0.9370\n",
            "Epoch 30/100\n",
            "100/100 [==============================] - 21s 214ms/step - loss: 0.1181 - acc: 0.9525 - val_loss: 0.0576 - val_acc: 0.9450\n",
            "Epoch 31/100\n",
            "100/100 [==============================] - 21s 213ms/step - loss: 0.1340 - acc: 0.9510 - val_loss: 0.0066 - val_acc: 0.9470\n",
            "Epoch 32/100\n",
            "100/100 [==============================] - 21s 215ms/step - loss: 0.1009 - acc: 0.9580 - val_loss: 0.0834 - val_acc: 0.9350\n",
            "Epoch 33/100\n",
            "100/100 [==============================] - 21s 213ms/step - loss: 0.1158 - acc: 0.9540 - val_loss: 0.0062 - val_acc: 0.9510\n",
            "Epoch 34/100\n",
            "100/100 [==============================] - 21s 213ms/step - loss: 0.1038 - acc: 0.9585 - val_loss: 0.5522 - val_acc: 0.9360\n",
            "Epoch 35/100\n",
            "100/100 [==============================] - 21s 214ms/step - loss: 0.1368 - acc: 0.9505 - val_loss: 0.0083 - val_acc: 0.9560\n",
            "Epoch 36/100\n",
            "100/100 [==============================] - 22s 216ms/step - loss: 0.1159 - acc: 0.9555 - val_loss: 0.1297 - val_acc: 0.9540\n",
            "Epoch 37/100\n",
            "100/100 [==============================] - 21s 214ms/step - loss: 0.1092 - acc: 0.9530 - val_loss: 0.2733 - val_acc: 0.9500\n",
            "Epoch 38/100\n",
            "100/100 [==============================] - 22s 216ms/step - loss: 0.1154 - acc: 0.9600 - val_loss: 0.1776 - val_acc: 0.9590\n",
            "Epoch 39/100\n",
            "100/100 [==============================] - 21s 213ms/step - loss: 0.1230 - acc: 0.9560 - val_loss: 0.0123 - val_acc: 0.9390\n",
            "Epoch 40/100\n",
            "100/100 [==============================] - 21s 214ms/step - loss: 0.0953 - acc: 0.9605 - val_loss: 0.0226 - val_acc: 0.9540\n",
            "Epoch 41/100\n",
            "100/100 [==============================] - 22s 215ms/step - loss: 0.1000 - acc: 0.9635 - val_loss: 0.0601 - val_acc: 0.9570\n",
            "Epoch 42/100\n",
            "100/100 [==============================] - 22s 217ms/step - loss: 0.1000 - acc: 0.9630 - val_loss: 0.0017 - val_acc: 0.9570\n",
            "Epoch 43/100\n",
            "100/100 [==============================] - 21s 214ms/step - loss: 0.1037 - acc: 0.9615 - val_loss: 0.0095 - val_acc: 0.9570\n",
            "Epoch 44/100\n",
            "100/100 [==============================] - 21s 214ms/step - loss: 0.1149 - acc: 0.9545 - val_loss: 0.0734 - val_acc: 0.9550\n",
            "Epoch 45/100\n",
            "100/100 [==============================] - 22s 215ms/step - loss: 0.0899 - acc: 0.9680 - val_loss: 0.3217 - val_acc: 0.9550\n",
            "Epoch 46/100\n",
            "100/100 [==============================] - 22s 216ms/step - loss: 0.0900 - acc: 0.9640 - val_loss: 0.0298 - val_acc: 0.9470\n",
            "Epoch 47/100\n",
            "100/100 [==============================] - 21s 215ms/step - loss: 0.0850 - acc: 0.9635 - val_loss: 0.3807 - val_acc: 0.9530\n",
            "Epoch 48/100\n",
            "100/100 [==============================] - 21s 215ms/step - loss: 0.1064 - acc: 0.9590 - val_loss: 0.0204 - val_acc: 0.9420\n",
            "Epoch 49/100\n",
            "100/100 [==============================] - 22s 216ms/step - loss: 0.0999 - acc: 0.9635 - val_loss: 0.0492 - val_acc: 0.9600\n",
            "Epoch 50/100\n",
            "100/100 [==============================] - 21s 214ms/step - loss: 0.0845 - acc: 0.9660 - val_loss: 0.6468 - val_acc: 0.9560\n",
            "Epoch 51/100\n",
            "100/100 [==============================] - 21s 214ms/step - loss: 0.1007 - acc: 0.9675 - val_loss: 0.4171 - val_acc: 0.9520\n",
            "Epoch 52/100\n",
            "100/100 [==============================] - 22s 215ms/step - loss: 0.0932 - acc: 0.9665 - val_loss: 0.0570 - val_acc: 0.9550\n",
            "Epoch 53/100\n",
            "100/100 [==============================] - 22s 217ms/step - loss: 0.0844 - acc: 0.9680 - val_loss: 0.5749 - val_acc: 0.9570\n",
            "Epoch 54/100\n",
            "100/100 [==============================] - 22s 216ms/step - loss: 0.0861 - acc: 0.9675 - val_loss: 0.2873 - val_acc: 0.9580\n",
            "Epoch 55/100\n",
            "100/100 [==============================] - 22s 215ms/step - loss: 0.0868 - acc: 0.9685 - val_loss: 1.0184 - val_acc: 0.9490\n",
            "Epoch 56/100\n",
            "100/100 [==============================] - 22s 217ms/step - loss: 0.0943 - acc: 0.9640 - val_loss: 0.0524 - val_acc: 0.9560\n",
            "Epoch 57/100\n",
            "100/100 [==============================] - 22s 216ms/step - loss: 0.1038 - acc: 0.9615 - val_loss: 5.5749e-04 - val_acc: 0.9460\n",
            "Epoch 58/100\n",
            "100/100 [==============================] - 21s 215ms/step - loss: 0.0761 - acc: 0.9680 - val_loss: 0.1296 - val_acc: 0.9570\n",
            "Epoch 59/100\n",
            "100/100 [==============================] - 21s 215ms/step - loss: 0.0848 - acc: 0.9685 - val_loss: 0.1614 - val_acc: 0.9580\n",
            "Epoch 60/100\n",
            "100/100 [==============================] - 22s 216ms/step - loss: 0.0803 - acc: 0.9705 - val_loss: 0.1117 - val_acc: 0.9500\n",
            "Epoch 61/100\n",
            "100/100 [==============================] - 22s 216ms/step - loss: 0.0964 - acc: 0.9665 - val_loss: 0.1163 - val_acc: 0.9540\n",
            "Epoch 62/100\n",
            "100/100 [==============================] - 21s 214ms/step - loss: 0.1012 - acc: 0.9585 - val_loss: 0.1396 - val_acc: 0.9520\n",
            "Epoch 63/100\n",
            "100/100 [==============================] - 21s 214ms/step - loss: 0.0602 - acc: 0.9755 - val_loss: 0.5252 - val_acc: 0.9540\n",
            "Epoch 64/100\n",
            "100/100 [==============================] - 21s 214ms/step - loss: 0.0754 - acc: 0.9710 - val_loss: 0.0025 - val_acc: 0.9530\n",
            "Epoch 65/100\n",
            "100/100 [==============================] - 21s 213ms/step - loss: 0.0822 - acc: 0.9705 - val_loss: 0.0015 - val_acc: 0.9630\n",
            "Epoch 66/100\n",
            "100/100 [==============================] - 21s 213ms/step - loss: 0.0904 - acc: 0.9665 - val_loss: 0.1348 - val_acc: 0.9550\n",
            "Epoch 67/100\n",
            "100/100 [==============================] - 21s 214ms/step - loss: 0.0777 - acc: 0.9700 - val_loss: 0.2528 - val_acc: 0.9550\n",
            "Epoch 68/100\n",
            "100/100 [==============================] - 21s 214ms/step - loss: 0.0734 - acc: 0.9715 - val_loss: 1.2096 - val_acc: 0.9460\n",
            "Epoch 69/100\n",
            "100/100 [==============================] - 21s 214ms/step - loss: 0.0715 - acc: 0.9745 - val_loss: 0.0371 - val_acc: 0.9540\n",
            "Epoch 70/100\n",
            "100/100 [==============================] - 21s 213ms/step - loss: 0.0894 - acc: 0.9655 - val_loss: 0.0834 - val_acc: 0.9430\n",
            "Epoch 71/100\n",
            "100/100 [==============================] - 21s 214ms/step - loss: 0.0678 - acc: 0.9750 - val_loss: 0.1392 - val_acc: 0.9500\n",
            "Epoch 72/100\n",
            "100/100 [==============================] - 21s 215ms/step - loss: 0.0610 - acc: 0.9805 - val_loss: 0.0126 - val_acc: 0.9570\n",
            "Epoch 73/100\n",
            "100/100 [==============================] - 21s 214ms/step - loss: 0.0542 - acc: 0.9800 - val_loss: 0.6074 - val_acc: 0.9510\n",
            "Epoch 74/100\n",
            "100/100 [==============================] - 21s 213ms/step - loss: 0.0658 - acc: 0.9770 - val_loss: 0.0981 - val_acc: 0.9510\n",
            "Epoch 75/100\n",
            "100/100 [==============================] - 22s 215ms/step - loss: 0.0764 - acc: 0.9725 - val_loss: 0.2511 - val_acc: 0.9520\n",
            "Epoch 76/100\n",
            "100/100 [==============================] - 21s 212ms/step - loss: 0.0721 - acc: 0.9765 - val_loss: 0.2426 - val_acc: 0.9570\n",
            "Epoch 77/100\n",
            "100/100 [==============================] - 21s 213ms/step - loss: 0.0774 - acc: 0.9750 - val_loss: 0.4117 - val_acc: 0.9570\n",
            "Epoch 78/100\n",
            "100/100 [==============================] - 21s 214ms/step - loss: 0.0797 - acc: 0.9690 - val_loss: 0.0253 - val_acc: 0.9550\n",
            "Epoch 79/100\n",
            "100/100 [==============================] - 22s 215ms/step - loss: 0.0732 - acc: 0.9705 - val_loss: 0.1499 - val_acc: 0.9550\n",
            "Epoch 80/100\n",
            "100/100 [==============================] - 21s 213ms/step - loss: 0.0586 - acc: 0.9785 - val_loss: 0.3427 - val_acc: 0.9450\n",
            "Epoch 81/100\n",
            "100/100 [==============================] - 21s 213ms/step - loss: 0.0767 - acc: 0.9705 - val_loss: 0.1184 - val_acc: 0.9440\n",
            "Epoch 82/100\n",
            "100/100 [==============================] - 21s 213ms/step - loss: 0.0632 - acc: 0.9765 - val_loss: 0.2431 - val_acc: 0.9510\n",
            "Epoch 83/100\n",
            "100/100 [==============================] - 21s 214ms/step - loss: 0.0638 - acc: 0.9770 - val_loss: 0.1758 - val_acc: 0.9520\n",
            "Epoch 84/100\n",
            "100/100 [==============================] - 21s 214ms/step - loss: 0.0673 - acc: 0.9755 - val_loss: 0.0812 - val_acc: 0.9530\n",
            "Epoch 85/100\n",
            "100/100 [==============================] - 21s 215ms/step - loss: 0.0695 - acc: 0.9735 - val_loss: 0.0012 - val_acc: 0.9520\n",
            "Epoch 86/100\n",
            "100/100 [==============================] - 21s 213ms/step - loss: 0.0677 - acc: 0.9770 - val_loss: 0.2897 - val_acc: 0.9580\n",
            "Epoch 87/100\n",
            "100/100 [==============================] - 21s 213ms/step - loss: 0.0734 - acc: 0.9765 - val_loss: 0.0454 - val_acc: 0.9560\n",
            "Epoch 88/100\n",
            "100/100 [==============================] - 21s 213ms/step - loss: 0.0698 - acc: 0.9790 - val_loss: 0.1032 - val_acc: 0.9530\n",
            "Epoch 89/100\n",
            "100/100 [==============================] - 21s 214ms/step - loss: 0.0595 - acc: 0.9815 - val_loss: 0.0230 - val_acc: 0.9530\n",
            "Epoch 90/100\n",
            "100/100 [==============================] - 22s 215ms/step - loss: 0.0515 - acc: 0.9850 - val_loss: 0.1854 - val_acc: 0.9520\n",
            "Epoch 91/100\n",
            "100/100 [==============================] - 21s 213ms/step - loss: 0.0571 - acc: 0.9805 - val_loss: 0.1613 - val_acc: 0.9560\n",
            "Epoch 92/100\n",
            "100/100 [==============================] - 21s 213ms/step - loss: 0.0646 - acc: 0.9770 - val_loss: 0.0767 - val_acc: 0.9520\n",
            "Epoch 93/100\n",
            "100/100 [==============================] - 21s 213ms/step - loss: 0.0572 - acc: 0.9775 - val_loss: 0.3262 - val_acc: 0.9550\n",
            "Epoch 94/100\n",
            "100/100 [==============================] - 21s 213ms/step - loss: 0.0558 - acc: 0.9820 - val_loss: 0.0064 - val_acc: 0.9490\n",
            "Epoch 95/100\n",
            "100/100 [==============================] - 21s 213ms/step - loss: 0.0459 - acc: 0.9830 - val_loss: 0.4585 - val_acc: 0.9460\n",
            "Epoch 96/100\n",
            "100/100 [==============================] - 21s 214ms/step - loss: 0.0672 - acc: 0.9780 - val_loss: 0.1971 - val_acc: 0.9530\n",
            "Epoch 97/100\n",
            "100/100 [==============================] - 21s 214ms/step - loss: 0.0658 - acc: 0.9770 - val_loss: 0.1702 - val_acc: 0.9440\n",
            "Epoch 98/100\n",
            "100/100 [==============================] - 21s 214ms/step - loss: 0.0755 - acc: 0.9765 - val_loss: 0.7384 - val_acc: 0.9490\n",
            "Epoch 99/100\n",
            "100/100 [==============================] - 21s 213ms/step - loss: 0.0627 - acc: 0.9780 - val_loss: 0.0198 - val_acc: 0.9520\n",
            "Epoch 100/100\n",
            "100/100 [==============================] - 21s 212ms/step - loss: 0.0487 - acc: 0.9795 - val_loss: 0.9730 - val_acc: 0.9530\n"
          ],
          "name": "stdout"
        }
      ]
    },
    {
      "cell_type": "markdown",
      "metadata": {
        "id": "xEM3hOUEjFgE",
        "colab_type": "text"
      },
      "source": [
        "##Display learning curves during fine tuning"
      ]
    },
    {
      "cell_type": "code",
      "metadata": {
        "id": "aj10Fb9_jI8x",
        "colab_type": "code",
        "outputId": "aa4edd6c-92c6-48fd-eb94-ac0aeeb93155",
        "colab": {
          "base_uri": "https://localhost:8080/",
          "height": 545
        }
      },
      "source": [
        "%matplotlib inline\n",
        "\n",
        "import matplotlib.pyplot as plt\n",
        "\n",
        "acc = history.history['acc']\n",
        "val_acc = history.history['val_acc']\n",
        "\n",
        "loss = history.history['loss']\n",
        "val_loss = history.history['val_loss']\n",
        "\n",
        "epochs = range(1, len(acc) + 1)\n",
        "\n",
        "# training and validation accuracy\n",
        "\n",
        "plt.plot(epochs, acc, 'bo', label='training acc')\n",
        "plt.plot(epochs, val_acc, 'b', label='validation acc')\n",
        "plt.title('training and validation accuracy')\n",
        "plt.legend()\n",
        "\n",
        "plt.figure()\n",
        "\n",
        "# training and validation loss\n",
        "\n",
        "plt.plot(epochs, loss, 'bo', label='training loss')\n",
        "plt.plot(epochs, val_loss, 'b', label='validation loss')\n",
        "plt.title('training and validation loss')\n",
        "plt.legend()\n",
        "\n",
        "plt.show()"
      ],
      "execution_count": 13,
      "outputs": [
        {
          "output_type": "display_data",
          "data": {
            "image/png": "[encoded data removed]",
            "text/plain": [
              "<Figure size 432x288 with 1 Axes>"
            ]
          },
          "metadata": {
            "tags": [],
            "needs_background": "light"
          }
        },
        {
          "output_type": "display_data",
          "data": {
            "image/png": "[encoded data removed]",
            "text/plain": [
              "<Figure size 432x288 with 1 Axes>"
            ]
          },
          "metadata": {
            "tags": [],
            "needs_background": "light"
          }
        }
      ]
    }
  ]
}