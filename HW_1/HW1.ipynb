{
  "nbformat": 4,
  "nbformat_minor": 0,
  "metadata": {
    "colab": {
      "name": "HW1.ipynb",
      "provenance": [],
      "collapsed_sections": [],
      "include_colab_link": true
    },
    "kernelspec": {
      "name": "python3",
      "display_name": "Python 3"
    }
  },
  "cells": [
    {
      "cell_type": "markdown",
      "metadata": {
        "id": "view-in-github",
        "colab_type": "text"
      },
      "source": [
        "<a href=\"https://colab.research.google.com/github/miketriana/cap4630-wocjan/blob/master/HW_1/HW1.ipynb\" target=\"_parent\"><img src=\"https://colab.research.google.com/assets/colab-badge.svg\" alt=\"Open In Colab\"/></a>"
      ]
    },
    {
      "cell_type": "markdown",
      "metadata": {
        "id": "XsZXt1_XlOuw",
        "colab_type": "text"
      },
      "source": [
        "# Homework 1\n",
        "\n",
        "This assignment creates the function `multiply_matrices`, which takes in a list of 2-D numpy arrays and returns the product. If it is passed a list of incompatible matrices, the function will raise an exception.\n",
        "\n",
        "In order for two matrices to be multiplied, the number of columns in the first matrix must equal the number of rows in the second matrix. The product of the two matrices will have the same number of rows as the first matrix and the same number of columns as the second.\n",
        "\n",
        "The element in any position of the product matrix is equal to the dot product of the corresponding row of the first matrix and column of the second matrix.\n",
        "\n",
        "$c_{ij} = a_{i1}b_{1j} + a_{i2}b_{2j} + ... + a_{in}b_{nj} = \\sum_{k=1}^{n} a_{ik}b_{kj}$"
      ]
    },
    {
      "cell_type": "code",
      "metadata": {
        "id": "TMPdLNtySn4T",
        "colab_type": "code",
        "colab": {}
      },
      "source": [
        "import numpy as np\n",
        "\n",
        "def multiply_matrices(matrices):\n",
        "    # Check for empty list\n",
        "    if (len(matrices) == 0):\n",
        "        return \"Cannot compute, empty list passed.\"\n",
        "    \n",
        "    # Start with the first matrix in the list\n",
        "    matrix_a = matrices[0]\n",
        "\n",
        "    # Iterate through each pair of matrices\n",
        "    i = 1\n",
        "    while i < len(matrices):\n",
        "        matrix_b = matrices[i]\n",
        "\n",
        "        # Multiply matrices together\n",
        "        try:\n",
        "            matrix_a = np.matmul(matrix_a, matrix_b)\n",
        "        except ValueError:\n",
        "            return (\"Cannot compute, matrix \" + str(i + 1)\n",
        "                   + \" has incompatible dimensions\")\n",
        "\n",
        "        i = i + 1\n",
        "\n",
        "    return matrix_a"
      ],
      "execution_count": 0,
      "outputs": []
    },
    {
      "cell_type": "markdown",
      "metadata": {
        "id": "8w2b7QOcoTcl",
        "colab_type": "text"
      },
      "source": [
        "Here two matrices are multiplied together, then a third matrix is multiplied with the product of the first two."
      ]
    },
    {
      "cell_type": "code",
      "metadata": {
        "id": "fjrb0gm8kxRw",
        "colab_type": "code",
        "outputId": "2c031576-7f60-407f-9749-3c6b836bd711",
        "colab": {
          "base_uri": "https://localhost:8080/",
          "height": 85
        }
      },
      "source": [
        "x = np.array([[1,  2,  3],\n",
        "              [4,  5,  6]])\n",
        "y = np.array([[7,  8],\n",
        "              [9,  10],\n",
        "              [11, 12]])\n",
        "z = np.array([[1,  0],\n",
        "              [0,  1]])\n",
        "\n",
        "print(multiply_matrices([x, y]))\n",
        "print(multiply_matrices([x, y, z]))"
      ],
      "execution_count": 2,
      "outputs": [
        {
          "output_type": "stream",
          "text": [
            "[[ 58  64]\n",
            " [139 154]]\n",
            "[[ 58  64]\n",
            " [139 154]]\n"
          ],
          "name": "stdout"
        }
      ]
    },
    {
      "cell_type": "markdown",
      "metadata": {
        "id": "wj5NTMEQlPrc",
        "colab_type": "text"
      },
      "source": [
        "In the following example, the dimensions of the second matrix are incompatible with that of the first for matrix multiplication."
      ]
    },
    {
      "cell_type": "code",
      "metadata": {
        "id": "p8ZjkGVwnuoa",
        "colab_type": "code",
        "colab": {
          "base_uri": "https://localhost:8080/",
          "height": 34
        },
        "outputId": "dc48327e-e3b1-499d-f1cb-d0ae142c99d7"
      },
      "source": [
        "t = np.array([[1,  2,  3],\n",
        "              [4,  5,  6]])\n",
        "u = np.array([[7,  8],\n",
        "              [9,  10]])\n",
        "\n",
        "print(multiply_matrices([t, u]))"
      ],
      "execution_count": 3,
      "outputs": [
        {
          "output_type": "stream",
          "text": [
            "Cannot compute, matrix 2 has incompatible dimensions\n"
          ],
          "name": "stdout"
        }
      ]
    },
    {
      "cell_type": "markdown",
      "metadata": {
        "id": "WJM952GeoSix",
        "colab_type": "text"
      },
      "source": [
        "An error is also thrown if an empty list is passed:"
      ]
    },
    {
      "cell_type": "code",
      "metadata": {
        "id": "jg0BBZOfoZ8u",
        "colab_type": "code",
        "colab": {
          "base_uri": "https://localhost:8080/",
          "height": 34
        },
        "outputId": "cce8c0b5-31ea-41dd-c5b9-24c2ecd0d49d"
      },
      "source": [
        "print(multiply_matrices([]))"
      ],
      "execution_count": 4,
      "outputs": [
        {
          "output_type": "stream",
          "text": [
            "Cannot compute, empty list passed.\n"
          ],
          "name": "stdout"
        }
      ]
    }
  ]
}