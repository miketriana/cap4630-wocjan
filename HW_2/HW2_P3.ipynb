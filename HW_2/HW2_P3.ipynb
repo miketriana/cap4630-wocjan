{
  "nbformat": 4,
  "nbformat_minor": 0,
  "metadata": {
    "colab": {
      "name": "HW2 P3.ipynb",
      "provenance": [],
      "authorship_tag": "ABX9TyM9SQo69ljup4ooXUX6UELl",
      "include_colab_link": true
    },
    "kernelspec": {
      "name": "python3",
      "display_name": "Python 3"
    }
  },
  "cells": [
    {
      "cell_type": "markdown",
      "metadata": {
        "id": "view-in-github",
        "colab_type": "text"
      },
      "source": [
        "<a href=\"https://colab.research.google.com/github/miketriana/cap4630-wocjan/blob/master/HW_2/HW2_P3.ipynb\" target=\"_parent\"><img src=\"https://colab.research.google.com/assets/colab-badge.svg\" alt=\"Open In Colab\"/></a>"
      ]
    },
    {
      "cell_type": "markdown",
      "metadata": {
        "id": "06NplxdeCFiL",
        "colab_type": "text"
      },
      "source": [
        "# Problem 3\n",
        "For each i=0,1,...,9, compute the average of digit i and display it. More precisely, you have add all the images of the digit i together and divide it by the number of times the digit i occurs in the data set."
      ]
    },
    {
      "cell_type": "markdown",
      "metadata": {
        "id": "HmdxPZDHCLWu",
        "colab_type": "text"
      },
      "source": [
        "First, we will load in the MNIST data set and Matplotlib so we can display the data:"
      ]
    },
    {
      "cell_type": "code",
      "metadata": {
        "id": "IWvvTv5kCC-6",
        "colab_type": "code",
        "colab": {
          "base_uri": "https://localhost:8080/",
          "height": 34
        },
        "outputId": "d942c025-993f-492c-d70d-f8cbf2c88f30"
      },
      "source": [
        "%tensorflow_version 2.x\n",
        "import tensorflow as tf\n",
        "import numpy as np\n",
        "\n",
        "%matplotlib inline\n",
        "import matplotlib.pyplot as plt\n",
        "\n",
        "(train_images, train_labels), (test_images, test_labels) = tf.keras.datasets.mnist.load_data()"
      ],
      "execution_count": 36,
      "outputs": [
        {
          "output_type": "stream",
          "text": [
            "TensorFlow is already loaded. Please restart the runtime to change versions.\n"
          ],
          "name": "stdout"
        }
      ]
    },
    {
      "cell_type": "markdown",
      "metadata": {
        "id": "sV9MgCEWGw5z",
        "colab_type": "text"
      },
      "source": [
        "Initialize arrays for storing the numer of images for each digit, as well as the average image for each digit:"
      ]
    },
    {
      "cell_type": "code",
      "metadata": {
        "id": "Uaxqm2X1FH_y",
        "colab_type": "code",
        "colab": {}
      },
      "source": [
        "num_images = np.zeros((10, 1))\n",
        "avg_images = np.zeros((10, 28, 28))"
      ],
      "execution_count": 0,
      "outputs": []
    },
    {
      "cell_type": "markdown",
      "metadata": {
        "id": "PUqssGhvLbMa",
        "colab_type": "text"
      },
      "source": [
        "Iterate through the MNIST images and calculate the average image for each digit:"
      ]
    },
    {
      "cell_type": "code",
      "metadata": {
        "id": "B7qeHifVDTil",
        "colab_type": "code",
        "colab": {
          "base_uri": "https://localhost:8080/",
          "height": 187
        },
        "outputId": "737fc573-1234-4ce1-e73d-9aab103e1f5f"
      },
      "source": [
        "numDigits = len(train_images)\n",
        "\n",
        "for i in range(numDigits):\n",
        "    digit = train_labels[i]\n",
        "    num_images[digit] = num_images[digit] + 1\n",
        "    avg_images[digit] = np.add(avg_images[digit], train_images[i])\n",
        "\n",
        "for i in range(10):\n",
        "    avg_images[i] = np.divide(avg_images[i], num_images[i])\n",
        "    print(str(num_images[i]) + \" images of \" + str(i))"
      ],
      "execution_count": 38,
      "outputs": [
        {
          "output_type": "stream",
          "text": [
            "[5923.] images of 0\n",
            "[6742.] images of 1\n",
            "[5958.] images of 2\n",
            "[6131.] images of 3\n",
            "[5842.] images of 4\n",
            "[5421.] images of 5\n",
            "[5918.] images of 6\n",
            "[6265.] images of 7\n",
            "[5851.] images of 8\n",
            "[5949.] images of 9\n"
          ],
          "name": "stdout"
        }
      ]
    },
    {
      "cell_type": "markdown",
      "metadata": {
        "id": "xAEEqBKALkJP",
        "colab_type": "text"
      },
      "source": [
        "Display the average image for each digit:"
      ]
    },
    {
      "cell_type": "code",
      "metadata": {
        "id": "0qj8Ug5SH21p",
        "colab_type": "code",
        "colab": {
          "base_uri": "https://localhost:8080/",
          "height": 1000
        },
        "outputId": "9a616ca8-8de2-42b6-90d7-514cdb722e9e"
      },
      "source": [
        "for i in range(10):\n",
        "    print(\"Average image of \" + str(i) + \":\")\n",
        "    \n",
        "    digit_image = avg_images[i]\n",
        "    \n",
        "    plt.figure(figsize=(4, 4))\n",
        "    plt.imshow(digit_image)\n",
        "    plt.show()"
      ],
      "execution_count": 39,
      "outputs": [
        {
          "output_type": "stream",
          "text": [
            "Average image of 0:\n"
          ],
          "name": "stdout"
        },
        {
          "output_type": "display_data",
          "data": {
            "image/png": "[encoded data removed]",
            "text/plain": [
              "<Figure size 288x288 with 1 Axes>"
            ]
          },
          "metadata": {
            "tags": []
          }
        },
        {
          "output_type": "stream",
          "text": [
            "Average image of 1:\n"
          ],
          "name": "stdout"
        },
        {
          "output_type": "display_data",
          "data": {
            "image/png": "[encoded data removed]",
            "text/plain": [
              "<Figure size 288x288 with 1 Axes>"
            ]
          },
          "metadata": {
            "tags": []
          }
        },
        {
          "output_type": "stream",
          "text": [
            "Average image of 2:\n"
          ],
          "name": "stdout"
        },
        {
          "output_type": "display_data",
          "data": {
            "image/png": "[encoded data removed]",
            "text/plain": [
              "<Figure size 288x288 with 1 Axes>"
            ]
          },
          "metadata": {
            "tags": []
          }
        },
        {
          "output_type": "stream",
          "text": [
            "Average image of 3:\n"
          ],
          "name": "stdout"
        },
        {
          "output_type": "display_data",
          "data": {
            "image/png": "[encoded data removed]",
            "text/plain": [
              "<Figure size 288x288 with 1 Axes>"
            ]
          },
          "metadata": {
            "tags": []
          }
        },
        {
          "output_type": "stream",
          "text": [
            "Average image of 4:\n"
          ],
          "name": "stdout"
        },
        {
          "output_type": "display_data",
          "data": {
            "image/png": "[encoded data removed]",
            "text/plain": [
              "<Figure size 288x288 with 1 Axes>"
            ]
          },
          "metadata": {
            "tags": []
          }
        },
        {
          "output_type": "stream",
          "text": [
            "Average image of 5:\n"
          ],
          "name": "stdout"
        },
        {
          "output_type": "display_data",
          "data": {
            "image/png": "[encoded data removed]",
            "text/plain": [
              "<Figure size 288x288 with 1 Axes>"
            ]
          },
          "metadata": {
            "tags": []
          }
        },
        {
          "output_type": "stream",
          "text": [
            "Average image of 6:\n"
          ],
          "name": "stdout"
        },
        {
          "output_type": "display_data",
          "data": {
            "image/png": "[encoded data removed]",
            "text/plain": [
              "<Figure size 288x288 with 1 Axes>"
            ]
          },
          "metadata": {
            "tags": []
          }
        },
        {
          "output_type": "stream",
          "text": [
            "Average image of 7:\n"
          ],
          "name": "stdout"
        },
        {
          "output_type": "display_data",
          "data": {
            "image/png": "[encoded data removed]",
            "text/plain": [
              "<Figure size 288x288 with 1 Axes>"
            ]
          },
          "metadata": {
            "tags": []
          }
        },
        {
          "output_type": "stream",
          "text": [
            "Average image of 8:\n"
          ],
          "name": "stdout"
        },
        {
          "output_type": "display_data",
          "data": {
            "image/png": "[encoded data removed]",
            "text/plain": [
              "<Figure size 288x288 with 1 Axes>"
            ]
          },
          "metadata": {
            "tags": []
          }
        },
        {
          "output_type": "stream",
          "text": [
            "Average image of 9:\n"
          ],
          "name": "stdout"
        },
        {
          "output_type": "display_data",
          "data": {
            "image/png": "[encoded data removed]",
            "text/plain": [
              "<Figure size 288x288 with 1 Axes>"
            ]
          },
          "metadata": {
            "tags": []
          }
        }
      ]
    }
  ]
}