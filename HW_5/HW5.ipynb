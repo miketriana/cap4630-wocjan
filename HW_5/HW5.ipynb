{
  "nbformat": 4,
  "nbformat_minor": 0,
  "metadata": {
    "colab": {
      "name": "HW5.ipynb",
      "provenance": [],
      "collapsed_sections": [],
      "authorship_tag": "ABX9TyNwvyc048bnpRPuUX9izLkQ",
      "include_colab_link": true
    },
    "kernelspec": {
      "name": "python3",
      "display_name": "Python 3"
    }
  },
  "cells": [
    {
      "cell_type": "markdown",
      "metadata": {
        "id": "view-in-github",
        "colab_type": "text"
      },
      "source": [
        "<a href=\"https://colab.research.google.com/github/miketriana/cap4630-wocjan/blob/master/HW_5/HW5.ipynb\" target=\"_parent\"><img src=\"https://colab.research.google.com/assets/colab-badge.svg\" alt=\"Open In Colab\"/></a>"
      ]
    },
    {
      "cell_type": "markdown",
      "metadata": {
        "id": "-Ga6KJu9hFpW",
        "colab_type": "text"
      },
      "source": [
        "#Homework 5\n",
        "\n",
        "For this assignment I will be going over some of the main topics that I learned in this course. I will explain a general summary of each topic and provide some brief examples to demonstrate them in practice."
      ]
    },
    {
      "cell_type": "markdown",
      "metadata": {
        "id": "2Xm2R4GEh0Iw",
        "colab_type": "text"
      },
      "source": [
        "##General Concepts"
      ]
    },
    {
      "cell_type": "markdown",
      "metadata": {
        "id": "BAmJdaEcoW4p",
        "colab_type": "text"
      },
      "source": [
        "###Artificial Intelligence\n",
        "\n",
        "Artificial intelligence, or AI, is a broad term that encompasses many different things. In general, it describes the use of computers to simulate human behavior."
      ]
    },
    {
      "cell_type": "markdown",
      "metadata": {
        "id": "f5f6EUuXoVNx",
        "colab_type": "text"
      },
      "source": [
        "###Machine Learning\n",
        "\n",
        "Machine learning is a field of artificial intelligence in which AI programs adjust their own behavior in response to the data that they see. In other words, they \"learn\" from their experiences. Rather than use a set of algorithmic rules to produce an output, the programs learn by looking at examples of predetermined outputs and coming up with a set of rules that would also produce the same outputs."
      ]
    },
    {
      "cell_type": "markdown",
      "metadata": {
        "id": "LDGiQ_GJoTJt",
        "colab_type": "text"
      },
      "source": [
        "###Deep Learning\n",
        "\n",
        "Deep learning is a subset of machine learning which uses algorithms called neural networks to predict an outcome for each set of inputs. The inputs that are given to the network are known as features. The features are transformed by weights and biases associated with each node in the network until it produces an output. Through the process of machine learning, the network optimizes its weights and biases to produce more accurate outputs.\n",
        "\n",
        "Deep learning is a subset of machine learning, which is a subset of artificial intelligence."
      ]
    },
    {
      "cell_type": "markdown",
      "metadata": {
        "id": "MvyKFoB0nytH",
        "colab_type": "text"
      },
      "source": [
        "##Basic Concepts"
      ]
    },
    {
      "cell_type": "markdown",
      "metadata": {
        "id": "-F84o0Zln3GR",
        "colab_type": "text"
      },
      "source": [
        "###Linear Regression\n",
        "\n",
        "Linear regression is a method by which machine learning is used to determine the relationship between a dependent variable and one or more independent variables. Essentially, it determines the line (or curve, plane, etc) of best fit for a set of data points.\n",
        "\n",
        "The equation for a linear relationship is\n",
        "$$y = mx + b$$\n",
        "where $y$ is the dependent variable, $m$ is the slope of the line, $x$ is the independent variable, and $b$ is the y-intercept or bias.\n",
        "\n",
        "In machine learning, the dependent variable is known as the label, while each independent variable is known as a feature. A relationship may be affected by one or more features. A machine learning model attempts to produce a prediction for each set of features that matches the label. Therefore, the equation can be written as follows:\n",
        "$$\\hat{y} = b + w_1x_1 + w_2x_2 + ... + w_nx_n$$\n",
        "\n",
        "where $\\hat{y}$ is the prediction, $b$ is the bias, $w_1, ... w_n$ are the weights, and $x_1, ... x_n$ are the features.\n",
        "\n",
        "Machine learning adjusts the values of the weights and bias to produce more accurate predictions."
      ]
    },
    {
      "cell_type": "markdown",
      "metadata": {
        "id": "G_fcpXbkn8xn",
        "colab_type": "text"
      },
      "source": [
        "###Logistic Regression\n",
        "\n",
        "Logistic regression is similar to linear regression. However, rather than determining the parameters of a linear relationship, logistic regression determines the parameters of a logistic model. Logistic models are used to predict probability, such as the probability that an event will occur or the probability that an image contains a certain object. Neural networks trained with logistic regression produce a prediction between 0 and 1 based on a set of inputs. In most cases, 0 represents false, or certainly not, while 1 represents true or certain. Some models may produce a series of values representing the probabilities of several conditions, for example the probability that an image contains a dog, contains a cat, contains a mouse, etc."
      ]
    },
    {
      "cell_type": "markdown",
      "metadata": {
        "id": "n-tGE_-Mn_KJ",
        "colab_type": "text"
      },
      "source": [
        "###Gradients\n",
        "\n",
        "In order to optimize itself, a machine learning model must have a way to measure the errors in its predictions, so that it may adjust its parameters to minimize the error. To do this, it uses a loss function $L$ to compute the \"loss\" for any set of parameters it estimates, based upon the difference between the predictions it produces and the real values of the labels.\n",
        "\n",
        "Once the loss for a particular model is computed, it can be used to correct the parameters and point the model in the right direction. This is done by computing the gradient of the loss function, a vector composed of the partial derivaties of the loss function with respect to each of the weights.\n",
        "\n",
        "$$\\nabla{L} = \\begin{bmatrix} {\\partial L}/{\\partial w_1} \\\\ {\\partial L}/{\\partial w_2} \\\\ ... \\\\ {\\partial L}/{\\partial w_n}\\end{bmatrix}$$\n",
        "\n",
        "Since the gradient is a vector, it has a direction and magnitude. One property of the gradient is that it always points in the direction where the loss function increases. Therefore, by adjusting each parameter by the negative of the gradient, the loss can be reduced."
      ]
    },
    {
      "cell_type": "markdown",
      "metadata": {
        "id": "8Fn0m7MroBdJ",
        "colab_type": "text"
      },
      "source": [
        "###Gradient Descent\n",
        "\n",
        "Gradient descent is an iterative approach to correcting the errors in a model's predictions by adjusting the parameters based on the gradient. The model begins by selecting a random starting value for each parameter. The algorithm then calculates the gradient of the loss function for this version of the model. The parameters of the model are then updated by moving them in the direction of the negative gradient:\n",
        "\n",
        "$$w = w - \\alpha\\nabla{L}$$\n",
        "\n",
        "$\\alpha$ is a scalar value called the learning rate. This value defines how much each parameter is adjusted during each iteration. When the learning rate is high, larger adjustments are made each step.\n",
        "\n",
        "Once the parameters are adjusted, the algorithm calculates the gradient for the new model and the process repeats. This may go on for a set number of iterations, or until the model converges on a satisfactory point.\n",
        "\n",
        "Choosing the learning rate is important to the efficiency of gradient descent. A learning rate that is too small will cause the process to take too long, while one that is too high will cause the algorithm to repeatedly overshoot the desired minimum and fluctuate."
      ]
    },
    {
      "cell_type": "markdown",
      "metadata": {
        "id": "PQxxmVJLoDoO",
        "colab_type": "text"
      },
      "source": [
        "##Building a Model\n",
        "\n",
        "Keras is a Python framework that makes it easy to build and train deep-learning models. It comes with predefined features for creating a model and adding layers. Here is a snippet from homework 3 which creates a simple model for binary classification based on two features:"
      ]
    },
    {
      "cell_type": "code",
      "metadata": {
        "id": "MpEpg4f_Jzyw",
        "colab_type": "code",
        "colab": {}
      },
      "source": [
        "%tensorflow_version 2.x\n",
        "import tensorflow.keras as keras"
      ],
      "execution_count": 0,
      "outputs": []
    },
    {
      "cell_type": "code",
      "metadata": {
        "id": "q7hGEoV5J5qV",
        "colab_type": "code",
        "outputId": "9d81377d-1abc-49ec-ee3c-8e23fddfabe7",
        "colab": {
          "base_uri": "https://localhost:8080/",
          "height": 187
        }
      },
      "source": [
        "network = keras.models.Sequential()\n",
        "network.add(keras.layers.Dense(1, activation=\"sigmoid\", input_shape=(2,)))\n",
        "network.summary()"
      ],
      "execution_count": 2,
      "outputs": [
        {
          "output_type": "stream",
          "text": [
            "Model: \"sequential\"\n",
            "_________________________________________________________________\n",
            "Layer (type)                 Output Shape              Param #   \n",
            "=================================================================\n",
            "dense (Dense)                (None, 1)                 3         \n",
            "=================================================================\n",
            "Total params: 3\n",
            "Trainable params: 3\n",
            "Non-trainable params: 0\n",
            "_________________________________________________________________\n"
          ],
          "name": "stdout"
        }
      ]
    },
    {
      "cell_type": "markdown",
      "metadata": {
        "id": "YdBymi0bLOTA",
        "colab_type": "text"
      },
      "source": [
        "This model contains only a single layer with two inputs and one output. The summary shows there are 3 parameters to be trained - a weight for each parameter and a bias. Setting the activation function to sigmoid ensures that the output is a value between 0 and 1.\n",
        "\n",
        "There are many different ways a model can be built. Models designed to solve more complex problems may contain many more layers."
      ]
    },
    {
      "cell_type": "markdown",
      "metadata": {
        "id": "s1awoY0foHVF",
        "colab_type": "text"
      },
      "source": [
        "##Compiling a Model\n",
        "\n",
        "The model defined above can be compiled by simply calling its `compile()` function."
      ]
    },
    {
      "cell_type": "code",
      "metadata": {
        "id": "5o3-QsnJOi3U",
        "colab_type": "code",
        "colab": {}
      },
      "source": [
        "network.compile(optimizer='rmsprop',\n",
        "                loss='binary_crossentropy',\n",
        "                metrics=['accuracy'])"
      ],
      "execution_count": 0,
      "outputs": []
    },
    {
      "cell_type": "markdown",
      "metadata": {
        "id": "5DGOnPLiPAHc",
        "colab_type": "text"
      },
      "source": [
        "The most important parameters here are the optimizer and loss function. The optimizer determines how to update the parameters of the model with each iteration. It defines a specific implementation of gradient descent. This example uses the RMSprop optimizer.\n",
        "\n",
        "The loss function is the method used to measure the error and determine how close the model is to making accurate predictions. This model uses the binary cross entropy loss function, since it a binary classification model."
      ]
    },
    {
      "cell_type": "markdown",
      "metadata": {
        "id": "9CS9YMO0oJNI",
        "colab_type": "text"
      },
      "source": [
        "##Training a Model\n",
        "\n",
        "Training a model can be done with the `fit()` function. Training requires two data sets. One data set is the training data set, which contains a collection of entries each with their own features and label. The model is trained on the training data set until its predictions for each entry match closely to the labels. The other data set is the testing data set or validation data set, which contains data not used to train the model. The purpose of the validation data set is to test how accurate the model is on data it has not seen, so that it does not become accurate only on the data it is trained on. For this example, I will generate these data sets randomly based on a simple linear function."
      ]
    },
    {
      "cell_type": "code",
      "metadata": {
        "id": "8QZSYXbvVvRn",
        "colab_type": "code",
        "colab": {}
      },
      "source": [
        "import numpy as np\n",
        "import matplotlib.pyplot as plt\n",
        "import random\n",
        "\n",
        "def get_random_data(w, b, mu, sigma, m):\n",
        "    data = np.zeros((m, 2))\n",
        "    labels = np.zeros((m, 1))\n",
        "\n",
        "    for i in range(m):\n",
        "        # Randomly choose class label 0 or 1\n",
        "        c = random.choice([0, 1])\n",
        "\n",
        "        # Choose feature x1 randomly within the interval [0, 1)\n",
        "        x_1 = random.random()\n",
        "\n",
        "        # Generate noise based on normal distribution\n",
        "        n = np.random.default_rng().normal(mu, sigma)\n",
        "        # Choose feature x2 based on x1, weight, bias, label, and noise\n",
        "        x_2 = w * x_1 + b + ((-1) ** c) * n\n",
        "\n",
        "        # Update features and label\n",
        "        data[i][0] = x_1\n",
        "        data[i][1] = x_2\n",
        "        labels[i][0] = c\n",
        "\n",
        "    return [data, labels]"
      ],
      "execution_count": 0,
      "outputs": []
    },
    {
      "cell_type": "code",
      "metadata": {
        "id": "VynsWAhKWW0O",
        "colab_type": "code",
        "colab": {}
      },
      "source": [
        "# Generate training and testing data sets\n",
        "w = 1.5\n",
        "b = -0.3\n",
        "mu = 0.2\n",
        "sigma = 0.1\n",
        "ds_train = get_random_data(w, b, mu, sigma, 8000)\n",
        "ds_test = get_random_data(w, b, mu, sigma, 2000)\n",
        "\n",
        "train_data = ds_train[0]\n",
        "train_labels = ds_train[1]\n",
        "test_data = ds_test[0]\n",
        "test_labels = ds_test[1]"
      ],
      "execution_count": 0,
      "outputs": []
    },
    {
      "cell_type": "code",
      "metadata": {
        "id": "hC_S5LqaWqRL",
        "colab_type": "code",
        "outputId": "2d23ff23-a333-48b7-a491-e57e308f7329",
        "colab": {
          "base_uri": "https://localhost:8080/",
          "height": 1000
        }
      },
      "source": [
        "# Train for 100 iterations\n",
        "epochs = 100\n",
        "results = network.fit(train_data, \n",
        "                      train_labels, \n",
        "                      epochs=epochs, \n",
        "                      batch_size=100, \n",
        "                      validation_data=(test_data, test_labels))"
      ],
      "execution_count": 6,
      "outputs": [
        {
          "output_type": "stream",
          "text": [
            "Epoch 1/100\n",
            "80/80 [==============================] - 0s 3ms/step - loss: 0.6460 - accuracy: 0.6369 - val_loss: 0.6352 - val_accuracy: 0.6675\n",
            "Epoch 2/100\n",
            "80/80 [==============================] - 0s 2ms/step - loss: 0.6378 - accuracy: 0.6456 - val_loss: 0.6285 - val_accuracy: 0.6705\n",
            "Epoch 3/100\n",
            "80/80 [==============================] - 0s 1ms/step - loss: 0.6308 - accuracy: 0.6513 - val_loss: 0.6228 - val_accuracy: 0.6720\n",
            "Epoch 4/100\n",
            "80/80 [==============================] - 0s 1ms/step - loss: 0.6245 - accuracy: 0.6547 - val_loss: 0.6172 - val_accuracy: 0.6840\n",
            "Epoch 5/100\n",
            "80/80 [==============================] - 0s 2ms/step - loss: 0.6188 - accuracy: 0.6603 - val_loss: 0.6122 - val_accuracy: 0.6870\n",
            "Epoch 6/100\n",
            "80/80 [==============================] - 0s 2ms/step - loss: 0.6134 - accuracy: 0.6696 - val_loss: 0.6071 - val_accuracy: 0.6880\n",
            "Epoch 7/100\n",
            "80/80 [==============================] - 0s 1ms/step - loss: 0.6084 - accuracy: 0.6755 - val_loss: 0.6023 - val_accuracy: 0.6930\n",
            "Epoch 8/100\n",
            "80/80 [==============================] - 0s 2ms/step - loss: 0.6036 - accuracy: 0.6811 - val_loss: 0.5976 - val_accuracy: 0.6960\n",
            "Epoch 9/100\n",
            "80/80 [==============================] - 0s 2ms/step - loss: 0.5988 - accuracy: 0.6876 - val_loss: 0.5929 - val_accuracy: 0.6985\n",
            "Epoch 10/100\n",
            "80/80 [==============================] - 0s 2ms/step - loss: 0.5942 - accuracy: 0.6924 - val_loss: 0.5883 - val_accuracy: 0.7010\n",
            "Epoch 11/100\n",
            "80/80 [==============================] - 0s 1ms/step - loss: 0.5896 - accuracy: 0.6973 - val_loss: 0.5836 - val_accuracy: 0.7035\n",
            "Epoch 12/100\n",
            "80/80 [==============================] - 0s 2ms/step - loss: 0.5852 - accuracy: 0.6995 - val_loss: 0.5793 - val_accuracy: 0.7055\n",
            "Epoch 13/100\n",
            "80/80 [==============================] - 0s 2ms/step - loss: 0.5808 - accuracy: 0.7040 - val_loss: 0.5748 - val_accuracy: 0.7085\n",
            "Epoch 14/100\n",
            "80/80 [==============================] - 0s 2ms/step - loss: 0.5764 - accuracy: 0.7074 - val_loss: 0.5704 - val_accuracy: 0.7130\n",
            "Epoch 15/100\n",
            "80/80 [==============================] - 0s 2ms/step - loss: 0.5723 - accuracy: 0.7114 - val_loss: 0.5663 - val_accuracy: 0.7165\n",
            "Epoch 16/100\n",
            "80/80 [==============================] - 0s 3ms/step - loss: 0.5683 - accuracy: 0.7138 - val_loss: 0.5623 - val_accuracy: 0.7185\n",
            "Epoch 17/100\n",
            "80/80 [==============================] - 0s 2ms/step - loss: 0.5644 - accuracy: 0.7172 - val_loss: 0.5583 - val_accuracy: 0.7210\n",
            "Epoch 18/100\n",
            "80/80 [==============================] - 0s 2ms/step - loss: 0.5603 - accuracy: 0.7209 - val_loss: 0.5543 - val_accuracy: 0.7220\n",
            "Epoch 19/100\n",
            "80/80 [==============================] - 0s 2ms/step - loss: 0.5564 - accuracy: 0.7246 - val_loss: 0.5506 - val_accuracy: 0.7245\n",
            "Epoch 20/100\n",
            "80/80 [==============================] - 0s 2ms/step - loss: 0.5527 - accuracy: 0.7271 - val_loss: 0.5467 - val_accuracy: 0.7270\n",
            "Epoch 21/100\n",
            "80/80 [==============================] - 0s 2ms/step - loss: 0.5489 - accuracy: 0.7294 - val_loss: 0.5431 - val_accuracy: 0.7330\n",
            "Epoch 22/100\n",
            "80/80 [==============================] - 0s 1ms/step - loss: 0.5452 - accuracy: 0.7334 - val_loss: 0.5391 - val_accuracy: 0.7365\n",
            "Epoch 23/100\n",
            "80/80 [==============================] - 0s 2ms/step - loss: 0.5415 - accuracy: 0.7358 - val_loss: 0.5355 - val_accuracy: 0.7395\n",
            "Epoch 24/100\n",
            "80/80 [==============================] - 0s 2ms/step - loss: 0.5379 - accuracy: 0.7387 - val_loss: 0.5319 - val_accuracy: 0.7440\n",
            "Epoch 25/100\n",
            "80/80 [==============================] - 0s 1ms/step - loss: 0.5344 - accuracy: 0.7426 - val_loss: 0.5283 - val_accuracy: 0.7460\n",
            "Epoch 26/100\n",
            "80/80 [==============================] - 0s 2ms/step - loss: 0.5310 - accuracy: 0.7460 - val_loss: 0.5251 - val_accuracy: 0.7490\n",
            "Epoch 27/100\n",
            "80/80 [==============================] - 0s 2ms/step - loss: 0.5277 - accuracy: 0.7490 - val_loss: 0.5217 - val_accuracy: 0.7525\n",
            "Epoch 28/100\n",
            "80/80 [==============================] - 0s 2ms/step - loss: 0.5242 - accuracy: 0.7523 - val_loss: 0.5184 - val_accuracy: 0.7555\n",
            "Epoch 29/100\n",
            "80/80 [==============================] - 0s 1ms/step - loss: 0.5210 - accuracy: 0.7561 - val_loss: 0.5150 - val_accuracy: 0.7600\n",
            "Epoch 30/100\n",
            "80/80 [==============================] - 0s 2ms/step - loss: 0.5177 - accuracy: 0.7606 - val_loss: 0.5119 - val_accuracy: 0.7630\n",
            "Epoch 31/100\n",
            "80/80 [==============================] - 0s 2ms/step - loss: 0.5146 - accuracy: 0.7634 - val_loss: 0.5087 - val_accuracy: 0.7650\n",
            "Epoch 32/100\n",
            "80/80 [==============================] - 0s 2ms/step - loss: 0.5114 - accuracy: 0.7667 - val_loss: 0.5056 - val_accuracy: 0.7700\n",
            "Epoch 33/100\n",
            "80/80 [==============================] - 0s 2ms/step - loss: 0.5082 - accuracy: 0.7711 - val_loss: 0.5022 - val_accuracy: 0.7725\n",
            "Epoch 34/100\n",
            "80/80 [==============================] - 0s 2ms/step - loss: 0.5050 - accuracy: 0.7726 - val_loss: 0.4991 - val_accuracy: 0.7775\n",
            "Epoch 35/100\n",
            "80/80 [==============================] - 0s 2ms/step - loss: 0.5020 - accuracy: 0.7775 - val_loss: 0.4962 - val_accuracy: 0.7820\n",
            "Epoch 36/100\n",
            "80/80 [==============================] - 0s 2ms/step - loss: 0.4991 - accuracy: 0.7804 - val_loss: 0.4930 - val_accuracy: 0.7855\n",
            "Epoch 37/100\n",
            "80/80 [==============================] - 0s 1ms/step - loss: 0.4960 - accuracy: 0.7828 - val_loss: 0.4900 - val_accuracy: 0.7910\n",
            "Epoch 38/100\n",
            "80/80 [==============================] - 0s 2ms/step - loss: 0.4929 - accuracy: 0.7865 - val_loss: 0.4868 - val_accuracy: 0.7945\n",
            "Epoch 39/100\n",
            "80/80 [==============================] - 0s 2ms/step - loss: 0.4897 - accuracy: 0.7895 - val_loss: 0.4837 - val_accuracy: 0.7955\n",
            "Epoch 40/100\n",
            "80/80 [==============================] - 0s 1ms/step - loss: 0.4868 - accuracy: 0.7930 - val_loss: 0.4808 - val_accuracy: 0.8005\n",
            "Epoch 41/100\n",
            "80/80 [==============================] - 0s 2ms/step - loss: 0.4839 - accuracy: 0.7968 - val_loss: 0.4781 - val_accuracy: 0.8025\n",
            "Epoch 42/100\n",
            "80/80 [==============================] - 0s 2ms/step - loss: 0.4811 - accuracy: 0.7997 - val_loss: 0.4751 - val_accuracy: 0.8070\n",
            "Epoch 43/100\n",
            "80/80 [==============================] - 0s 2ms/step - loss: 0.4782 - accuracy: 0.8025 - val_loss: 0.4722 - val_accuracy: 0.8110\n",
            "Epoch 44/100\n",
            "80/80 [==============================] - 0s 2ms/step - loss: 0.4753 - accuracy: 0.8071 - val_loss: 0.4694 - val_accuracy: 0.8150\n",
            "Epoch 45/100\n",
            "80/80 [==============================] - 0s 2ms/step - loss: 0.4725 - accuracy: 0.8105 - val_loss: 0.4666 - val_accuracy: 0.8185\n",
            "Epoch 46/100\n",
            "80/80 [==============================] - 0s 2ms/step - loss: 0.4697 - accuracy: 0.8126 - val_loss: 0.4639 - val_accuracy: 0.8220\n",
            "Epoch 47/100\n",
            "80/80 [==============================] - 0s 2ms/step - loss: 0.4670 - accuracy: 0.8165 - val_loss: 0.4612 - val_accuracy: 0.8230\n",
            "Epoch 48/100\n",
            "80/80 [==============================] - 0s 2ms/step - loss: 0.4643 - accuracy: 0.8192 - val_loss: 0.4587 - val_accuracy: 0.8270\n",
            "Epoch 49/100\n",
            "80/80 [==============================] - 0s 2ms/step - loss: 0.4617 - accuracy: 0.8226 - val_loss: 0.4558 - val_accuracy: 0.8295\n",
            "Epoch 50/100\n",
            "80/80 [==============================] - 0s 2ms/step - loss: 0.4588 - accuracy: 0.8260 - val_loss: 0.4530 - val_accuracy: 0.8330\n",
            "Epoch 51/100\n",
            "80/80 [==============================] - 0s 2ms/step - loss: 0.4561 - accuracy: 0.8290 - val_loss: 0.4504 - val_accuracy: 0.8365\n",
            "Epoch 52/100\n",
            "80/80 [==============================] - 0s 2ms/step - loss: 0.4536 - accuracy: 0.8317 - val_loss: 0.4478 - val_accuracy: 0.8440\n",
            "Epoch 53/100\n",
            "80/80 [==============================] - 0s 2ms/step - loss: 0.4509 - accuracy: 0.8356 - val_loss: 0.4452 - val_accuracy: 0.8470\n",
            "Epoch 54/100\n",
            "80/80 [==============================] - 0s 2ms/step - loss: 0.4482 - accuracy: 0.8372 - val_loss: 0.4425 - val_accuracy: 0.8490\n",
            "Epoch 55/100\n",
            "80/80 [==============================] - 0s 2ms/step - loss: 0.4455 - accuracy: 0.8410 - val_loss: 0.4398 - val_accuracy: 0.8500\n",
            "Epoch 56/100\n",
            "80/80 [==============================] - 0s 2ms/step - loss: 0.4429 - accuracy: 0.8428 - val_loss: 0.4371 - val_accuracy: 0.8520\n",
            "Epoch 57/100\n",
            "80/80 [==============================] - 0s 2ms/step - loss: 0.4403 - accuracy: 0.8457 - val_loss: 0.4345 - val_accuracy: 0.8550\n",
            "Epoch 58/100\n",
            "80/80 [==============================] - 0s 2ms/step - loss: 0.4376 - accuracy: 0.8489 - val_loss: 0.4319 - val_accuracy: 0.8575\n",
            "Epoch 59/100\n",
            "80/80 [==============================] - 0s 2ms/step - loss: 0.4351 - accuracy: 0.8510 - val_loss: 0.4294 - val_accuracy: 0.8615\n",
            "Epoch 60/100\n",
            "80/80 [==============================] - 0s 1ms/step - loss: 0.4326 - accuracy: 0.8544 - val_loss: 0.4269 - val_accuracy: 0.8645\n",
            "Epoch 61/100\n",
            "80/80 [==============================] - 0s 2ms/step - loss: 0.4299 - accuracy: 0.8561 - val_loss: 0.4243 - val_accuracy: 0.8675\n",
            "Epoch 62/100\n",
            "80/80 [==============================] - 0s 2ms/step - loss: 0.4274 - accuracy: 0.8585 - val_loss: 0.4218 - val_accuracy: 0.8715\n",
            "Epoch 63/100\n",
            "80/80 [==============================] - 0s 1ms/step - loss: 0.4248 - accuracy: 0.8620 - val_loss: 0.4193 - val_accuracy: 0.8740\n",
            "Epoch 64/100\n",
            "80/80 [==============================] - 0s 1ms/step - loss: 0.4224 - accuracy: 0.8635 - val_loss: 0.4168 - val_accuracy: 0.8770\n",
            "Epoch 65/100\n",
            "80/80 [==============================] - 0s 2ms/step - loss: 0.4200 - accuracy: 0.8665 - val_loss: 0.4143 - val_accuracy: 0.8795\n",
            "Epoch 66/100\n",
            "80/80 [==============================] - 0s 2ms/step - loss: 0.4175 - accuracy: 0.8687 - val_loss: 0.4121 - val_accuracy: 0.8810\n",
            "Epoch 67/100\n",
            "80/80 [==============================] - 0s 2ms/step - loss: 0.4152 - accuracy: 0.8710 - val_loss: 0.4097 - val_accuracy: 0.8830\n",
            "Epoch 68/100\n",
            "80/80 [==============================] - 0s 2ms/step - loss: 0.4128 - accuracy: 0.8741 - val_loss: 0.4073 - val_accuracy: 0.8855\n",
            "Epoch 69/100\n",
            "80/80 [==============================] - 0s 2ms/step - loss: 0.4104 - accuracy: 0.8756 - val_loss: 0.4049 - val_accuracy: 0.8890\n",
            "Epoch 70/100\n",
            "80/80 [==============================] - 0s 2ms/step - loss: 0.4080 - accuracy: 0.8776 - val_loss: 0.4026 - val_accuracy: 0.8905\n",
            "Epoch 71/100\n",
            "80/80 [==============================] - 0s 2ms/step - loss: 0.4057 - accuracy: 0.8809 - val_loss: 0.4003 - val_accuracy: 0.8925\n",
            "Epoch 72/100\n",
            "80/80 [==============================] - 0s 1ms/step - loss: 0.4034 - accuracy: 0.8827 - val_loss: 0.3981 - val_accuracy: 0.8935\n",
            "Epoch 73/100\n",
            "80/80 [==============================] - 0s 2ms/step - loss: 0.4013 - accuracy: 0.8855 - val_loss: 0.3960 - val_accuracy: 0.8945\n",
            "Epoch 74/100\n",
            "80/80 [==============================] - 0s 2ms/step - loss: 0.3991 - accuracy: 0.8871 - val_loss: 0.3938 - val_accuracy: 0.8965\n",
            "Epoch 75/100\n",
            "80/80 [==============================] - 0s 2ms/step - loss: 0.3968 - accuracy: 0.8884 - val_loss: 0.3915 - val_accuracy: 0.8980\n",
            "Epoch 76/100\n",
            "80/80 [==============================] - 0s 2ms/step - loss: 0.3945 - accuracy: 0.8906 - val_loss: 0.3891 - val_accuracy: 0.9010\n",
            "Epoch 77/100\n",
            "80/80 [==============================] - 0s 2ms/step - loss: 0.3923 - accuracy: 0.8919 - val_loss: 0.3870 - val_accuracy: 0.9025\n",
            "Epoch 78/100\n",
            "80/80 [==============================] - 0s 2ms/step - loss: 0.3901 - accuracy: 0.8941 - val_loss: 0.3848 - val_accuracy: 0.9040\n",
            "Epoch 79/100\n",
            "80/80 [==============================] - 0s 1ms/step - loss: 0.3879 - accuracy: 0.8947 - val_loss: 0.3827 - val_accuracy: 0.9075\n",
            "Epoch 80/100\n",
            "80/80 [==============================] - 0s 2ms/step - loss: 0.3857 - accuracy: 0.8963 - val_loss: 0.3804 - val_accuracy: 0.9100\n",
            "Epoch 81/100\n",
            "80/80 [==============================] - 0s 2ms/step - loss: 0.3835 - accuracy: 0.8985 - val_loss: 0.3783 - val_accuracy: 0.9135\n",
            "Epoch 82/100\n",
            "80/80 [==============================] - 0s 2ms/step - loss: 0.3814 - accuracy: 0.9006 - val_loss: 0.3762 - val_accuracy: 0.9175\n",
            "Epoch 83/100\n",
            "80/80 [==============================] - 0s 2ms/step - loss: 0.3792 - accuracy: 0.9025 - val_loss: 0.3740 - val_accuracy: 0.9190\n",
            "Epoch 84/100\n",
            "80/80 [==============================] - 0s 2ms/step - loss: 0.3770 - accuracy: 0.9038 - val_loss: 0.3718 - val_accuracy: 0.9210\n",
            "Epoch 85/100\n",
            "80/80 [==============================] - 0s 2ms/step - loss: 0.3749 - accuracy: 0.9057 - val_loss: 0.3698 - val_accuracy: 0.9215\n",
            "Epoch 86/100\n",
            "80/80 [==============================] - 0s 2ms/step - loss: 0.3728 - accuracy: 0.9069 - val_loss: 0.3678 - val_accuracy: 0.9225\n",
            "Epoch 87/100\n",
            "80/80 [==============================] - 0s 2ms/step - loss: 0.3707 - accuracy: 0.9086 - val_loss: 0.3656 - val_accuracy: 0.9255\n",
            "Epoch 88/100\n",
            "80/80 [==============================] - 0s 2ms/step - loss: 0.3685 - accuracy: 0.9101 - val_loss: 0.3634 - val_accuracy: 0.9265\n",
            "Epoch 89/100\n",
            "80/80 [==============================] - 0s 2ms/step - loss: 0.3665 - accuracy: 0.9126 - val_loss: 0.3614 - val_accuracy: 0.9270\n",
            "Epoch 90/100\n",
            "80/80 [==============================] - 0s 2ms/step - loss: 0.3644 - accuracy: 0.9134 - val_loss: 0.3594 - val_accuracy: 0.9280\n",
            "Epoch 91/100\n",
            "80/80 [==============================] - 0s 2ms/step - loss: 0.3624 - accuracy: 0.9149 - val_loss: 0.3574 - val_accuracy: 0.9305\n",
            "Epoch 92/100\n",
            "80/80 [==============================] - 0s 2ms/step - loss: 0.3604 - accuracy: 0.9164 - val_loss: 0.3555 - val_accuracy: 0.9305\n",
            "Epoch 93/100\n",
            "80/80 [==============================] - 0s 2ms/step - loss: 0.3585 - accuracy: 0.9179 - val_loss: 0.3536 - val_accuracy: 0.9315\n",
            "Epoch 94/100\n",
            "80/80 [==============================] - 0s 2ms/step - loss: 0.3565 - accuracy: 0.9202 - val_loss: 0.3516 - val_accuracy: 0.9315\n",
            "Epoch 95/100\n",
            "80/80 [==============================] - 0s 2ms/step - loss: 0.3546 - accuracy: 0.9214 - val_loss: 0.3497 - val_accuracy: 0.9325\n",
            "Epoch 96/100\n",
            "80/80 [==============================] - 0s 2ms/step - loss: 0.3528 - accuracy: 0.9227 - val_loss: 0.3480 - val_accuracy: 0.9335\n",
            "Epoch 97/100\n",
            "80/80 [==============================] - 0s 2ms/step - loss: 0.3510 - accuracy: 0.9244 - val_loss: 0.3462 - val_accuracy: 0.9335\n",
            "Epoch 98/100\n",
            "80/80 [==============================] - 0s 2ms/step - loss: 0.3492 - accuracy: 0.9256 - val_loss: 0.3443 - val_accuracy: 0.9335\n",
            "Epoch 99/100\n",
            "80/80 [==============================] - 0s 2ms/step - loss: 0.3473 - accuracy: 0.9271 - val_loss: 0.3425 - val_accuracy: 0.9345\n",
            "Epoch 100/100\n",
            "80/80 [==============================] - 0s 2ms/step - loss: 0.3454 - accuracy: 0.9275 - val_loss: 0.3406 - val_accuracy: 0.9365\n"
          ],
          "name": "stdout"
        }
      ]
    },
    {
      "cell_type": "markdown",
      "metadata": {
        "id": "vQmJc6_MXOuv",
        "colab_type": "text"
      },
      "source": [
        "Displaying the training history, we can see the progress of how the loss decreases with each iteration:"
      ]
    },
    {
      "cell_type": "code",
      "metadata": {
        "id": "N2zADAqnXMve",
        "colab_type": "code",
        "outputId": "03ca05cf-c769-4ede-e4d7-f859467bd848",
        "colab": {
          "base_uri": "https://localhost:8080/",
          "height": 295
        }
      },
      "source": [
        "history_dict = results.history\n",
        "loss_values = history_dict['loss']\n",
        "test_loss_values = history_dict['val_loss']\n",
        "epochs_range = range(1, epochs + 1)\n",
        "\n",
        "plt.plot(epochs_range, loss_values, 'bo', label='Training loss')\n",
        "plt.plot(epochs_range, test_loss_values, 'ro', label='Test loss')\n",
        "plt.title('Training and test loss')\n",
        "plt.xlabel('Epochs')\n",
        "plt.ylabel('Loss')\n",
        "plt.legend()\n",
        "plt.show()"
      ],
      "execution_count": 7,
      "outputs": [
        {
          "output_type": "display_data",
          "data": {
            "image/png": "[encoded data removed]",
            "text/plain": [
              "<Figure size 432x288 with 1 Axes>"
            ]
          },
          "metadata": {
            "tags": [],
            "needs_background": "light"
          }
        }
      ]
    },
    {
      "cell_type": "markdown",
      "metadata": {
        "id": "u_0EGQo1XnDF",
        "colab_type": "text"
      },
      "source": [
        "These results show that the loss is decreasing nicely. One thing to note is that the training loss often ends up lower than the test loss. This is usually to be expected. However, if the test loss flattens off while the training loss continues to fall, this may mean that the model is becoming optimized too specifically to the training data, but is not improving in its ability to respond to new data. This is called overfitting. Various precautions can be taken to avoid overfitting, including redesigning the architecture of the model and limiting the amount of training."
      ]
    },
    {
      "cell_type": "markdown",
      "metadata": {
        "id": "DlM-XrTSoLXl",
        "colab_type": "text"
      },
      "source": [
        "##Using a Pre-Trained Model\n",
        "\n",
        "In some cases, it may save time to adapt a pretrained model for your own purposes rather than train a model from scratch. In homework 4, I adapted and built upon a pretrained convolutional neural network (CNN) to create an image classifier. CNNs are used to extract features from image data. They learn how to extract features like textures and shapes through machine learning. These features are then fed into a component called the classifier, which classifies the image into one or more categories.\n",
        "\n",
        "Rather than build and train a CNN from scratch, I imported one from Keras and added a classifier onto it."
      ]
    },
    {
      "cell_type": "code",
      "metadata": {
        "id": "UoA6ug-x-uG9",
        "colab_type": "code",
        "colab": {
          "base_uri": "https://localhost:8080/",
          "height": 1000
        },
        "outputId": "4e71869c-1d1a-4371-a68b-82e761f229ad"
      },
      "source": [
        "from keras.applications.xception import Xception\n",
        "\n",
        "conv_base = Xception(\n",
        "    weights='imagenet', \n",
        "    include_top=False, \n",
        "    input_shape=(150, 150, 3))\n",
        "\n",
        "conv_base.summary()"
      ],
      "execution_count": 8,
      "outputs": [
        {
          "output_type": "stream",
          "text": [
            "Using TensorFlow backend.\n"
          ],
          "name": "stderr"
        },
        {
          "output_type": "stream",
          "text": [
            "Model: \"xception\"\n",
            "__________________________________________________________________________________________________\n",
            "Layer (type)                    Output Shape         Param #     Connected to                     \n",
            "==================================================================================================\n",
            "input_1 (InputLayer)            (None, 150, 150, 3)  0                                            \n",
            "__________________________________________________________________________________________________\n",
            "block1_conv1 (Conv2D)           (None, 74, 74, 32)   864         input_1[0][0]                    \n",
            "__________________________________________________________________________________________________\n",
            "block1_conv1_bn (BatchNormaliza (None, 74, 74, 32)   128         block1_conv1[0][0]               \n",
            "__________________________________________________________________________________________________\n",
            "block1_conv1_act (Activation)   (None, 74, 74, 32)   0           block1_conv1_bn[0][0]            \n",
            "__________________________________________________________________________________________________\n",
            "block1_conv2 (Conv2D)           (None, 72, 72, 64)   18432       block1_conv1_act[0][0]           \n",
            "__________________________________________________________________________________________________\n",
            "block1_conv2_bn (BatchNormaliza (None, 72, 72, 64)   256         block1_conv2[0][0]               \n",
            "__________________________________________________________________________________________________\n",
            "block1_conv2_act (Activation)   (None, 72, 72, 64)   0           block1_conv2_bn[0][0]            \n",
            "__________________________________________________________________________________________________\n",
            "block2_sepconv1 (SeparableConv2 (None, 72, 72, 128)  8768        block1_conv2_act[0][0]           \n",
            "__________________________________________________________________________________________________\n",
            "block2_sepconv1_bn (BatchNormal (None, 72, 72, 128)  512         block2_sepconv1[0][0]            \n",
            "__________________________________________________________________________________________________\n",
            "block2_sepconv2_act (Activation (None, 72, 72, 128)  0           block2_sepconv1_bn[0][0]         \n",
            "__________________________________________________________________________________________________\n",
            "block2_sepconv2 (SeparableConv2 (None, 72, 72, 128)  17536       block2_sepconv2_act[0][0]        \n",
            "__________________________________________________________________________________________________\n",
            "block2_sepconv2_bn (BatchNormal (None, 72, 72, 128)  512         block2_sepconv2[0][0]            \n",
            "__________________________________________________________________________________________________\n",
            "conv2d_1 (Conv2D)               (None, 36, 36, 128)  8192        block1_conv2_act[0][0]           \n",
            "__________________________________________________________________________________________________\n",
            "block2_pool (MaxPooling2D)      (None, 36, 36, 128)  0           block2_sepconv2_bn[0][0]         \n",
            "__________________________________________________________________________________________________\n",
            "batch_normalization_1 (BatchNor (None, 36, 36, 128)  512         conv2d_1[0][0]                   \n",
            "__________________________________________________________________________________________________\n",
            "add_1 (Add)                     (None, 36, 36, 128)  0           block2_pool[0][0]                \n",
            "                                                                 batch_normalization_1[0][0]      \n",
            "__________________________________________________________________________________________________\n",
            "block3_sepconv1_act (Activation (None, 36, 36, 128)  0           add_1[0][0]                      \n",
            "__________________________________________________________________________________________________\n",
            "block3_sepconv1 (SeparableConv2 (None, 36, 36, 256)  33920       block3_sepconv1_act[0][0]        \n",
            "__________________________________________________________________________________________________\n",
            "block3_sepconv1_bn (BatchNormal (None, 36, 36, 256)  1024        block3_sepconv1[0][0]            \n",
            "__________________________________________________________________________________________________\n",
            "block3_sepconv2_act (Activation (None, 36, 36, 256)  0           block3_sepconv1_bn[0][0]         \n",
            "__________________________________________________________________________________________________\n",
            "block3_sepconv2 (SeparableConv2 (None, 36, 36, 256)  67840       block3_sepconv2_act[0][0]        \n",
            "__________________________________________________________________________________________________\n",
            "block3_sepconv2_bn (BatchNormal (None, 36, 36, 256)  1024        block3_sepconv2[0][0]            \n",
            "__________________________________________________________________________________________________\n",
            "conv2d_2 (Conv2D)               (None, 18, 18, 256)  32768       add_1[0][0]                      \n",
            "__________________________________________________________________________________________________\n",
            "block3_pool (MaxPooling2D)      (None, 18, 18, 256)  0           block3_sepconv2_bn[0][0]         \n",
            "__________________________________________________________________________________________________\n",
            "batch_normalization_2 (BatchNor (None, 18, 18, 256)  1024        conv2d_2[0][0]                   \n",
            "__________________________________________________________________________________________________\n",
            "add_2 (Add)                     (None, 18, 18, 256)  0           block3_pool[0][0]                \n",
            "                                                                 batch_normalization_2[0][0]      \n",
            "__________________________________________________________________________________________________\n",
            "block4_sepconv1_act (Activation (None, 18, 18, 256)  0           add_2[0][0]                      \n",
            "__________________________________________________________________________________________________\n",
            "block4_sepconv1 (SeparableConv2 (None, 18, 18, 728)  188672      block4_sepconv1_act[0][0]        \n",
            "__________________________________________________________________________________________________\n",
            "block4_sepconv1_bn (BatchNormal (None, 18, 18, 728)  2912        block4_sepconv1[0][0]            \n",
            "__________________________________________________________________________________________________\n",
            "block4_sepconv2_act (Activation (None, 18, 18, 728)  0           block4_sepconv1_bn[0][0]         \n",
            "__________________________________________________________________________________________________\n",
            "block4_sepconv2 (SeparableConv2 (None, 18, 18, 728)  536536      block4_sepconv2_act[0][0]        \n",
            "__________________________________________________________________________________________________\n",
            "block4_sepconv2_bn (BatchNormal (None, 18, 18, 728)  2912        block4_sepconv2[0][0]            \n",
            "__________________________________________________________________________________________________\n",
            "conv2d_3 (Conv2D)               (None, 9, 9, 728)    186368      add_2[0][0]                      \n",
            "__________________________________________________________________________________________________\n",
            "block4_pool (MaxPooling2D)      (None, 9, 9, 728)    0           block4_sepconv2_bn[0][0]         \n",
            "__________________________________________________________________________________________________\n",
            "batch_normalization_3 (BatchNor (None, 9, 9, 728)    2912        conv2d_3[0][0]                   \n",
            "__________________________________________________________________________________________________\n",
            "add_3 (Add)                     (None, 9, 9, 728)    0           block4_pool[0][0]                \n",
            "                                                                 batch_normalization_3[0][0]      \n",
            "__________________________________________________________________________________________________\n",
            "block5_sepconv1_act (Activation (None, 9, 9, 728)    0           add_3[0][0]                      \n",
            "__________________________________________________________________________________________________\n",
            "block5_sepconv1 (SeparableConv2 (None, 9, 9, 728)    536536      block5_sepconv1_act[0][0]        \n",
            "__________________________________________________________________________________________________\n",
            "block5_sepconv1_bn (BatchNormal (None, 9, 9, 728)    2912        block5_sepconv1[0][0]            \n",
            "__________________________________________________________________________________________________\n",
            "block5_sepconv2_act (Activation (None, 9, 9, 728)    0           block5_sepconv1_bn[0][0]         \n",
            "__________________________________________________________________________________________________\n",
            "block5_sepconv2 (SeparableConv2 (None, 9, 9, 728)    536536      block5_sepconv2_act[0][0]        \n",
            "__________________________________________________________________________________________________\n",
            "block5_sepconv2_bn (BatchNormal (None, 9, 9, 728)    2912        block5_sepconv2[0][0]            \n",
            "__________________________________________________________________________________________________\n",
            "block5_sepconv3_act (Activation (None, 9, 9, 728)    0           block5_sepconv2_bn[0][0]         \n",
            "__________________________________________________________________________________________________\n",
            "block5_sepconv3 (SeparableConv2 (None, 9, 9, 728)    536536      block5_sepconv3_act[0][0]        \n",
            "__________________________________________________________________________________________________\n",
            "block5_sepconv3_bn (BatchNormal (None, 9, 9, 728)    2912        block5_sepconv3[0][0]            \n",
            "__________________________________________________________________________________________________\n",
            "add_4 (Add)                     (None, 9, 9, 728)    0           block5_sepconv3_bn[0][0]         \n",
            "                                                                 add_3[0][0]                      \n",
            "__________________________________________________________________________________________________\n",
            "block6_sepconv1_act (Activation (None, 9, 9, 728)    0           add_4[0][0]                      \n",
            "__________________________________________________________________________________________________\n",
            "block6_sepconv1 (SeparableConv2 (None, 9, 9, 728)    536536      block6_sepconv1_act[0][0]        \n",
            "__________________________________________________________________________________________________\n",
            "block6_sepconv1_bn (BatchNormal (None, 9, 9, 728)    2912        block6_sepconv1[0][0]            \n",
            "__________________________________________________________________________________________________\n",
            "block6_sepconv2_act (Activation (None, 9, 9, 728)    0           block6_sepconv1_bn[0][0]         \n",
            "__________________________________________________________________________________________________\n",
            "block6_sepconv2 (SeparableConv2 (None, 9, 9, 728)    536536      block6_sepconv2_act[0][0]        \n",
            "__________________________________________________________________________________________________\n",
            "block6_sepconv2_bn (BatchNormal (None, 9, 9, 728)    2912        block6_sepconv2[0][0]            \n",
            "__________________________________________________________________________________________________\n",
            "block6_sepconv3_act (Activation (None, 9, 9, 728)    0           block6_sepconv2_bn[0][0]         \n",
            "__________________________________________________________________________________________________\n",
            "block6_sepconv3 (SeparableConv2 (None, 9, 9, 728)    536536      block6_sepconv3_act[0][0]        \n",
            "__________________________________________________________________________________________________\n",
            "block6_sepconv3_bn (BatchNormal (None, 9, 9, 728)    2912        block6_sepconv3[0][0]            \n",
            "__________________________________________________________________________________________________\n",
            "add_5 (Add)                     (None, 9, 9, 728)    0           block6_sepconv3_bn[0][0]         \n",
            "                                                                 add_4[0][0]                      \n",
            "__________________________________________________________________________________________________\n",
            "block7_sepconv1_act (Activation (None, 9, 9, 728)    0           add_5[0][0]                      \n",
            "__________________________________________________________________________________________________\n",
            "block7_sepconv1 (SeparableConv2 (None, 9, 9, 728)    536536      block7_sepconv1_act[0][0]        \n",
            "__________________________________________________________________________________________________\n",
            "block7_sepconv1_bn (BatchNormal (None, 9, 9, 728)    2912        block7_sepconv1[0][0]            \n",
            "__________________________________________________________________________________________________\n",
            "block7_sepconv2_act (Activation (None, 9, 9, 728)    0           block7_sepconv1_bn[0][0]         \n",
            "__________________________________________________________________________________________________\n",
            "block7_sepconv2 (SeparableConv2 (None, 9, 9, 728)    536536      block7_sepconv2_act[0][0]        \n",
            "__________________________________________________________________________________________________\n",
            "block7_sepconv2_bn (BatchNormal (None, 9, 9, 728)    2912        block7_sepconv2[0][0]            \n",
            "__________________________________________________________________________________________________\n",
            "block7_sepconv3_act (Activation (None, 9, 9, 728)    0           block7_sepconv2_bn[0][0]         \n",
            "__________________________________________________________________________________________________\n",
            "block7_sepconv3 (SeparableConv2 (None, 9, 9, 728)    536536      block7_sepconv3_act[0][0]        \n",
            "__________________________________________________________________________________________________\n",
            "block7_sepconv3_bn (BatchNormal (None, 9, 9, 728)    2912        block7_sepconv3[0][0]            \n",
            "__________________________________________________________________________________________________\n",
            "add_6 (Add)                     (None, 9, 9, 728)    0           block7_sepconv3_bn[0][0]         \n",
            "                                                                 add_5[0][0]                      \n",
            "__________________________________________________________________________________________________\n",
            "block8_sepconv1_act (Activation (None, 9, 9, 728)    0           add_6[0][0]                      \n",
            "__________________________________________________________________________________________________\n",
            "block8_sepconv1 (SeparableConv2 (None, 9, 9, 728)    536536      block8_sepconv1_act[0][0]        \n",
            "__________________________________________________________________________________________________\n",
            "block8_sepconv1_bn (BatchNormal (None, 9, 9, 728)    2912        block8_sepconv1[0][0]            \n",
            "__________________________________________________________________________________________________\n",
            "block8_sepconv2_act (Activation (None, 9, 9, 728)    0           block8_sepconv1_bn[0][0]         \n",
            "__________________________________________________________________________________________________\n",
            "block8_sepconv2 (SeparableConv2 (None, 9, 9, 728)    536536      block8_sepconv2_act[0][0]        \n",
            "__________________________________________________________________________________________________\n",
            "block8_sepconv2_bn (BatchNormal (None, 9, 9, 728)    2912        block8_sepconv2[0][0]            \n",
            "__________________________________________________________________________________________________\n",
            "block8_sepconv3_act (Activation (None, 9, 9, 728)    0           block8_sepconv2_bn[0][0]         \n",
            "__________________________________________________________________________________________________\n",
            "block8_sepconv3 (SeparableConv2 (None, 9, 9, 728)    536536      block8_sepconv3_act[0][0]        \n",
            "__________________________________________________________________________________________________\n",
            "block8_sepconv3_bn (BatchNormal (None, 9, 9, 728)    2912        block8_sepconv3[0][0]            \n",
            "__________________________________________________________________________________________________\n",
            "add_7 (Add)                     (None, 9, 9, 728)    0           block8_sepconv3_bn[0][0]         \n",
            "                                                                 add_6[0][0]                      \n",
            "__________________________________________________________________________________________________\n",
            "block9_sepconv1_act (Activation (None, 9, 9, 728)    0           add_7[0][0]                      \n",
            "__________________________________________________________________________________________________\n",
            "block9_sepconv1 (SeparableConv2 (None, 9, 9, 728)    536536      block9_sepconv1_act[0][0]        \n",
            "__________________________________________________________________________________________________\n",
            "block9_sepconv1_bn (BatchNormal (None, 9, 9, 728)    2912        block9_sepconv1[0][0]            \n",
            "__________________________________________________________________________________________________\n",
            "block9_sepconv2_act (Activation (None, 9, 9, 728)    0           block9_sepconv1_bn[0][0]         \n",
            "__________________________________________________________________________________________________\n",
            "block9_sepconv2 (SeparableConv2 (None, 9, 9, 728)    536536      block9_sepconv2_act[0][0]        \n",
            "__________________________________________________________________________________________________\n",
            "block9_sepconv2_bn (BatchNormal (None, 9, 9, 728)    2912        block9_sepconv2[0][0]            \n",
            "__________________________________________________________________________________________________\n",
            "block9_sepconv3_act (Activation (None, 9, 9, 728)    0           block9_sepconv2_bn[0][0]         \n",
            "__________________________________________________________________________________________________\n",
            "block9_sepconv3 (SeparableConv2 (None, 9, 9, 728)    536536      block9_sepconv3_act[0][0]        \n",
            "__________________________________________________________________________________________________\n",
            "block9_sepconv3_bn (BatchNormal (None, 9, 9, 728)    2912        block9_sepconv3[0][0]            \n",
            "__________________________________________________________________________________________________\n",
            "add_8 (Add)                     (None, 9, 9, 728)    0           block9_sepconv3_bn[0][0]         \n",
            "                                                                 add_7[0][0]                      \n",
            "__________________________________________________________________________________________________\n",
            "block10_sepconv1_act (Activatio (None, 9, 9, 728)    0           add_8[0][0]                      \n",
            "__________________________________________________________________________________________________\n",
            "block10_sepconv1 (SeparableConv (None, 9, 9, 728)    536536      block10_sepconv1_act[0][0]       \n",
            "__________________________________________________________________________________________________\n",
            "block10_sepconv1_bn (BatchNorma (None, 9, 9, 728)    2912        block10_sepconv1[0][0]           \n",
            "__________________________________________________________________________________________________\n",
            "block10_sepconv2_act (Activatio (None, 9, 9, 728)    0           block10_sepconv1_bn[0][0]        \n",
            "__________________________________________________________________________________________________\n",
            "block10_sepconv2 (SeparableConv (None, 9, 9, 728)    536536      block10_sepconv2_act[0][0]       \n",
            "__________________________________________________________________________________________________\n",
            "block10_sepconv2_bn (BatchNorma (None, 9, 9, 728)    2912        block10_sepconv2[0][0]           \n",
            "__________________________________________________________________________________________________\n",
            "block10_sepconv3_act (Activatio (None, 9, 9, 728)    0           block10_sepconv2_bn[0][0]        \n",
            "__________________________________________________________________________________________________\n",
            "block10_sepconv3 (SeparableConv (None, 9, 9, 728)    536536      block10_sepconv3_act[0][0]       \n",
            "__________________________________________________________________________________________________\n",
            "block10_sepconv3_bn (BatchNorma (None, 9, 9, 728)    2912        block10_sepconv3[0][0]           \n",
            "__________________________________________________________________________________________________\n",
            "add_9 (Add)                     (None, 9, 9, 728)    0           block10_sepconv3_bn[0][0]        \n",
            "                                                                 add_8[0][0]                      \n",
            "__________________________________________________________________________________________________\n",
            "block11_sepconv1_act (Activatio (None, 9, 9, 728)    0           add_9[0][0]                      \n",
            "__________________________________________________________________________________________________\n",
            "block11_sepconv1 (SeparableConv (None, 9, 9, 728)    536536      block11_sepconv1_act[0][0]       \n",
            "__________________________________________________________________________________________________\n",
            "block11_sepconv1_bn (BatchNorma (None, 9, 9, 728)    2912        block11_sepconv1[0][0]           \n",
            "__________________________________________________________________________________________________\n",
            "block11_sepconv2_act (Activatio (None, 9, 9, 728)    0           block11_sepconv1_bn[0][0]        \n",
            "__________________________________________________________________________________________________\n",
            "block11_sepconv2 (SeparableConv (None, 9, 9, 728)    536536      block11_sepconv2_act[0][0]       \n",
            "__________________________________________________________________________________________________\n",
            "block11_sepconv2_bn (BatchNorma (None, 9, 9, 728)    2912        block11_sepconv2[0][0]           \n",
            "__________________________________________________________________________________________________\n",
            "block11_sepconv3_act (Activatio (None, 9, 9, 728)    0           block11_sepconv2_bn[0][0]        \n",
            "__________________________________________________________________________________________________\n",
            "block11_sepconv3 (SeparableConv (None, 9, 9, 728)    536536      block11_sepconv3_act[0][0]       \n",
            "__________________________________________________________________________________________________\n",
            "block11_sepconv3_bn (BatchNorma (None, 9, 9, 728)    2912        block11_sepconv3[0][0]           \n",
            "__________________________________________________________________________________________________\n",
            "add_10 (Add)                    (None, 9, 9, 728)    0           block11_sepconv3_bn[0][0]        \n",
            "                                                                 add_9[0][0]                      \n",
            "__________________________________________________________________________________________________\n",
            "block12_sepconv1_act (Activatio (None, 9, 9, 728)    0           add_10[0][0]                     \n",
            "__________________________________________________________________________________________________\n",
            "block12_sepconv1 (SeparableConv (None, 9, 9, 728)    536536      block12_sepconv1_act[0][0]       \n",
            "__________________________________________________________________________________________________\n",
            "block12_sepconv1_bn (BatchNorma (None, 9, 9, 728)    2912        block12_sepconv1[0][0]           \n",
            "__________________________________________________________________________________________________\n",
            "block12_sepconv2_act (Activatio (None, 9, 9, 728)    0           block12_sepconv1_bn[0][0]        \n",
            "__________________________________________________________________________________________________\n",
            "block12_sepconv2 (SeparableConv (None, 9, 9, 728)    536536      block12_sepconv2_act[0][0]       \n",
            "__________________________________________________________________________________________________\n",
            "block12_sepconv2_bn (BatchNorma (None, 9, 9, 728)    2912        block12_sepconv2[0][0]           \n",
            "__________________________________________________________________________________________________\n",
            "block12_sepconv3_act (Activatio (None, 9, 9, 728)    0           block12_sepconv2_bn[0][0]        \n",
            "__________________________________________________________________________________________________\n",
            "block12_sepconv3 (SeparableConv (None, 9, 9, 728)    536536      block12_sepconv3_act[0][0]       \n",
            "__________________________________________________________________________________________________\n",
            "block12_sepconv3_bn (BatchNorma (None, 9, 9, 728)    2912        block12_sepconv3[0][0]           \n",
            "__________________________________________________________________________________________________\n",
            "add_11 (Add)                    (None, 9, 9, 728)    0           block12_sepconv3_bn[0][0]        \n",
            "                                                                 add_10[0][0]                     \n",
            "__________________________________________________________________________________________________\n",
            "block13_sepconv1_act (Activatio (None, 9, 9, 728)    0           add_11[0][0]                     \n",
            "__________________________________________________________________________________________________\n",
            "block13_sepconv1 (SeparableConv (None, 9, 9, 728)    536536      block13_sepconv1_act[0][0]       \n",
            "__________________________________________________________________________________________________\n",
            "block13_sepconv1_bn (BatchNorma (None, 9, 9, 728)    2912        block13_sepconv1[0][0]           \n",
            "__________________________________________________________________________________________________\n",
            "block13_sepconv2_act (Activatio (None, 9, 9, 728)    0           block13_sepconv1_bn[0][0]        \n",
            "__________________________________________________________________________________________________\n",
            "block13_sepconv2 (SeparableConv (None, 9, 9, 1024)   752024      block13_sepconv2_act[0][0]       \n",
            "__________________________________________________________________________________________________\n",
            "block13_sepconv2_bn (BatchNorma (None, 9, 9, 1024)   4096        block13_sepconv2[0][0]           \n",
            "__________________________________________________________________________________________________\n",
            "conv2d_4 (Conv2D)               (None, 5, 5, 1024)   745472      add_11[0][0]                     \n",
            "__________________________________________________________________________________________________\n",
            "block13_pool (MaxPooling2D)     (None, 5, 5, 1024)   0           block13_sepconv2_bn[0][0]        \n",
            "__________________________________________________________________________________________________\n",
            "batch_normalization_4 (BatchNor (None, 5, 5, 1024)   4096        conv2d_4[0][0]                   \n",
            "__________________________________________________________________________________________________\n",
            "add_12 (Add)                    (None, 5, 5, 1024)   0           block13_pool[0][0]               \n",
            "                                                                 batch_normalization_4[0][0]      \n",
            "__________________________________________________________________________________________________\n",
            "block14_sepconv1 (SeparableConv (None, 5, 5, 1536)   1582080     add_12[0][0]                     \n",
            "__________________________________________________________________________________________________\n",
            "block14_sepconv1_bn (BatchNorma (None, 5, 5, 1536)   6144        block14_sepconv1[0][0]           \n",
            "__________________________________________________________________________________________________\n",
            "block14_sepconv1_act (Activatio (None, 5, 5, 1536)   0           block14_sepconv1_bn[0][0]        \n",
            "__________________________________________________________________________________________________\n",
            "block14_sepconv2 (SeparableConv (None, 5, 5, 2048)   3159552     block14_sepconv1_act[0][0]       \n",
            "__________________________________________________________________________________________________\n",
            "block14_sepconv2_bn (BatchNorma (None, 5, 5, 2048)   8192        block14_sepconv2[0][0]           \n",
            "__________________________________________________________________________________________________\n",
            "block14_sepconv2_act (Activatio (None, 5, 5, 2048)   0           block14_sepconv2_bn[0][0]        \n",
            "==================================================================================================\n",
            "Total params: 20,861,480\n",
            "Trainable params: 20,806,952\n",
            "Non-trainable params: 54,528\n",
            "__________________________________________________________________________________________________\n"
          ],
          "name": "stdout"
        }
      ]
    },
    {
      "cell_type": "markdown",
      "metadata": {
        "id": "5LedieBG_JYK",
        "colab_type": "text"
      },
      "source": [
        "As the summary shows, the CNN has many of its own trainable parameters. However, since it has already been trained, we do not want to retrain it along with the classifier. Luckily, both components can be trained independently by changing the `trainable` property of the CNN. This freezes the layers of the CNN so they are not trained along with the rest of the model."
      ]
    },
    {
      "cell_type": "code",
      "metadata": {
        "id": "8dZtbqq0BmX4",
        "colab_type": "code",
        "colab": {}
      },
      "source": [
        "conv_base.trainable = False"
      ],
      "execution_count": 0,
      "outputs": []
    },
    {
      "cell_type": "markdown",
      "metadata": {
        "id": "KcR5Lh1IB5xf",
        "colab_type": "text"
      },
      "source": [
        "The CNN can be added into a model just like any other layer:"
      ]
    },
    {
      "cell_type": "code",
      "metadata": {
        "id": "9FpW7nelB97H",
        "colab_type": "code",
        "colab": {
          "base_uri": "https://localhost:8080/",
          "height": 289
        },
        "outputId": "c963bc3d-c552-4e11-da5d-a0e939653085"
      },
      "source": [
        "from keras import layers\n",
        "from keras import models\n",
        "from keras import optimizers\n",
        "\n",
        "model = models.Sequential()\n",
        "model.add(conv_base)\n",
        "model.add(layers.Flatten())\n",
        "model.add(layers.Dense(256, activation='relu'))\n",
        "model.add(layers.Dense(1, activation='sigmoid'))\n",
        "\n",
        "model.summary()"
      ],
      "execution_count": 10,
      "outputs": [
        {
          "output_type": "stream",
          "text": [
            "Model: \"sequential_1\"\n",
            "_________________________________________________________________\n",
            "Layer (type)                 Output Shape              Param #   \n",
            "=================================================================\n",
            "xception (Model)             (None, 5, 5, 2048)        20861480  \n",
            "_________________________________________________________________\n",
            "flatten_1 (Flatten)          (None, 51200)             0         \n",
            "_________________________________________________________________\n",
            "dense_1 (Dense)              (None, 256)               13107456  \n",
            "_________________________________________________________________\n",
            "dense_2 (Dense)              (None, 1)                 257       \n",
            "=================================================================\n",
            "Total params: 33,969,193\n",
            "Trainable params: 13,107,713\n",
            "Non-trainable params: 20,861,480\n",
            "_________________________________________________________________\n"
          ],
          "name": "stdout"
        }
      ]
    },
    {
      "cell_type": "markdown",
      "metadata": {
        "id": "Ij0jx51FCrq_",
        "colab_type": "text"
      },
      "source": [
        "If we wish to fine tune the CNN, we can unfreeze some layers to make them trainable. We have complete control to choose which layers are trainable. For fine tuning, it is often better to unfreeze the higher-level layers (the ones closer to the end)."
      ]
    },
    {
      "cell_type": "code",
      "metadata": {
        "id": "r68d7SihCTqi",
        "colab_type": "code",
        "colab": {
          "base_uri": "https://localhost:8080/",
          "height": 1000
        },
        "outputId": "5c9ccfcd-0b0e-4463-da09-341d577464a4"
      },
      "source": [
        "conv_base.trainable = True\n",
        "\n",
        "set_trainable = False\n",
        "for layer in conv_base.layers:\n",
        "  if layer.name == 'add_11':\n",
        "    set_trainable = True\n",
        "  if set_trainable:\n",
        "    layer.trainable = True\n",
        "    print(layer.name + \"\\t\\t\\tTrainable\")\n",
        "  else:\n",
        "    layer.trainable = False\n",
        "    print(layer.name + \"\\t\\t\\tUntrainable\")"
      ],
      "execution_count": 11,
      "outputs": [
        {
          "output_type": "stream",
          "text": [
            "input_1\t\t\tUntrainable\n",
            "block1_conv1\t\t\tUntrainable\n",
            "block1_conv1_bn\t\t\tUntrainable\n",
            "block1_conv1_act\t\t\tUntrainable\n",
            "block1_conv2\t\t\tUntrainable\n",
            "block1_conv2_bn\t\t\tUntrainable\n",
            "block1_conv2_act\t\t\tUntrainable\n",
            "block2_sepconv1\t\t\tUntrainable\n",
            "block2_sepconv1_bn\t\t\tUntrainable\n",
            "block2_sepconv2_act\t\t\tUntrainable\n",
            "block2_sepconv2\t\t\tUntrainable\n",
            "block2_sepconv2_bn\t\t\tUntrainable\n",
            "conv2d_1\t\t\tUntrainable\n",
            "block2_pool\t\t\tUntrainable\n",
            "batch_normalization_1\t\t\tUntrainable\n",
            "add_1\t\t\tUntrainable\n",
            "block3_sepconv1_act\t\t\tUntrainable\n",
            "block3_sepconv1\t\t\tUntrainable\n",
            "block3_sepconv1_bn\t\t\tUntrainable\n",
            "block3_sepconv2_act\t\t\tUntrainable\n",
            "block3_sepconv2\t\t\tUntrainable\n",
            "block3_sepconv2_bn\t\t\tUntrainable\n",
            "conv2d_2\t\t\tUntrainable\n",
            "block3_pool\t\t\tUntrainable\n",
            "batch_normalization_2\t\t\tUntrainable\n",
            "add_2\t\t\tUntrainable\n",
            "block4_sepconv1_act\t\t\tUntrainable\n",
            "block4_sepconv1\t\t\tUntrainable\n",
            "block4_sepconv1_bn\t\t\tUntrainable\n",
            "block4_sepconv2_act\t\t\tUntrainable\n",
            "block4_sepconv2\t\t\tUntrainable\n",
            "block4_sepconv2_bn\t\t\tUntrainable\n",
            "conv2d_3\t\t\tUntrainable\n",
            "block4_pool\t\t\tUntrainable\n",
            "batch_normalization_3\t\t\tUntrainable\n",
            "add_3\t\t\tUntrainable\n",
            "block5_sepconv1_act\t\t\tUntrainable\n",
            "block5_sepconv1\t\t\tUntrainable\n",
            "block5_sepconv1_bn\t\t\tUntrainable\n",
            "block5_sepconv2_act\t\t\tUntrainable\n",
            "block5_sepconv2\t\t\tUntrainable\n",
            "block5_sepconv2_bn\t\t\tUntrainable\n",
            "block5_sepconv3_act\t\t\tUntrainable\n",
            "block5_sepconv3\t\t\tUntrainable\n",
            "block5_sepconv3_bn\t\t\tUntrainable\n",
            "add_4\t\t\tUntrainable\n",
            "block6_sepconv1_act\t\t\tUntrainable\n",
            "block6_sepconv1\t\t\tUntrainable\n",
            "block6_sepconv1_bn\t\t\tUntrainable\n",
            "block6_sepconv2_act\t\t\tUntrainable\n",
            "block6_sepconv2\t\t\tUntrainable\n",
            "block6_sepconv2_bn\t\t\tUntrainable\n",
            "block6_sepconv3_act\t\t\tUntrainable\n",
            "block6_sepconv3\t\t\tUntrainable\n",
            "block6_sepconv3_bn\t\t\tUntrainable\n",
            "add_5\t\t\tUntrainable\n",
            "block7_sepconv1_act\t\t\tUntrainable\n",
            "block7_sepconv1\t\t\tUntrainable\n",
            "block7_sepconv1_bn\t\t\tUntrainable\n",
            "block7_sepconv2_act\t\t\tUntrainable\n",
            "block7_sepconv2\t\t\tUntrainable\n",
            "block7_sepconv2_bn\t\t\tUntrainable\n",
            "block7_sepconv3_act\t\t\tUntrainable\n",
            "block7_sepconv3\t\t\tUntrainable\n",
            "block7_sepconv3_bn\t\t\tUntrainable\n",
            "add_6\t\t\tUntrainable\n",
            "block8_sepconv1_act\t\t\tUntrainable\n",
            "block8_sepconv1\t\t\tUntrainable\n",
            "block8_sepconv1_bn\t\t\tUntrainable\n",
            "block8_sepconv2_act\t\t\tUntrainable\n",
            "block8_sepconv2\t\t\tUntrainable\n",
            "block8_sepconv2_bn\t\t\tUntrainable\n",
            "block8_sepconv3_act\t\t\tUntrainable\n",
            "block8_sepconv3\t\t\tUntrainable\n",
            "block8_sepconv3_bn\t\t\tUntrainable\n",
            "add_7\t\t\tUntrainable\n",
            "block9_sepconv1_act\t\t\tUntrainable\n",
            "block9_sepconv1\t\t\tUntrainable\n",
            "block9_sepconv1_bn\t\t\tUntrainable\n",
            "block9_sepconv2_act\t\t\tUntrainable\n",
            "block9_sepconv2\t\t\tUntrainable\n",
            "block9_sepconv2_bn\t\t\tUntrainable\n",
            "block9_sepconv3_act\t\t\tUntrainable\n",
            "block9_sepconv3\t\t\tUntrainable\n",
            "block9_sepconv3_bn\t\t\tUntrainable\n",
            "add_8\t\t\tUntrainable\n",
            "block10_sepconv1_act\t\t\tUntrainable\n",
            "block10_sepconv1\t\t\tUntrainable\n",
            "block10_sepconv1_bn\t\t\tUntrainable\n",
            "block10_sepconv2_act\t\t\tUntrainable\n",
            "block10_sepconv2\t\t\tUntrainable\n",
            "block10_sepconv2_bn\t\t\tUntrainable\n",
            "block10_sepconv3_act\t\t\tUntrainable\n",
            "block10_sepconv3\t\t\tUntrainable\n",
            "block10_sepconv3_bn\t\t\tUntrainable\n",
            "add_9\t\t\tUntrainable\n",
            "block11_sepconv1_act\t\t\tUntrainable\n",
            "block11_sepconv1\t\t\tUntrainable\n",
            "block11_sepconv1_bn\t\t\tUntrainable\n",
            "block11_sepconv2_act\t\t\tUntrainable\n",
            "block11_sepconv2\t\t\tUntrainable\n",
            "block11_sepconv2_bn\t\t\tUntrainable\n",
            "block11_sepconv3_act\t\t\tUntrainable\n",
            "block11_sepconv3\t\t\tUntrainable\n",
            "block11_sepconv3_bn\t\t\tUntrainable\n",
            "add_10\t\t\tUntrainable\n",
            "block12_sepconv1_act\t\t\tUntrainable\n",
            "block12_sepconv1\t\t\tUntrainable\n",
            "block12_sepconv1_bn\t\t\tUntrainable\n",
            "block12_sepconv2_act\t\t\tUntrainable\n",
            "block12_sepconv2\t\t\tUntrainable\n",
            "block12_sepconv2_bn\t\t\tUntrainable\n",
            "block12_sepconv3_act\t\t\tUntrainable\n",
            "block12_sepconv3\t\t\tUntrainable\n",
            "block12_sepconv3_bn\t\t\tUntrainable\n",
            "add_11\t\t\tTrainable\n",
            "block13_sepconv1_act\t\t\tTrainable\n",
            "block13_sepconv1\t\t\tTrainable\n",
            "block13_sepconv1_bn\t\t\tTrainable\n",
            "block13_sepconv2_act\t\t\tTrainable\n",
            "block13_sepconv2\t\t\tTrainable\n",
            "block13_sepconv2_bn\t\t\tTrainable\n",
            "conv2d_4\t\t\tTrainable\n",
            "block13_pool\t\t\tTrainable\n",
            "batch_normalization_4\t\t\tTrainable\n",
            "add_12\t\t\tTrainable\n",
            "block14_sepconv1\t\t\tTrainable\n",
            "block14_sepconv1_bn\t\t\tTrainable\n",
            "block14_sepconv1_act\t\t\tTrainable\n",
            "block14_sepconv2\t\t\tTrainable\n",
            "block14_sepconv2_bn\t\t\tTrainable\n",
            "block14_sepconv2_act\t\t\tTrainable\n"
          ],
          "name": "stdout"
        }
      ]
    },
    {
      "cell_type": "markdown",
      "metadata": {
        "id": "fvPflWJJGOgT",
        "colab_type": "text"
      },
      "source": [
        "##Other Concepts"
      ]
    },
    {
      "cell_type": "markdown",
      "metadata": {
        "id": "f7rqLUPiGaON",
        "colab_type": "text"
      },
      "source": [
        "In addition to the concepts of machine learning described above, I also gained a lot of experience and knowledge in other topics and skills. This course was one of my first experiences working extensively with Python. Luckily, Python is quite an easy language to pick up and start doing impressive things with.\n",
        "\n",
        "I was also introduced to Google Colaboratory. This service is great for learning AI and machine learning, since developers are able to take advantage of Google's processing resources rather than relying on their own hardware. If I had not had access to Google Colab, completing the assignments for this course would have taken much longer.\n",
        "\n",
        "This course also made me familiar with $\\LaTeX$, a document markup language widely used in acedemia. It was very helpful for formatting the mathematical figures used in my Colab notebooks, including this one.\n",
        "\n",
        "Plain text:\n",
        "```\n",
        "$$\\nabla{L} = \\begin{bmatrix} {\\partial L}/{\\partial w_1} \\\\ {\\partial L}/{\\partial w_2} \\\\ ... \\\\ {\\partial L}/{\\partial w_n}\\end{bmatrix}$$\n",
        "```\n",
        "\n",
        "LaTeX: $$\\nabla{L} = \\begin{bmatrix} {\\partial L}/{\\partial w_1} \\\\ {\\partial L}/{\\partial w_2} \\\\ ... \\\\ {\\partial L}/{\\partial w_n}\\end{bmatrix}$$"
      ]
    }
  ]
}